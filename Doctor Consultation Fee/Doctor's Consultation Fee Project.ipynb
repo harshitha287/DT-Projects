{
 "cells": [
  {
   "cell_type": "code",
   "execution_count": 1,
   "id": "1c9539b7",
   "metadata": {},
   "outputs": [],
   "source": [
    "#Importing Libraries"
   ]
  },
  {
   "cell_type": "code",
   "execution_count": 2,
   "id": "edfd2548",
   "metadata": {},
   "outputs": [],
   "source": [
    "import pandas as pd\n",
    "import numpy as np\n",
    "import matplotlib.pyplot as plt\n",
    "import seaborn as sns\n",
    "import warnings\n",
    "warnings.filterwarnings('ignore')"
   ]
  },
  {
   "cell_type": "code",
   "execution_count": 3,
   "id": "bad0cb69",
   "metadata": {},
   "outputs": [],
   "source": [
    "#Importing Train and Test Datasets"
   ]
  },
  {
   "cell_type": "code",
   "execution_count": 4,
   "id": "af227827",
   "metadata": {},
   "outputs": [],
   "source": [
    "train= pd.read_excel(r'C:\\Users\\Harshitha\\Desktop\\Data Trained\\Projects\\Final Participant Data Folder\\Final_train.xlsx')"
   ]
  },
  {
   "cell_type": "code",
   "execution_count": 5,
   "id": "09084b00",
   "metadata": {},
   "outputs": [
    {
     "data": {
      "text/html": [
       "<div>\n",
       "<style scoped>\n",
       "    .dataframe tbody tr th:only-of-type {\n",
       "        vertical-align: middle;\n",
       "    }\n",
       "\n",
       "    .dataframe tbody tr th {\n",
       "        vertical-align: top;\n",
       "    }\n",
       "\n",
       "    .dataframe thead th {\n",
       "        text-align: right;\n",
       "    }\n",
       "</style>\n",
       "<table border=\"1\" class=\"dataframe\">\n",
       "  <thead>\n",
       "    <tr style=\"text-align: right;\">\n",
       "      <th></th>\n",
       "      <th>Qualification</th>\n",
       "      <th>Experience</th>\n",
       "      <th>Rating</th>\n",
       "      <th>Place</th>\n",
       "      <th>Profile</th>\n",
       "      <th>Miscellaneous_Info</th>\n",
       "      <th>Fees</th>\n",
       "    </tr>\n",
       "  </thead>\n",
       "  <tbody>\n",
       "    <tr>\n",
       "      <th>0</th>\n",
       "      <td>BHMS, MD - Homeopathy</td>\n",
       "      <td>24 years experience</td>\n",
       "      <td>100%</td>\n",
       "      <td>Kakkanad, Ernakulam</td>\n",
       "      <td>Homeopath</td>\n",
       "      <td>100% 16 Feedback Kakkanad, Ernakulam</td>\n",
       "      <td>100</td>\n",
       "    </tr>\n",
       "    <tr>\n",
       "      <th>1</th>\n",
       "      <td>BAMS, MD - Ayurveda Medicine</td>\n",
       "      <td>12 years experience</td>\n",
       "      <td>98%</td>\n",
       "      <td>Whitefield, Bangalore</td>\n",
       "      <td>Ayurveda</td>\n",
       "      <td>98% 76 Feedback Whitefield, Bangalore</td>\n",
       "      <td>350</td>\n",
       "    </tr>\n",
       "    <tr>\n",
       "      <th>2</th>\n",
       "      <td>MBBS, MS - Otorhinolaryngology</td>\n",
       "      <td>9 years experience</td>\n",
       "      <td>NaN</td>\n",
       "      <td>Mathikere - BEL, Bangalore</td>\n",
       "      <td>ENT Specialist</td>\n",
       "      <td>NaN</td>\n",
       "      <td>300</td>\n",
       "    </tr>\n",
       "    <tr>\n",
       "      <th>3</th>\n",
       "      <td>BSc - Zoology, BAMS</td>\n",
       "      <td>12 years experience</td>\n",
       "      <td>NaN</td>\n",
       "      <td>Bannerghatta Road, Bangalore</td>\n",
       "      <td>Ayurveda</td>\n",
       "      <td>Bannerghatta Road, Bangalore ₹250 Available on...</td>\n",
       "      <td>250</td>\n",
       "    </tr>\n",
       "    <tr>\n",
       "      <th>4</th>\n",
       "      <td>BAMS</td>\n",
       "      <td>20 years experience</td>\n",
       "      <td>100%</td>\n",
       "      <td>Keelkattalai, Chennai</td>\n",
       "      <td>Ayurveda</td>\n",
       "      <td>100% 4 Feedback Keelkattalai, Chennai</td>\n",
       "      <td>250</td>\n",
       "    </tr>\n",
       "  </tbody>\n",
       "</table>\n",
       "</div>"
      ],
      "text/plain": [
       "                    Qualification           Experience Rating  \\\n",
       "0           BHMS, MD - Homeopathy  24 years experience   100%   \n",
       "1    BAMS, MD - Ayurveda Medicine  12 years experience    98%   \n",
       "2  MBBS, MS - Otorhinolaryngology   9 years experience    NaN   \n",
       "3             BSc - Zoology, BAMS  12 years experience    NaN   \n",
       "4                            BAMS  20 years experience   100%   \n",
       "\n",
       "                          Place         Profile  \\\n",
       "0           Kakkanad, Ernakulam       Homeopath   \n",
       "1         Whitefield, Bangalore        Ayurveda   \n",
       "2    Mathikere - BEL, Bangalore  ENT Specialist   \n",
       "3  Bannerghatta Road, Bangalore        Ayurveda   \n",
       "4         Keelkattalai, Chennai        Ayurveda   \n",
       "\n",
       "                                  Miscellaneous_Info  Fees  \n",
       "0               100% 16 Feedback Kakkanad, Ernakulam   100  \n",
       "1              98% 76 Feedback Whitefield, Bangalore   350  \n",
       "2                                                NaN   300  \n",
       "3  Bannerghatta Road, Bangalore ₹250 Available on...   250  \n",
       "4              100% 4 Feedback Keelkattalai, Chennai   250  "
      ]
     },
     "execution_count": 5,
     "metadata": {},
     "output_type": "execute_result"
    }
   ],
   "source": [
    "train.head()"
   ]
  },
  {
   "cell_type": "code",
   "execution_count": 6,
   "id": "0ea42efc",
   "metadata": {},
   "outputs": [],
   "source": [
    "test= pd.read_excel(r'C:\\Users\\Harshitha\\Desktop\\Data Trained\\Projects\\Final Participant Data Folder\\Final_test.xlsx')"
   ]
  },
  {
   "cell_type": "code",
   "execution_count": 7,
   "id": "78132a15",
   "metadata": {},
   "outputs": [
    {
     "data": {
      "text/html": [
       "<div>\n",
       "<style scoped>\n",
       "    .dataframe tbody tr th:only-of-type {\n",
       "        vertical-align: middle;\n",
       "    }\n",
       "\n",
       "    .dataframe tbody tr th {\n",
       "        vertical-align: top;\n",
       "    }\n",
       "\n",
       "    .dataframe thead th {\n",
       "        text-align: right;\n",
       "    }\n",
       "</style>\n",
       "<table border=\"1\" class=\"dataframe\">\n",
       "  <thead>\n",
       "    <tr style=\"text-align: right;\">\n",
       "      <th></th>\n",
       "      <th>Qualification</th>\n",
       "      <th>Experience</th>\n",
       "      <th>Rating</th>\n",
       "      <th>Place</th>\n",
       "      <th>Profile</th>\n",
       "      <th>Miscellaneous_Info</th>\n",
       "    </tr>\n",
       "  </thead>\n",
       "  <tbody>\n",
       "    <tr>\n",
       "      <th>0</th>\n",
       "      <td>MBBS</td>\n",
       "      <td>35 years experience</td>\n",
       "      <td>NaN</td>\n",
       "      <td>Ghatkopar East, Mumbai</td>\n",
       "      <td>General Medicine</td>\n",
       "      <td>NaN</td>\n",
       "    </tr>\n",
       "    <tr>\n",
       "      <th>1</th>\n",
       "      <td>MBBS, Diploma in Otorhinolaryngology (DLO)</td>\n",
       "      <td>31 years experience</td>\n",
       "      <td>NaN</td>\n",
       "      <td>West Marredpally, Hyderabad</td>\n",
       "      <td>ENT Specialist</td>\n",
       "      <td>NaN</td>\n",
       "    </tr>\n",
       "    <tr>\n",
       "      <th>2</th>\n",
       "      <td>MBBS, DDVL</td>\n",
       "      <td>40 years experience</td>\n",
       "      <td>70%</td>\n",
       "      <td>KK Nagar, Chennai</td>\n",
       "      <td>Dermatologists</td>\n",
       "      <td>70% 4 Feedback KK Nagar, Chennai</td>\n",
       "    </tr>\n",
       "    <tr>\n",
       "      <th>3</th>\n",
       "      <td>BAMS</td>\n",
       "      <td>0 years experience</td>\n",
       "      <td>NaN</td>\n",
       "      <td>New Ashok Nagar, Delhi</td>\n",
       "      <td>Ayurveda</td>\n",
       "      <td>NaN</td>\n",
       "    </tr>\n",
       "    <tr>\n",
       "      <th>4</th>\n",
       "      <td>BDS, MDS - Conservative Dentistry &amp; Endodontics</td>\n",
       "      <td>16 years experience</td>\n",
       "      <td>100%</td>\n",
       "      <td>Kanakpura Road, Bangalore</td>\n",
       "      <td>Dentist</td>\n",
       "      <td>General Dentistry Conservative Dentistry Cosme...</td>\n",
       "    </tr>\n",
       "  </tbody>\n",
       "</table>\n",
       "</div>"
      ],
      "text/plain": [
       "                                     Qualification           Experience  \\\n",
       "0                                             MBBS  35 years experience   \n",
       "1       MBBS, Diploma in Otorhinolaryngology (DLO)  31 years experience   \n",
       "2                                       MBBS, DDVL  40 years experience   \n",
       "3                                             BAMS   0 years experience   \n",
       "4  BDS, MDS - Conservative Dentistry & Endodontics  16 years experience   \n",
       "\n",
       "  Rating                        Place           Profile  \\\n",
       "0    NaN       Ghatkopar East, Mumbai  General Medicine   \n",
       "1    NaN  West Marredpally, Hyderabad    ENT Specialist   \n",
       "2    70%            KK Nagar, Chennai    Dermatologists   \n",
       "3    NaN       New Ashok Nagar, Delhi          Ayurveda   \n",
       "4   100%    Kanakpura Road, Bangalore           Dentist   \n",
       "\n",
       "                                  Miscellaneous_Info  \n",
       "0                                                NaN  \n",
       "1                                                NaN  \n",
       "2                   70% 4 Feedback KK Nagar, Chennai  \n",
       "3                                                NaN  \n",
       "4  General Dentistry Conservative Dentistry Cosme...  "
      ]
     },
     "execution_count": 7,
     "metadata": {},
     "output_type": "execute_result"
    }
   ],
   "source": [
    "test.head()"
   ]
  },
  {
   "cell_type": "code",
   "execution_count": 8,
   "id": "c57add50",
   "metadata": {},
   "outputs": [
    {
     "data": {
      "text/plain": [
       "(5961, 7)"
      ]
     },
     "execution_count": 8,
     "metadata": {},
     "output_type": "execute_result"
    }
   ],
   "source": [
    "train.shape"
   ]
  },
  {
   "cell_type": "code",
   "execution_count": 9,
   "id": "aec8890d",
   "metadata": {},
   "outputs": [
    {
     "data": {
      "text/plain": [
       "(1987, 6)"
      ]
     },
     "execution_count": 9,
     "metadata": {},
     "output_type": "execute_result"
    }
   ],
   "source": [
    "test.shape"
   ]
  },
  {
   "cell_type": "code",
   "execution_count": 10,
   "id": "214c2e58",
   "metadata": {},
   "outputs": [],
   "source": [
    "#EDA"
   ]
  },
  {
   "cell_type": "code",
   "execution_count": 11,
   "id": "724f96dc",
   "metadata": {},
   "outputs": [
    {
     "data": {
      "text/plain": [
       "Index(['Qualification', 'Experience', 'Rating', 'Place', 'Profile',\n",
       "       'Miscellaneous_Info', 'Fees'],\n",
       "      dtype='object')"
      ]
     },
     "execution_count": 11,
     "metadata": {},
     "output_type": "execute_result"
    }
   ],
   "source": [
    "train.columns"
   ]
  },
  {
   "cell_type": "code",
   "execution_count": 12,
   "id": "6334d14f",
   "metadata": {},
   "outputs": [
    {
     "data": {
      "text/plain": [
       "Qualification         object\n",
       "Experience            object\n",
       "Rating                object\n",
       "Place                 object\n",
       "Profile               object\n",
       "Miscellaneous_Info    object\n",
       "Fees                   int64\n",
       "dtype: object"
      ]
     },
     "execution_count": 12,
     "metadata": {},
     "output_type": "execute_result"
    }
   ],
   "source": [
    "#lets check the data types\n",
    "train.dtypes"
   ]
  },
  {
   "cell_type": "code",
   "execution_count": 13,
   "id": "95c2eece",
   "metadata": {},
   "outputs": [],
   "source": [
    "# except the Fees columns all are of Object types."
   ]
  },
  {
   "cell_type": "code",
   "execution_count": 14,
   "id": "720d3ee8",
   "metadata": {},
   "outputs": [
    {
     "data": {
      "text/plain": [
       "Qualification            0\n",
       "Experience               0\n",
       "Rating                3302\n",
       "Place                   25\n",
       "Profile                  0\n",
       "Miscellaneous_Info    2620\n",
       "Fees                     0\n",
       "dtype: int64"
      ]
     },
     "execution_count": 14,
     "metadata": {},
     "output_type": "execute_result"
    }
   ],
   "source": [
    "#lets check the null value present in our data set\n",
    "train.isnull().sum()"
   ]
  },
  {
   "cell_type": "code",
   "execution_count": 15,
   "id": "e5e58e22",
   "metadata": {},
   "outputs": [],
   "source": [
    "#we can observe that out of total 5961 data there is 3302 data which is null in Rating columns. ** place columns having null value present 25 ** miscellaneous_info is having 2620 null values, lets drop this columns cause this columns doesnt has impact on my target variable."
   ]
  },
  {
   "cell_type": "code",
   "execution_count": 16,
   "id": "869697ae",
   "metadata": {},
   "outputs": [],
   "source": [
    "#lets drop Miscellaneous_Info\n",
    "train.drop(columns='Miscellaneous_Info',inplace=True)"
   ]
  },
  {
   "cell_type": "code",
   "execution_count": 17,
   "id": "50f6846e",
   "metadata": {},
   "outputs": [
    {
     "data": {
      "text/html": [
       "<div>\n",
       "<style scoped>\n",
       "    .dataframe tbody tr th:only-of-type {\n",
       "        vertical-align: middle;\n",
       "    }\n",
       "\n",
       "    .dataframe tbody tr th {\n",
       "        vertical-align: top;\n",
       "    }\n",
       "\n",
       "    .dataframe thead th {\n",
       "        text-align: right;\n",
       "    }\n",
       "</style>\n",
       "<table border=\"1\" class=\"dataframe\">\n",
       "  <thead>\n",
       "    <tr style=\"text-align: right;\">\n",
       "      <th></th>\n",
       "      <th>Qualification</th>\n",
       "      <th>Experience</th>\n",
       "      <th>Rating</th>\n",
       "      <th>Place</th>\n",
       "      <th>Profile</th>\n",
       "      <th>Fees</th>\n",
       "    </tr>\n",
       "  </thead>\n",
       "  <tbody>\n",
       "    <tr>\n",
       "      <th>0</th>\n",
       "      <td>BHMS, MD - Homeopathy</td>\n",
       "      <td>24 years experience</td>\n",
       "      <td>100%</td>\n",
       "      <td>Kakkanad, Ernakulam</td>\n",
       "      <td>Homeopath</td>\n",
       "      <td>100</td>\n",
       "    </tr>\n",
       "    <tr>\n",
       "      <th>1</th>\n",
       "      <td>BAMS, MD - Ayurveda Medicine</td>\n",
       "      <td>12 years experience</td>\n",
       "      <td>98%</td>\n",
       "      <td>Whitefield, Bangalore</td>\n",
       "      <td>Ayurveda</td>\n",
       "      <td>350</td>\n",
       "    </tr>\n",
       "    <tr>\n",
       "      <th>2</th>\n",
       "      <td>MBBS, MS - Otorhinolaryngology</td>\n",
       "      <td>9 years experience</td>\n",
       "      <td>NaN</td>\n",
       "      <td>Mathikere - BEL, Bangalore</td>\n",
       "      <td>ENT Specialist</td>\n",
       "      <td>300</td>\n",
       "    </tr>\n",
       "    <tr>\n",
       "      <th>3</th>\n",
       "      <td>BSc - Zoology, BAMS</td>\n",
       "      <td>12 years experience</td>\n",
       "      <td>NaN</td>\n",
       "      <td>Bannerghatta Road, Bangalore</td>\n",
       "      <td>Ayurveda</td>\n",
       "      <td>250</td>\n",
       "    </tr>\n",
       "    <tr>\n",
       "      <th>4</th>\n",
       "      <td>BAMS</td>\n",
       "      <td>20 years experience</td>\n",
       "      <td>100%</td>\n",
       "      <td>Keelkattalai, Chennai</td>\n",
       "      <td>Ayurveda</td>\n",
       "      <td>250</td>\n",
       "    </tr>\n",
       "    <tr>\n",
       "      <th>...</th>\n",
       "      <td>...</td>\n",
       "      <td>...</td>\n",
       "      <td>...</td>\n",
       "      <td>...</td>\n",
       "      <td>...</td>\n",
       "      <td>...</td>\n",
       "    </tr>\n",
       "    <tr>\n",
       "      <th>5956</th>\n",
       "      <td>MBBS, MS - ENT</td>\n",
       "      <td>19 years experience</td>\n",
       "      <td>98%</td>\n",
       "      <td>Basavanagudi, Bangalore</td>\n",
       "      <td>ENT Specialist</td>\n",
       "      <td>300</td>\n",
       "    </tr>\n",
       "    <tr>\n",
       "      <th>5957</th>\n",
       "      <td>MBBS</td>\n",
       "      <td>33 years experience</td>\n",
       "      <td>NaN</td>\n",
       "      <td>Nungambakkam, Chennai</td>\n",
       "      <td>General Medicine</td>\n",
       "      <td>100</td>\n",
       "    </tr>\n",
       "    <tr>\n",
       "      <th>5958</th>\n",
       "      <td>MBBS</td>\n",
       "      <td>41 years experience</td>\n",
       "      <td>97%</td>\n",
       "      <td>Greater Kailash Part 2, Delhi</td>\n",
       "      <td>General Medicine</td>\n",
       "      <td>600</td>\n",
       "    </tr>\n",
       "    <tr>\n",
       "      <th>5959</th>\n",
       "      <td>MBBS, MD - General Medicine</td>\n",
       "      <td>15 years experience</td>\n",
       "      <td>90%</td>\n",
       "      <td>Vileparle West, Mumbai</td>\n",
       "      <td>General Medicine</td>\n",
       "      <td>100</td>\n",
       "    </tr>\n",
       "    <tr>\n",
       "      <th>5960</th>\n",
       "      <td>BDS, MDS - Orthodontics</td>\n",
       "      <td>17 years experience</td>\n",
       "      <td>100%</td>\n",
       "      <td>Pitampura, Delhi</td>\n",
       "      <td>Dentist</td>\n",
       "      <td>200</td>\n",
       "    </tr>\n",
       "  </tbody>\n",
       "</table>\n",
       "<p>5961 rows × 6 columns</p>\n",
       "</div>"
      ],
      "text/plain": [
       "                       Qualification           Experience Rating  \\\n",
       "0              BHMS, MD - Homeopathy  24 years experience   100%   \n",
       "1       BAMS, MD - Ayurveda Medicine  12 years experience    98%   \n",
       "2     MBBS, MS - Otorhinolaryngology   9 years experience    NaN   \n",
       "3                BSc - Zoology, BAMS  12 years experience    NaN   \n",
       "4                               BAMS  20 years experience   100%   \n",
       "...                              ...                  ...    ...   \n",
       "5956                  MBBS, MS - ENT  19 years experience    98%   \n",
       "5957                            MBBS  33 years experience    NaN   \n",
       "5958                            MBBS  41 years experience    97%   \n",
       "5959     MBBS, MD - General Medicine  15 years experience    90%   \n",
       "5960         BDS, MDS - Orthodontics  17 years experience   100%   \n",
       "\n",
       "                              Place           Profile  Fees  \n",
       "0               Kakkanad, Ernakulam         Homeopath   100  \n",
       "1             Whitefield, Bangalore          Ayurveda   350  \n",
       "2        Mathikere - BEL, Bangalore    ENT Specialist   300  \n",
       "3      Bannerghatta Road, Bangalore          Ayurveda   250  \n",
       "4             Keelkattalai, Chennai          Ayurveda   250  \n",
       "...                             ...               ...   ...  \n",
       "5956        Basavanagudi, Bangalore    ENT Specialist   300  \n",
       "5957          Nungambakkam, Chennai  General Medicine   100  \n",
       "5958  Greater Kailash Part 2, Delhi  General Medicine   600  \n",
       "5959         Vileparle West, Mumbai  General Medicine   100  \n",
       "5960               Pitampura, Delhi           Dentist   200  \n",
       "\n",
       "[5961 rows x 6 columns]"
      ]
     },
     "execution_count": 17,
     "metadata": {},
     "output_type": "execute_result"
    }
   ],
   "source": [
    "train\n",
    "# below we can observe Miscellaneous_Info is dropped"
   ]
  },
  {
   "cell_type": "code",
   "execution_count": 19,
   "id": "6ae066a5",
   "metadata": {},
   "outputs": [],
   "source": [
    "#lets fill the null value with the most frequent value\n",
    "from sklearn.impute import SimpleImputer\n",
    "imp = SimpleImputer(strategy='most_frequent')\n",
    "col=['Rating','Place']\n",
    "for i in col:\n",
    "    train[i]=imp.fit_transform(train[i].values.reshape(-1,1))\n"
   ]
  },
  {
   "cell_type": "code",
   "execution_count": 20,
   "id": "84bac6dc",
   "metadata": {},
   "outputs": [
    {
     "data": {
      "text/plain": [
       "Qualification    0\n",
       "Experience       0\n",
       "Rating           0\n",
       "Place            0\n",
       "Profile          0\n",
       "Fees             0\n",
       "dtype: int64"
      ]
     },
     "execution_count": 20,
     "metadata": {},
     "output_type": "execute_result"
    }
   ],
   "source": [
    "#lets check the null value again\n",
    "train.isnull().sum()\n",
    "# we can observe there is no null value present in the dataset"
   ]
  },
  {
   "cell_type": "code",
   "execution_count": 21,
   "id": "c93c50bc",
   "metadata": {},
   "outputs": [
    {
     "name": "stdout",
     "output_type": "stream",
     "text": [
      "<class 'pandas.core.frame.DataFrame'>\n",
      "RangeIndex: 5961 entries, 0 to 5960\n",
      "Data columns (total 6 columns):\n",
      " #   Column         Non-Null Count  Dtype \n",
      "---  ------         --------------  ----- \n",
      " 0   Qualification  5961 non-null   object\n",
      " 1   Experience     5961 non-null   object\n",
      " 2   Rating         5961 non-null   object\n",
      " 3   Place          5961 non-null   object\n",
      " 4   Profile        5961 non-null   object\n",
      " 5   Fees           5961 non-null   int64 \n",
      "dtypes: int64(1), object(5)\n",
      "memory usage: 279.5+ KB\n"
     ]
    }
   ],
   "source": [
    "#lets check the information about the train datasets.\n",
    "train.info()"
   ]
  },
  {
   "cell_type": "code",
   "execution_count": 22,
   "id": "15e3933b",
   "metadata": {},
   "outputs": [],
   "source": [
    "#we can observe that all the columns are object type except the fees columns. 2. Before going further we have to chenge the columns data types because our model doesnt undersatnd these string values."
   ]
  },
  {
   "cell_type": "code",
   "execution_count": 23,
   "id": "739ee796",
   "metadata": {},
   "outputs": [
    {
     "data": {
      "text/html": [
       "<div>\n",
       "<style scoped>\n",
       "    .dataframe tbody tr th:only-of-type {\n",
       "        vertical-align: middle;\n",
       "    }\n",
       "\n",
       "    .dataframe tbody tr th {\n",
       "        vertical-align: top;\n",
       "    }\n",
       "\n",
       "    .dataframe thead th {\n",
       "        text-align: right;\n",
       "    }\n",
       "</style>\n",
       "<table border=\"1\" class=\"dataframe\">\n",
       "  <thead>\n",
       "    <tr style=\"text-align: right;\">\n",
       "      <th></th>\n",
       "      <th>Fees</th>\n",
       "    </tr>\n",
       "  </thead>\n",
       "  <tbody>\n",
       "    <tr>\n",
       "      <th>count</th>\n",
       "      <td>5961.000000</td>\n",
       "    </tr>\n",
       "    <tr>\n",
       "      <th>mean</th>\n",
       "      <td>307.944640</td>\n",
       "    </tr>\n",
       "    <tr>\n",
       "      <th>std</th>\n",
       "      <td>190.920373</td>\n",
       "    </tr>\n",
       "    <tr>\n",
       "      <th>min</th>\n",
       "      <td>5.000000</td>\n",
       "    </tr>\n",
       "    <tr>\n",
       "      <th>25%</th>\n",
       "      <td>150.000000</td>\n",
       "    </tr>\n",
       "    <tr>\n",
       "      <th>50%</th>\n",
       "      <td>300.000000</td>\n",
       "    </tr>\n",
       "    <tr>\n",
       "      <th>75%</th>\n",
       "      <td>500.000000</td>\n",
       "    </tr>\n",
       "    <tr>\n",
       "      <th>max</th>\n",
       "      <td>950.000000</td>\n",
       "    </tr>\n",
       "  </tbody>\n",
       "</table>\n",
       "</div>"
      ],
      "text/plain": [
       "              Fees\n",
       "count  5961.000000\n",
       "mean    307.944640\n",
       "std     190.920373\n",
       "min       5.000000\n",
       "25%     150.000000\n",
       "50%     300.000000\n",
       "75%     500.000000\n",
       "max     950.000000"
      ]
     },
     "execution_count": 23,
     "metadata": {},
     "output_type": "execute_result"
    }
   ],
   "source": [
    "train.describe()"
   ]
  },
  {
   "cell_type": "code",
   "execution_count": 24,
   "id": "b876906d",
   "metadata": {},
   "outputs": [],
   "source": [
    "#1. maximum Fees charge by doctor =950 2. minimum fees charge by doctor =5 3. we can observe that there mean is greater than media so my data is right skewed. 4. we can also observe that there is difference in 75% and maximum so we can observe some outliers in the dataset."
   ]
  },
  {
   "cell_type": "code",
   "execution_count": 25,
   "id": "82699398",
   "metadata": {},
   "outputs": [],
   "source": [
    "#EDA"
   ]
  },
  {
   "cell_type": "code",
   "execution_count": 27,
   "id": "189f2913",
   "metadata": {},
   "outputs": [
    {
     "data": {
      "image/png": "[encoded data removed]",
      "text/plain": [
       "<Figure size 432x288 with 1 Axes>"
      ]
     },
     "metadata": {
      "needs_background": "light"
     },
     "output_type": "display_data"
    }
   ],
   "source": [
    "# lets check the mean fees\n",
    "Fees = train['Fees'].hist(bins=40)\n",
    "mean_val= np.mean(train['Fees'])\n",
    "plt.axvline(mean_val,linewidth=4, color='red', label='mean Fees')\n",
    "plt.xlabel('Fees')\n",
    "plt.ylabel('count')\n",
    "plt.legend()\n",
    "plt.show()"
   ]
  },
  {
   "cell_type": "code",
   "execution_count": 28,
   "id": "ebdfe163",
   "metadata": {},
   "outputs": [],
   "source": [
    "#we can observe the mean fees charge by any doctor is 300."
   ]
  },
  {
   "cell_type": "code",
   "execution_count": 29,
   "id": "a32b5936",
   "metadata": {},
   "outputs": [],
   "source": [
    "#before mving further lets explore column and try to delete the alphabetical value.\n",
    "#lets delete the alpha value from experience column and make the dtype int.\n",
    "train['Experience'].replace(regex=True, inplace=True, to_replace=r'[^0-9.\\-]', value=r'')\n",
    "train['Experience'] = train['Experience'].astype('int')\n",
    "#lets delete the alpha value from experience column and make the dtype int.\n",
    "train['Rating'].replace(regex=True, inplace=True, to_replace=r'[^0-9.\\-]', value=r'')\n",
    "train['Rating'] = train['Rating'].astype('int')"
   ]
  },
  {
   "cell_type": "code",
   "execution_count": 30,
   "id": "38829bbb",
   "metadata": {},
   "outputs": [],
   "source": [
    "#univariate analysis"
   ]
  },
  {
   "cell_type": "code",
   "execution_count": 31,
   "id": "a4c2b8d2",
   "metadata": {},
   "outputs": [
    {
     "data": {
      "image/png": "[encoded data removed]",
      "text/plain": [
       "<Figure size 1296x288 with 1 Axes>"
      ]
     },
     "metadata": {
      "needs_background": "light"
     },
     "output_type": "display_data"
    },
    {
     "data": {
      "text/plain": [
       "100    1306\n",
       "500     938\n",
       "200     904\n",
       "300     864\n",
       "400     424\n",
       "250     307\n",
       "150     253\n",
       "600     215\n",
       "700     153\n",
       "800     143\n",
       "350     143\n",
       "50       81\n",
       "450      65\n",
       "750      34\n",
       "550      22\n",
       "650      21\n",
       "70       18\n",
       "900      18\n",
       "80       12\n",
       "60       11\n",
       "30        4\n",
       "180       2\n",
       "130       2\n",
       "380       2\n",
       "10        2\n",
       "40        2\n",
       "260       2\n",
       "299       1\n",
       "950       1\n",
       "850       1\n",
       "630       1\n",
       "20        1\n",
       "125       1\n",
       "430       1\n",
       "230       1\n",
       "5         1\n",
       "920       1\n",
       "280       1\n",
       "220       1\n",
       "499       1\n",
       "Name: Fees, dtype: int64"
      ]
     },
     "execution_count": 31,
     "metadata": {},
     "output_type": "execute_result"
    }
   ],
   "source": [
    "plt.subplots(figsize=(18,4))\n",
    "sns.countplot(x='Fees',data=train)\n",
    "plt.title('Fees charges by the Doctor')\n",
    "plt.xlabel('Fees')\n",
    "plt.ylabel('count of Doctor')\n",
    "plt.show()\n",
    "train['Fees'].value_counts()\n"
   ]
  },
  {
   "cell_type": "code",
   "execution_count": 33,
   "id": "8e175923",
   "metadata": {},
   "outputs": [],
   "source": [
    "#1. we can observe that almost 1306 doctor charges Rs.100 for there consultation. 2. Almost 938 Doctor charges Rs 500 for there consultation. 4. The maximum charge taken by any doctor is Rs.950, which is 1 in counts."
   ]
  },
  {
   "cell_type": "code",
   "execution_count": 32,
   "id": "542388ed",
   "metadata": {},
   "outputs": [
    {
     "data": {
      "image/png": "[encoded data removed]",
      "text/plain": [
       "<Figure size 1296x288 with 1 Axes>"
      ]
     },
     "metadata": {
      "needs_background": "light"
     },
     "output_type": "display_data"
    }
   ],
   "source": [
    "plt.subplots(figsize=(18,4))\n",
    "sns.countplot(x='Rating',data=train)\n",
    "plt.title('Rating percentage of Doctors')\n",
    "plt.xlabel('Rating in percentage')\n",
    "plt.ylabel('count of Doctor')\n",
    "plt.show()"
   ]
  },
  {
   "cell_type": "code",
   "execution_count": 34,
   "id": "ec45ad5f",
   "metadata": {},
   "outputs": [],
   "source": [
    "#1. we can observe almost 3986 doctor is having rating 100 %. 2. Where as the least rating we can observe is 7% for 1 Doctor."
   ]
  },
  {
   "cell_type": "code",
   "execution_count": 35,
   "id": "3999ba13",
   "metadata": {},
   "outputs": [
    {
     "data": {
      "image/png": "[encoded data removed]",
      "text/plain": [
       "<Figure size 1296x288 with 1 Axes>"
      ]
     },
     "metadata": {
      "needs_background": "light"
     },
     "output_type": "display_data"
    },
    {
     "data": {
      "text/plain": [
       "9     323\n",
       "10    294\n",
       "11    288\n",
       "8     282\n",
       "12    279\n",
       "     ... \n",
       "58      1\n",
       "61      1\n",
       "64      1\n",
       "60      1\n",
       "59      1\n",
       "Name: Experience, Length: 64, dtype: int64"
      ]
     },
     "execution_count": 35,
     "metadata": {},
     "output_type": "execute_result"
    }
   ],
   "source": [
    "\n",
    "plt.subplots(figsize=(18,4))\n",
    "sns.countplot(x='Experience',data=train,palette='terrain_r')\n",
    "plt.title('Experience of Doctors in years')\n",
    "plt.xlabel('Experience in years')\n",
    "plt.ylabel('count of Doctor')\n",
    "plt.show()\n",
    "train['Experience'].value_counts()"
   ]
  },
  {
   "cell_type": "code",
   "execution_count": 36,
   "id": "11af15ba",
   "metadata": {},
   "outputs": [],
   "source": [
    "# 1. maximum experience of Doctor we can observe is 66 years having cout of 1 Doctor in number. 2. 323 numbers of the doctor having experience of 9 years hich is the most count of doctor in numbers. 3. 294 numbers of doctor is having 10 years of experience"
   ]
  },
  {
   "cell_type": "code",
   "execution_count": 37,
   "id": "2ef2ce50",
   "metadata": {},
   "outputs": [
    {
     "data": {
      "image/png": "[encoded data removed]",
      "text/plain": [
       "<Figure size 1296x288 with 1 Axes>"
      ]
     },
     "metadata": {
      "needs_background": "light"
     },
     "output_type": "display_data"
    },
    {
     "data": {
      "text/plain": [
       "Dentist             1397\n",
       "General Medicine    1173\n",
       "Dermatologists      1034\n",
       "Homeopath            843\n",
       "Ayurveda             786\n",
       "ENT Specialist       728\n",
       "Name: Profile, dtype: int64"
      ]
     },
     "execution_count": 37,
     "metadata": {},
     "output_type": "execute_result"
    }
   ],
   "source": [
    "plt.subplots(figsize=(18,4))\n",
    "sns.countplot(x='Profile',data=train,palette='rainbow')\n",
    "plt.title('Profiles of Doctors')\n",
    "plt.xlabel('Doctor specialisation')\n",
    "plt.ylabel('count of Doctors')\n",
    "plt.show()\n",
    "train['Profile'].value_counts()"
   ]
  },
  {
   "cell_type": "code",
   "execution_count": 38,
   "id": "cb592236",
   "metadata": {},
   "outputs": [],
   "source": [
    "#1. we have more number of Dentist doctor which is 1397 in counts. 2. General medicine doctors 1173 counts in number. 3. the least doctors in count we can observe is ENT Specialist 728 doctors"
   ]
  },
  {
   "cell_type": "code",
   "execution_count": 39,
   "id": "7f415212",
   "metadata": {},
   "outputs": [],
   "source": [
    "#Bivariate analysis"
   ]
  },
  {
   "cell_type": "code",
   "execution_count": 43,
   "id": "99511c12",
   "metadata": {},
   "outputs": [
    {
     "data": {
      "image/png": "[encoded data removed]",
      "text/plain": [
       "<Figure size 1296x288 with 1 Axes>"
      ]
     },
     "metadata": {
      "needs_background": "light"
     },
     "output_type": "display_data"
    }
   ],
   "source": [
    "#fee vs profile\n",
    "plt.subplots(figsize=(18,4))\n",
    "sns.barplot(x='Profile',y='Fees',data=train,palette='tab20c_r')\n",
    "plt.title('Fees Charge based on diffrent profile of Doctors')\n",
    "plt.xlabel('Doctor Specliasation')\n",
    "plt.ylabel('Fees')\n",
    "plt.show()"
   ]
  },
  {
   "cell_type": "code",
   "execution_count": 45,
   "id": "2ece3c03",
   "metadata": {},
   "outputs": [],
   "source": [
    "#1. maximum fees charged on the basis of there profile by the doctor who specilise in the field of: ** ENT ** Dermatologists. 2. The least charges we can observe for the Ayurveda and Dentist."
   ]
  },
  {
   "cell_type": "code",
   "execution_count": 44,
   "id": "317165ee",
   "metadata": {},
   "outputs": [
    {
     "data": {
      "image/png": "[encoded data removed]",
      "text/plain": [
       "<Figure size 1296x288 with 1 Axes>"
      ]
     },
     "metadata": {
      "needs_background": "light"
     },
     "output_type": "display_data"
    }
   ],
   "source": [
    "plt.subplots(figsize=(18,4))\n",
    "sns.barplot(x='Fees',y='Experience',data=train)\n",
    "plt.title('Fees Charge based on Experince')\n",
    "plt.xlabel('Fees')\n",
    "plt.ylabel('Doctor Experience')\n",
    "plt.show()"
   ]
  },
  {
   "cell_type": "code",
   "execution_count": 46,
   "id": "907c573b",
   "metadata": {},
   "outputs": [],
   "source": [
    "#1. Maximum fees charge by the doctor with Experience more than 25 years of experience."
   ]
  },
  {
   "cell_type": "code",
   "execution_count": 47,
   "id": "358d4244",
   "metadata": {},
   "outputs": [],
   "source": [
    "#fee vs rating"
   ]
  },
  {
   "cell_type": "code",
   "execution_count": 48,
   "id": "836e2b40",
   "metadata": {},
   "outputs": [
    {
     "data": {
      "image/png": "[encoded data removed]",
      "text/plain": [
       "<Figure size 1296x288 with 1 Axes>"
      ]
     },
     "metadata": {
      "needs_background": "light"
     },
     "output_type": "display_data"
    }
   ],
   "source": [
    "plt.subplots(figsize=(18,4))\n",
    "sns.barplot(x='Rating',y='Fees',data=train)\n",
    "plt.title('Fees Charge based on Rating')\n",
    "plt.xlabel('Rating')\n",
    "plt.ylabel('Fees')\n",
    "plt.show()"
   ]
  },
  {
   "cell_type": "code",
   "execution_count": 49,
   "id": "28bd3c08",
   "metadata": {},
   "outputs": [],
   "source": [
    "#1. we can observe that the doctor rating with 100 % having minimum charge 300."
   ]
  },
  {
   "cell_type": "code",
   "execution_count": 50,
   "id": "c80e004a",
   "metadata": {},
   "outputs": [],
   "source": [
    "#profile vs experience"
   ]
  },
  {
   "cell_type": "code",
   "execution_count": 51,
   "id": "1e1a87b6",
   "metadata": {},
   "outputs": [
    {
     "data": {
      "image/png": "[encoded data removed]",
      "text/plain": [
       "<Figure size 1080x360 with 1 Axes>"
      ]
     },
     "metadata": {
      "needs_background": "light"
     },
     "output_type": "display_data"
    }
   ],
   "source": [
    "\n",
    "plt.subplots(figsize=(18,4))\n",
    "train.groupby('Profile')['Experience'].sum().sort_values(ascending=False).plot(kind=\"bar\",figsize=(15,5))\n",
    "plt.title('Experience of doctor on the basis of there profile in ascending order')\n",
    "plt.xlabel('Doctor Specliasation')\n",
    "plt.ylabel('Experience in years')\n",
    "plt.show()"
   ]
  },
  {
   "cell_type": "code",
   "execution_count": 52,
   "id": "fd8ddac4",
   "metadata": {},
   "outputs": [],
   "source": [
    "#1. we can observe the maximum experience by the Greneral medicine doctors, where as the least experience we can observe f from the profile beongs to Ayurveda"
   ]
  },
  {
   "cell_type": "code",
   "execution_count": 53,
   "id": "eead0fbb",
   "metadata": {},
   "outputs": [],
   "source": [
    "#Profile vs Fees in ascending order"
   ]
  },
  {
   "cell_type": "code",
   "execution_count": 54,
   "id": "6607917b",
   "metadata": {},
   "outputs": [
    {
     "data": {
      "image/png": "[encoded data removed]",
      "text/plain": [
       "<Figure size 1080x360 with 1 Axes>"
      ]
     },
     "metadata": {
      "needs_background": "light"
     },
     "output_type": "display_data"
    }
   ],
   "source": [
    "plt.subplots(figsize=(18,4))\n",
    "train.groupby('Profile')['Fees'].sum().sort_values(ascending=False).plot(kind=\"bar\",figsize=(15,5))\n",
    "plt.title('Fees charges by doctor on the basis of there profile in ascending order')\n",
    "plt.xlabel('Doctor Specliasation')\n",
    "plt.ylabel('Fees in Rs')\n",
    "plt.show()"
   ]
  },
  {
   "cell_type": "code",
   "execution_count": 55,
   "id": "fef5b136",
   "metadata": {},
   "outputs": [],
   "source": [
    "#1. we can observe above that based on profile the maximum consulattion fees is taken by the doctor who is in the field of Dermotologists followed by General medicine 2. The least fee charged by Ayurveda profile Doctor."
   ]
  },
  {
   "cell_type": "code",
   "execution_count": 56,
   "id": "07fe7fb0",
   "metadata": {},
   "outputs": [],
   "source": [
    "#Profile vs Rating in ascending order"
   ]
  },
  {
   "cell_type": "code",
   "execution_count": 57,
   "id": "9d0fedc1",
   "metadata": {},
   "outputs": [
    {
     "data": {
      "image/png": "[encoded data removed]",
      "text/plain": [
       "<Figure size 1080x360 with 1 Axes>"
      ]
     },
     "metadata": {
      "needs_background": "light"
     },
     "output_type": "display_data"
    }
   ],
   "source": [
    "plt.subplots(figsize=(18,4))\n",
    "train.groupby('Profile')['Rating'].sum().sort_values(ascending=False).plot(kind=\"bar\",figsize=(15,5))\n",
    "plt.title('Rating of Doctor on basis of there profile')\n",
    "plt.xlabel('Doctor Specliasation')\n",
    "plt.ylabel('ratings')\n",
    "plt.show()"
   ]
  },
  {
   "cell_type": "code",
   "execution_count": 58,
   "id": "097ea226",
   "metadata": {},
   "outputs": [],
   "source": [
    "#1. we can observe that the best rating of doctor in the profile of Dentists. 2. Least rating we can observe by the ENT specialist"
   ]
  },
  {
   "cell_type": "code",
   "execution_count": 59,
   "id": "b2a15a33",
   "metadata": {},
   "outputs": [],
   "source": [
    "#Multivariate Analysis"
   ]
  },
  {
   "cell_type": "code",
   "execution_count": 60,
   "id": "1014c810",
   "metadata": {},
   "outputs": [
    {
     "data": {
      "text/plain": [
       "<seaborn.axisgrid.PairGrid at 0x20f34443100>"
      ]
     },
     "execution_count": 60,
     "metadata": {},
     "output_type": "execute_result"
    },
    {
     "data": {
      "image/png": "[encoded data removed]",
      "text/plain": [
       "<Figure size 540x540 with 12 Axes>"
      ]
     },
     "metadata": {
      "needs_background": "light"
     },
     "output_type": "display_data"
    }
   ],
   "source": [
    "sns.pairplot(train)"
   ]
  },
  {
   "cell_type": "code",
   "execution_count": 61,
   "id": "4d997a5f",
   "metadata": {},
   "outputs": [],
   "source": [
    "#lets drop Qualification and Place and convert the profile to int datatypes.\n",
    "train.drop(['Qualification','Place'],inplace=True,axis=1)"
   ]
  },
  {
   "cell_type": "code",
   "execution_count": 62,
   "id": "e9528cd8",
   "metadata": {},
   "outputs": [
    {
     "data": {
      "text/html": [
       "<div>\n",
       "<style scoped>\n",
       "    .dataframe tbody tr th:only-of-type {\n",
       "        vertical-align: middle;\n",
       "    }\n",
       "\n",
       "    .dataframe tbody tr th {\n",
       "        vertical-align: top;\n",
       "    }\n",
       "\n",
       "    .dataframe thead th {\n",
       "        text-align: right;\n",
       "    }\n",
       "</style>\n",
       "<table border=\"1\" class=\"dataframe\">\n",
       "  <thead>\n",
       "    <tr style=\"text-align: right;\">\n",
       "      <th></th>\n",
       "      <th>Experience</th>\n",
       "      <th>Rating</th>\n",
       "      <th>Profile</th>\n",
       "      <th>Fees</th>\n",
       "    </tr>\n",
       "  </thead>\n",
       "  <tbody>\n",
       "    <tr>\n",
       "      <th>0</th>\n",
       "      <td>24</td>\n",
       "      <td>100</td>\n",
       "      <td>5</td>\n",
       "      <td>100</td>\n",
       "    </tr>\n",
       "    <tr>\n",
       "      <th>1</th>\n",
       "      <td>12</td>\n",
       "      <td>98</td>\n",
       "      <td>0</td>\n",
       "      <td>350</td>\n",
       "    </tr>\n",
       "    <tr>\n",
       "      <th>2</th>\n",
       "      <td>9</td>\n",
       "      <td>100</td>\n",
       "      <td>3</td>\n",
       "      <td>300</td>\n",
       "    </tr>\n",
       "    <tr>\n",
       "      <th>3</th>\n",
       "      <td>12</td>\n",
       "      <td>100</td>\n",
       "      <td>0</td>\n",
       "      <td>250</td>\n",
       "    </tr>\n",
       "    <tr>\n",
       "      <th>4</th>\n",
       "      <td>20</td>\n",
       "      <td>100</td>\n",
       "      <td>0</td>\n",
       "      <td>250</td>\n",
       "    </tr>\n",
       "    <tr>\n",
       "      <th>...</th>\n",
       "      <td>...</td>\n",
       "      <td>...</td>\n",
       "      <td>...</td>\n",
       "      <td>...</td>\n",
       "    </tr>\n",
       "    <tr>\n",
       "      <th>5956</th>\n",
       "      <td>19</td>\n",
       "      <td>98</td>\n",
       "      <td>3</td>\n",
       "      <td>300</td>\n",
       "    </tr>\n",
       "    <tr>\n",
       "      <th>5957</th>\n",
       "      <td>33</td>\n",
       "      <td>100</td>\n",
       "      <td>4</td>\n",
       "      <td>100</td>\n",
       "    </tr>\n",
       "    <tr>\n",
       "      <th>5958</th>\n",
       "      <td>41</td>\n",
       "      <td>97</td>\n",
       "      <td>4</td>\n",
       "      <td>600</td>\n",
       "    </tr>\n",
       "    <tr>\n",
       "      <th>5959</th>\n",
       "      <td>15</td>\n",
       "      <td>90</td>\n",
       "      <td>4</td>\n",
       "      <td>100</td>\n",
       "    </tr>\n",
       "    <tr>\n",
       "      <th>5960</th>\n",
       "      <td>17</td>\n",
       "      <td>100</td>\n",
       "      <td>1</td>\n",
       "      <td>200</td>\n",
       "    </tr>\n",
       "  </tbody>\n",
       "</table>\n",
       "<p>5961 rows × 4 columns</p>\n",
       "</div>"
      ],
      "text/plain": [
       "      Experience  Rating  Profile  Fees\n",
       "0             24     100        5   100\n",
       "1             12      98        0   350\n",
       "2              9     100        3   300\n",
       "3             12     100        0   250\n",
       "4             20     100        0   250\n",
       "...          ...     ...      ...   ...\n",
       "5956          19      98        3   300\n",
       "5957          33     100        4   100\n",
       "5958          41      97        4   600\n",
       "5959          15      90        4   100\n",
       "5960          17     100        1   200\n",
       "\n",
       "[5961 rows x 4 columns]"
      ]
     },
     "execution_count": 62,
     "metadata": {},
     "output_type": "execute_result"
    }
   ],
   "source": [
    "#lets convert the the profile categorical data to int type using label encoder.\n",
    "from sklearn.preprocessing import LabelEncoder\n",
    "le=LabelEncoder()\n",
    "train['Profile']=le.fit_transform(train['Profile'])\n",
    "train"
   ]
  },
  {
   "cell_type": "code",
   "execution_count": 63,
   "id": "7e82d01d",
   "metadata": {},
   "outputs": [],
   "source": [
    "#Now we have converted all the necessary columns to numeric type lets check the summary statistics"
   ]
  },
  {
   "cell_type": "code",
   "execution_count": 64,
   "id": "af3f9177",
   "metadata": {},
   "outputs": [],
   "source": [
    "#Test data"
   ]
  },
  {
   "cell_type": "code",
   "execution_count": 65,
   "id": "57639797",
   "metadata": {},
   "outputs": [
    {
     "data": {
      "text/html": [
       "<div>\n",
       "<style scoped>\n",
       "    .dataframe tbody tr th:only-of-type {\n",
       "        vertical-align: middle;\n",
       "    }\n",
       "\n",
       "    .dataframe tbody tr th {\n",
       "        vertical-align: top;\n",
       "    }\n",
       "\n",
       "    .dataframe thead th {\n",
       "        text-align: right;\n",
       "    }\n",
       "</style>\n",
       "<table border=\"1\" class=\"dataframe\">\n",
       "  <thead>\n",
       "    <tr style=\"text-align: right;\">\n",
       "      <th></th>\n",
       "      <th>Qualification</th>\n",
       "      <th>Experience</th>\n",
       "      <th>Rating</th>\n",
       "      <th>Place</th>\n",
       "      <th>Profile</th>\n",
       "      <th>Miscellaneous_Info</th>\n",
       "    </tr>\n",
       "  </thead>\n",
       "  <tbody>\n",
       "    <tr>\n",
       "      <th>0</th>\n",
       "      <td>MBBS</td>\n",
       "      <td>35 years experience</td>\n",
       "      <td>NaN</td>\n",
       "      <td>Ghatkopar East, Mumbai</td>\n",
       "      <td>General Medicine</td>\n",
       "      <td>NaN</td>\n",
       "    </tr>\n",
       "    <tr>\n",
       "      <th>1</th>\n",
       "      <td>MBBS, Diploma in Otorhinolaryngology (DLO)</td>\n",
       "      <td>31 years experience</td>\n",
       "      <td>NaN</td>\n",
       "      <td>West Marredpally, Hyderabad</td>\n",
       "      <td>ENT Specialist</td>\n",
       "      <td>NaN</td>\n",
       "    </tr>\n",
       "    <tr>\n",
       "      <th>2</th>\n",
       "      <td>MBBS, DDVL</td>\n",
       "      <td>40 years experience</td>\n",
       "      <td>70%</td>\n",
       "      <td>KK Nagar, Chennai</td>\n",
       "      <td>Dermatologists</td>\n",
       "      <td>70% 4 Feedback KK Nagar, Chennai</td>\n",
       "    </tr>\n",
       "    <tr>\n",
       "      <th>3</th>\n",
       "      <td>BAMS</td>\n",
       "      <td>0 years experience</td>\n",
       "      <td>NaN</td>\n",
       "      <td>New Ashok Nagar, Delhi</td>\n",
       "      <td>Ayurveda</td>\n",
       "      <td>NaN</td>\n",
       "    </tr>\n",
       "    <tr>\n",
       "      <th>4</th>\n",
       "      <td>BDS, MDS - Conservative Dentistry &amp; Endodontics</td>\n",
       "      <td>16 years experience</td>\n",
       "      <td>100%</td>\n",
       "      <td>Kanakpura Road, Bangalore</td>\n",
       "      <td>Dentist</td>\n",
       "      <td>General Dentistry Conservative Dentistry Cosme...</td>\n",
       "    </tr>\n",
       "  </tbody>\n",
       "</table>\n",
       "</div>"
      ],
      "text/plain": [
       "                                     Qualification           Experience  \\\n",
       "0                                             MBBS  35 years experience   \n",
       "1       MBBS, Diploma in Otorhinolaryngology (DLO)  31 years experience   \n",
       "2                                       MBBS, DDVL  40 years experience   \n",
       "3                                             BAMS   0 years experience   \n",
       "4  BDS, MDS - Conservative Dentistry & Endodontics  16 years experience   \n",
       "\n",
       "  Rating                        Place           Profile  \\\n",
       "0    NaN       Ghatkopar East, Mumbai  General Medicine   \n",
       "1    NaN  West Marredpally, Hyderabad    ENT Specialist   \n",
       "2    70%            KK Nagar, Chennai    Dermatologists   \n",
       "3    NaN       New Ashok Nagar, Delhi          Ayurveda   \n",
       "4   100%    Kanakpura Road, Bangalore           Dentist   \n",
       "\n",
       "                                  Miscellaneous_Info  \n",
       "0                                                NaN  \n",
       "1                                                NaN  \n",
       "2                   70% 4 Feedback KK Nagar, Chennai  \n",
       "3                                                NaN  \n",
       "4  General Dentistry Conservative Dentistry Cosme...  "
      ]
     },
     "execution_count": 65,
     "metadata": {},
     "output_type": "execute_result"
    }
   ],
   "source": [
    "test.head()"
   ]
  },
  {
   "cell_type": "code",
   "execution_count": 67,
   "id": "d03bbb40",
   "metadata": {},
   "outputs": [],
   "source": [
    "#now we can repeat the same procedure with the test data once again so i am just copying all the code in single columns\n"
   ]
  },
  {
   "cell_type": "code",
   "execution_count": 68,
   "id": "bdc95eba",
   "metadata": {},
   "outputs": [
    {
     "data": {
      "text/plain": [
       "(1987, 6)"
      ]
     },
     "execution_count": 68,
     "metadata": {},
     "output_type": "execute_result"
    }
   ],
   "source": [
    "#lets check the shape\n",
    "test.shape"
   ]
  },
  {
   "cell_type": "code",
   "execution_count": 69,
   "id": "7368ed4a",
   "metadata": {},
   "outputs": [
    {
     "data": {
      "text/plain": [
       "Qualification         object\n",
       "Experience            object\n",
       "Rating                object\n",
       "Place                 object\n",
       "Profile               object\n",
       "Miscellaneous_Info    object\n",
       "dtype: object"
      ]
     },
     "execution_count": 69,
     "metadata": {},
     "output_type": "execute_result"
    }
   ],
   "source": [
    "#lets check the data types\n",
    "test.dtypes"
   ]
  },
  {
   "cell_type": "code",
   "execution_count": 70,
   "id": "0201df5f",
   "metadata": {},
   "outputs": [
    {
     "data": {
      "text/plain": [
       "Qualification            0\n",
       "Experience               0\n",
       "Rating                1090\n",
       "Place                    6\n",
       "Profile                  0\n",
       "Miscellaneous_Info     834\n",
       "dtype: int64"
      ]
     },
     "execution_count": 70,
     "metadata": {},
     "output_type": "execute_result"
    }
   ],
   "source": [
    "#lets check the null value present in our data set\n",
    "test.isnull().sum()"
   ]
  },
  {
   "cell_type": "code",
   "execution_count": 71,
   "id": "4b5061a4",
   "metadata": {},
   "outputs": [],
   "source": [
    "#we can observe that out of total 1987 data there is 1090 data which is null in Rating columns. ** place columns having null value present 6 ** miscellaneous_info is having 834 null values, lets drop this columns cause this columns doesnt has impact on my target. variable."
   ]
  },
  {
   "cell_type": "code",
   "execution_count": 72,
   "id": "23e21edb",
   "metadata": {},
   "outputs": [
    {
     "data": {
      "text/html": [
       "<div>\n",
       "<style scoped>\n",
       "    .dataframe tbody tr th:only-of-type {\n",
       "        vertical-align: middle;\n",
       "    }\n",
       "\n",
       "    .dataframe tbody tr th {\n",
       "        vertical-align: top;\n",
       "    }\n",
       "\n",
       "    .dataframe thead th {\n",
       "        text-align: right;\n",
       "    }\n",
       "</style>\n",
       "<table border=\"1\" class=\"dataframe\">\n",
       "  <thead>\n",
       "    <tr style=\"text-align: right;\">\n",
       "      <th></th>\n",
       "      <th>Qualification</th>\n",
       "      <th>Experience</th>\n",
       "      <th>Rating</th>\n",
       "      <th>Place</th>\n",
       "      <th>Profile</th>\n",
       "    </tr>\n",
       "  </thead>\n",
       "  <tbody>\n",
       "    <tr>\n",
       "      <th>0</th>\n",
       "      <td>MBBS</td>\n",
       "      <td>35 years experience</td>\n",
       "      <td>NaN</td>\n",
       "      <td>Ghatkopar East, Mumbai</td>\n",
       "      <td>General Medicine</td>\n",
       "    </tr>\n",
       "    <tr>\n",
       "      <th>1</th>\n",
       "      <td>MBBS, Diploma in Otorhinolaryngology (DLO)</td>\n",
       "      <td>31 years experience</td>\n",
       "      <td>NaN</td>\n",
       "      <td>West Marredpally, Hyderabad</td>\n",
       "      <td>ENT Specialist</td>\n",
       "    </tr>\n",
       "    <tr>\n",
       "      <th>2</th>\n",
       "      <td>MBBS, DDVL</td>\n",
       "      <td>40 years experience</td>\n",
       "      <td>70%</td>\n",
       "      <td>KK Nagar, Chennai</td>\n",
       "      <td>Dermatologists</td>\n",
       "    </tr>\n",
       "    <tr>\n",
       "      <th>3</th>\n",
       "      <td>BAMS</td>\n",
       "      <td>0 years experience</td>\n",
       "      <td>NaN</td>\n",
       "      <td>New Ashok Nagar, Delhi</td>\n",
       "      <td>Ayurveda</td>\n",
       "    </tr>\n",
       "    <tr>\n",
       "      <th>4</th>\n",
       "      <td>BDS, MDS - Conservative Dentistry &amp; Endodontics</td>\n",
       "      <td>16 years experience</td>\n",
       "      <td>100%</td>\n",
       "      <td>Kanakpura Road, Bangalore</td>\n",
       "      <td>Dentist</td>\n",
       "    </tr>\n",
       "    <tr>\n",
       "      <th>...</th>\n",
       "      <td>...</td>\n",
       "      <td>...</td>\n",
       "      <td>...</td>\n",
       "      <td>...</td>\n",
       "      <td>...</td>\n",
       "    </tr>\n",
       "    <tr>\n",
       "      <th>1982</th>\n",
       "      <td>BAMS, Doctor of Medicine</td>\n",
       "      <td>10 years experience</td>\n",
       "      <td>NaN</td>\n",
       "      <td>Basavanagudi, Bangalore</td>\n",
       "      <td>Ayurveda</td>\n",
       "    </tr>\n",
       "    <tr>\n",
       "      <th>1983</th>\n",
       "      <td>MD - Dermatology , Venereology &amp; Leprosy, MBBS</td>\n",
       "      <td>4 years experience</td>\n",
       "      <td>NaN</td>\n",
       "      <td>Choolai, Chennai</td>\n",
       "      <td>Dermatologists</td>\n",
       "    </tr>\n",
       "    <tr>\n",
       "      <th>1984</th>\n",
       "      <td>MBBS, MD / MS - Obstetrics &amp; Gynaecology</td>\n",
       "      <td>9 years experience</td>\n",
       "      <td>NaN</td>\n",
       "      <td>Porur, Chennai</td>\n",
       "      <td>General Medicine</td>\n",
       "    </tr>\n",
       "    <tr>\n",
       "      <th>1985</th>\n",
       "      <td>BDS</td>\n",
       "      <td>12 years experience</td>\n",
       "      <td>98%</td>\n",
       "      <td>Arekere, Bangalore</td>\n",
       "      <td>Dentist</td>\n",
       "    </tr>\n",
       "    <tr>\n",
       "      <th>1986</th>\n",
       "      <td>MBBS, MD - Dermatology , Venereology &amp; Leprosy</td>\n",
       "      <td>8 years experience</td>\n",
       "      <td>NaN</td>\n",
       "      <td>Pallikaranai, Chennai</td>\n",
       "      <td>Dermatologists</td>\n",
       "    </tr>\n",
       "  </tbody>\n",
       "</table>\n",
       "<p>1987 rows × 5 columns</p>\n",
       "</div>"
      ],
      "text/plain": [
       "                                        Qualification           Experience  \\\n",
       "0                                                MBBS  35 years experience   \n",
       "1          MBBS, Diploma in Otorhinolaryngology (DLO)  31 years experience   \n",
       "2                                          MBBS, DDVL  40 years experience   \n",
       "3                                                BAMS   0 years experience   \n",
       "4     BDS, MDS - Conservative Dentistry & Endodontics  16 years experience   \n",
       "...                                               ...                  ...   \n",
       "1982                         BAMS, Doctor of Medicine  10 years experience   \n",
       "1983   MD - Dermatology , Venereology & Leprosy, MBBS   4 years experience   \n",
       "1984         MBBS, MD / MS - Obstetrics & Gynaecology   9 years experience   \n",
       "1985                                              BDS  12 years experience   \n",
       "1986   MBBS, MD - Dermatology , Venereology & Leprosy   8 years experience   \n",
       "\n",
       "     Rating                        Place           Profile  \n",
       "0       NaN       Ghatkopar East, Mumbai  General Medicine  \n",
       "1       NaN  West Marredpally, Hyderabad    ENT Specialist  \n",
       "2       70%            KK Nagar, Chennai    Dermatologists  \n",
       "3       NaN       New Ashok Nagar, Delhi          Ayurveda  \n",
       "4      100%    Kanakpura Road, Bangalore           Dentist  \n",
       "...     ...                          ...               ...  \n",
       "1982    NaN      Basavanagudi, Bangalore          Ayurveda  \n",
       "1983    NaN             Choolai, Chennai    Dermatologists  \n",
       "1984    NaN               Porur, Chennai  General Medicine  \n",
       "1985    98%           Arekere, Bangalore           Dentist  \n",
       "1986    NaN        Pallikaranai, Chennai    Dermatologists  \n",
       "\n",
       "[1987 rows x 5 columns]"
      ]
     },
     "execution_count": 72,
     "metadata": {},
     "output_type": "execute_result"
    }
   ],
   "source": [
    "test.drop(columns='Miscellaneous_Info',inplace=True)\n",
    "test\n",
    "# below we can observe Miscellaneous_Info is dropped."
   ]
  },
  {
   "cell_type": "code",
   "execution_count": 73,
   "id": "3d94ddb8",
   "metadata": {},
   "outputs": [],
   "source": [
    "#lets fill the null value with the most frequent value\n",
    "from sklearn.impute import SimpleImputer\n",
    "imp = SimpleImputer(strategy='most_frequent')\n",
    "col=['Rating','Place']\n",
    "for i in col:\n",
    "    test[i]=imp.fit_transform(test[i].values.reshape(-1,1))\n"
   ]
  },
  {
   "cell_type": "code",
   "execution_count": 74,
   "id": "e1d42593",
   "metadata": {},
   "outputs": [
    {
     "data": {
      "text/plain": [
       "Qualification    0\n",
       "Experience       0\n",
       "Rating           0\n",
       "Place            0\n",
       "Profile          0\n",
       "dtype: int64"
      ]
     },
     "execution_count": 74,
     "metadata": {},
     "output_type": "execute_result"
    }
   ],
   "source": [
    "#lets check the null value again\n",
    "test.isnull().sum()\n",
    "# we can observe there is no null value present in the dataset"
   ]
  },
  {
   "cell_type": "code",
   "execution_count": 75,
   "id": "c336baca",
   "metadata": {},
   "outputs": [],
   "source": [
    "#EDA"
   ]
  },
  {
   "cell_type": "code",
   "execution_count": 76,
   "id": "b5b45cc8",
   "metadata": {},
   "outputs": [],
   "source": [
    "#before moving further lets explore column and try to delete the alphabetical value.\n",
    "#lets delete the alpha value from experience column and make the dtype int.\n",
    "test['Experience'].replace(regex=True, inplace=True, to_replace=r'[^0-9.\\-]', value=r'')\n",
    "test['Experience'] =test['Experience'].astype('int')\n",
    "#lets delete the alpha value from experience column and make the dtype int.\n",
    "test['Rating'].replace(regex=True, inplace=True, to_replace=r'[^0-9.\\-]', value=r'')\n",
    "test['Rating'] = test['Rating'].astype('int')"
   ]
  },
  {
   "cell_type": "code",
   "execution_count": 77,
   "id": "ef361289",
   "metadata": {},
   "outputs": [
    {
     "data": {
      "image/png": "[encoded data removed]",
      "text/plain": [
       "<Figure size 1296x288 with 1 Axes>"
      ]
     },
     "metadata": {
      "needs_background": "light"
     },
     "output_type": "display_data"
    },
    {
     "data": {
      "text/plain": [
       "100    1313\n",
       "98      112\n",
       "97       84\n",
       "99       68\n",
       "96       65\n",
       "94       51\n",
       "95       47\n",
       "93       34\n",
       "92       29\n",
       "90       29\n",
       "91       26\n",
       "88       13\n",
       "87       11\n",
       "89       11\n",
       "83       11\n",
       "82        9\n",
       "85        8\n",
       "80        7\n",
       "84        7\n",
       "71        7\n",
       "86        6\n",
       "73        5\n",
       "67        5\n",
       "60        4\n",
       "70        4\n",
       "76        4\n",
       "81        3\n",
       "55        3\n",
       "69        2\n",
       "79        2\n",
       "64        2\n",
       "77        1\n",
       "78        1\n",
       "65        1\n",
       "53        1\n",
       "52        1\n",
       "Name: Rating, dtype: int64"
      ]
     },
     "execution_count": 77,
     "metadata": {},
     "output_type": "execute_result"
    }
   ],
   "source": [
    "plt.subplots(figsize=(18,4))\n",
    "sns.countplot(x='Rating',data=test)\n",
    "plt.title('Rating percentage of Doctors')\n",
    "plt.xlabel('Rating in percentage')\n",
    "plt.ylabel('count of Doctor')\n",
    "plt.show()\n",
    "test['Rating'].value_counts()"
   ]
  },
  {
   "cell_type": "code",
   "execution_count": 78,
   "id": "a5b087c8",
   "metadata": {},
   "outputs": [],
   "source": [
    "#1. we can observe almost 1313 doctor is having rating 100%. 2. Where as the least rating we can observe is 52% for 1 Doctor."
   ]
  },
  {
   "cell_type": "code",
   "execution_count": 79,
   "id": "14945b1b",
   "metadata": {},
   "outputs": [
    {
     "data": {
      "image/png": "[encoded data removed]",
      "text/plain": [
       "<Figure size 1296x288 with 1 Axes>"
      ]
     },
     "metadata": {
      "needs_background": "light"
     },
     "output_type": "display_data"
    },
    {
     "data": {
      "text/plain": [
       "10    110\n",
       "8      98\n",
       "9      96\n",
       "19     92\n",
       "7      89\n",
       "11     86\n",
       "13     83\n",
       "14     81\n",
       "12     79\n",
       "17     72\n",
       "18     70\n",
       "6      62\n",
       "15     57\n",
       "16     51\n",
       "5      50\n",
       "23     49\n",
       "21     48\n",
       "20     48\n",
       "29     46\n",
       "4      44\n",
       "22     37\n",
       "24     34\n",
       "3      33\n",
       "25     33\n",
       "26     32\n",
       "0      31\n",
       "28     29\n",
       "27     27\n",
       "34     27\n",
       "36     27\n",
       "31     26\n",
       "38     23\n",
       "30     18\n",
       "32     16\n",
       "44     16\n",
       "40     15\n",
       "37     14\n",
       "39     13\n",
       "35     13\n",
       "41     12\n",
       "33     11\n",
       "2      11\n",
       "46     11\n",
       "42     10\n",
       "43     10\n",
       "47      9\n",
       "49      8\n",
       "45      7\n",
       "48      6\n",
       "59      4\n",
       "50      3\n",
       "51      3\n",
       "52      2\n",
       "54      2\n",
       "53      1\n",
       "56      1\n",
       "65      1\n",
       "Name: Experience, dtype: int64"
      ]
     },
     "execution_count": 79,
     "metadata": {},
     "output_type": "execute_result"
    }
   ],
   "source": [
    "plt.subplots(figsize=(18,4))\n",
    "sns.countplot(x='Experience',data=test,palette='terrain_r')\n",
    "plt.title('Experience of Doctors in years')\n",
    "plt.xlabel('Experience in years')\n",
    "plt.ylabel('count of Doctor')\n",
    "plt.show()\n",
    "test['Experience'].value_counts()"
   ]
  },
  {
   "cell_type": "code",
   "execution_count": 80,
   "id": "5b9724ca",
   "metadata": {},
   "outputs": [],
   "source": [
    "#1. maximum experience of Doctor we can observe is 65 years having count of 1 Doctor in number. 2. 110 numbers of the doctor having experience of 10 years which is the most count of doctor in numbers. 3. 98 numbers of doctor is having 8 years of experience."
   ]
  },
  {
   "cell_type": "code",
   "execution_count": 81,
   "id": "fc7d63b8",
   "metadata": {},
   "outputs": [
    {
     "data": {
      "image/png": "[encoded data removed]",
      "text/plain": [
       "<Figure size 1296x288 with 1 Axes>"
      ]
     },
     "metadata": {
      "needs_background": "light"
     },
     "output_type": "display_data"
    },
    {
     "data": {
      "text/plain": [
       "General Medicine    444\n",
       "Dentist             441\n",
       "Dermatologists      339\n",
       "Homeopath           277\n",
       "Ayurveda            251\n",
       "ENT Specialist      235\n",
       "Name: Profile, dtype: int64"
      ]
     },
     "execution_count": 81,
     "metadata": {},
     "output_type": "execute_result"
    }
   ],
   "source": [
    "plt.subplots(figsize=(18,4))\n",
    "sns.countplot(x='Profile',data=test,palette='rainbow')\n",
    "plt.title('Profiles of Doctors')\n",
    "plt.xlabel('Doctor specialisation')\n",
    "plt.ylabel('count of Doctors')\n",
    "plt.show()\n",
    "test['Profile'].value_counts()"
   ]
  },
  {
   "cell_type": "code",
   "execution_count": 82,
   "id": "350a5fa7",
   "metadata": {},
   "outputs": [],
   "source": [
    "#1. we have more number of General medicine doctor which is 444 in counts. 2. Dentist doctors 441 counts in number. 3. the least doctors in count we can observe is ENT Specialist 235 doctors\n"
   ]
  },
  {
   "cell_type": "code",
   "execution_count": 83,
   "id": "d56cd9fd",
   "metadata": {},
   "outputs": [],
   "source": [
    "#Bivariate analysis"
   ]
  },
  {
   "cell_type": "code",
   "execution_count": 84,
   "id": "3bf05762",
   "metadata": {},
   "outputs": [],
   "source": [
    "#Rating vs Profile"
   ]
  },
  {
   "cell_type": "code",
   "execution_count": 85,
   "id": "94fe75f5",
   "metadata": {},
   "outputs": [
    {
     "data": {
      "image/png": "[encoded data removed]",
      "text/plain": [
       "<Figure size 1080x360 with 1 Axes>"
      ]
     },
     "metadata": {
      "needs_background": "light"
     },
     "output_type": "display_data"
    }
   ],
   "source": [
    "plt.subplots(figsize=(18,4))\n",
    "test.groupby('Profile')['Rating'].sum().sort_values(ascending=False).plot(kind=\"bar\",figsize=(15,5))\n",
    "plt.title('Rating based doctor profile in ascending order')\n",
    "plt.xlabel('Doctor Specliasation')\n",
    "plt.ylabel('Rating in percentage')\n",
    "plt.show()"
   ]
  },
  {
   "cell_type": "code",
   "execution_count": 86,
   "id": "6097dcb6",
   "metadata": {},
   "outputs": [],
   "source": [
    "#1. we can observe the profile based on rating the best rating we can observe for Dentist followed by General medicine, and the least rating we can observe for ENT specialist\n"
   ]
  },
  {
   "cell_type": "code",
   "execution_count": 87,
   "id": "2ae7ed42",
   "metadata": {},
   "outputs": [],
   "source": [
    "#Experience vs Profile"
   ]
  },
  {
   "cell_type": "code",
   "execution_count": 88,
   "id": "9eaf5849",
   "metadata": {},
   "outputs": [
    {
     "data": {
      "image/png": "[encoded data removed]",
      "text/plain": [
       "<Figure size 1080x360 with 1 Axes>"
      ]
     },
     "metadata": {
      "needs_background": "light"
     },
     "output_type": "display_data"
    }
   ],
   "source": [
    "plt.subplots(figsize=(18,4))\n",
    "test.groupby('Profile')['Experience'].sum().sort_values(ascending=False).plot(kind=\"bar\",figsize=(15,5))\n",
    "plt.title('Experience of doctor on the basis of there profile in ascending order')\n",
    "plt.xlabel('Doctor Specliasation')\n",
    "plt.ylabel('Experience in years')\n",
    "plt.show()"
   ]
  },
  {
   "cell_type": "code",
   "execution_count": 89,
   "id": "a7ebdb54",
   "metadata": {},
   "outputs": [],
   "source": [
    "# 1. we can oobserve the maximum experience doctor are from the background General Medicine. 2. where as the least experience we can observe for the Homeopath.\n"
   ]
  },
  {
   "cell_type": "code",
   "execution_count": 90,
   "id": "22e14729",
   "metadata": {},
   "outputs": [],
   "source": [
    "#Model Building\n"
   ]
  },
  {
   "cell_type": "code",
   "execution_count": 91,
   "id": "16f91a46",
   "metadata": {},
   "outputs": [],
   "source": [
    "#Skewness"
   ]
  },
  {
   "cell_type": "code",
   "execution_count": 92,
   "id": "5d7a0965",
   "metadata": {},
   "outputs": [
    {
     "data": {
      "image/png": "[encoded data removed]",
      "text/plain": [
       "<Figure size 432x288 with 1 Axes>"
      ]
     },
     "metadata": {
      "needs_background": "light"
     },
     "output_type": "display_data"
    },
    {
     "data": {
      "image/png": "[encoded data removed]",
      "text/plain": [
       "<Figure size 432x288 with 1 Axes>"
      ]
     },
     "metadata": {
      "needs_background": "light"
     },
     "output_type": "display_data"
    },
    {
     "data": {
      "image/png": "[encoded data removed]",
      "text/plain": [
       "<Figure size 432x288 with 1 Axes>"
      ]
     },
     "metadata": {
      "needs_background": "light"
     },
     "output_type": "display_data"
    },
    {
     "data": {
      "image/png": "[encoded data removed]",
      "text/plain": [
       "<Figure size 432x288 with 1 Axes>"
      ]
     },
     "metadata": {
      "needs_background": "light"
     },
     "output_type": "display_data"
    }
   ],
   "source": [
    "for i in train.columns:\n",
    "    sns.distplot(train[i])\n",
    "    plt.show()"
   ]
  },
  {
   "cell_type": "code",
   "execution_count": 93,
   "id": "e86b2676",
   "metadata": {},
   "outputs": [
    {
     "data": {
      "text/plain": [
       "Experience    0.991089\n",
       "Rating       -4.701646\n",
       "Profile       0.108803\n",
       "Fees          0.751870\n",
       "dtype: float64"
      ]
     },
     "execution_count": 93,
     "metadata": {},
     "output_type": "execute_result"
    }
   ],
   "source": [
    "# Now let check the skewness and try to remove the skewness.\n",
    "train.skew()\n",
    "#observation: we can oberve the data is skewed."
   ]
  },
  {
   "cell_type": "code",
   "execution_count": 95,
   "id": "fd70cfbb",
   "metadata": {},
   "outputs": [],
   "source": [
    "#lets apply log transformation and treat the skewed data\n",
    "for col in train.columns:\n",
    "    if train.skew().loc[col]>0.55:\n",
    "        train[col]=np.sqrt(train[col])"
   ]
  },
  {
   "cell_type": "code",
   "execution_count": 96,
   "id": "71485b60",
   "metadata": {},
   "outputs": [
    {
     "data": {
      "text/plain": [
       "Experience    0.082582\n",
       "Rating       -4.701646\n",
       "Profile       0.108803\n",
       "Fees          0.245176\n",
       "dtype: float64"
      ]
     },
     "execution_count": 96,
     "metadata": {},
     "output_type": "execute_result"
    }
   ],
   "source": [
    "train.skew()"
   ]
  },
  {
   "cell_type": "code",
   "execution_count": 97,
   "id": "1370f12a",
   "metadata": {},
   "outputs": [],
   "source": [
    "#Removing Outliers"
   ]
  },
  {
   "cell_type": "code",
   "execution_count": 98,
   "id": "29a75691",
   "metadata": {},
   "outputs": [
    {
     "data": {
      "image/png": "[encoded data removed]",
      "text/plain": [
       "<Figure size 432x288 with 1 Axes>"
      ]
     },
     "metadata": {
      "needs_background": "light"
     },
     "output_type": "display_data"
    },
    {
     "data": {
      "image/png": "[encoded data removed]",
      "text/plain": [
       "<Figure size 432x288 with 1 Axes>"
      ]
     },
     "metadata": {
      "needs_background": "light"
     },
     "output_type": "display_data"
    },
    {
     "data": {
      "image/png": "[encoded data removed]",
      "text/plain": [
       "<Figure size 432x288 with 1 Axes>"
      ]
     },
     "metadata": {
      "needs_background": "light"
     },
     "output_type": "display_data"
    },
    {
     "data": {
      "image/png": "[encoded data removed]",
      "text/plain": [
       "<Figure size 432x288 with 1 Axes>"
      ]
     },
     "metadata": {
      "needs_background": "light"
     },
     "output_type": "display_data"
    }
   ],
   "source": [
    "#lets plot the boxplot to identify the outliers.\n",
    "for i in train.columns:\n",
    "    sns.boxplot(train[i])\n",
    "    plt.show()"
   ]
  },
  {
   "cell_type": "code",
   "execution_count": 99,
   "id": "cbabac4e",
   "metadata": {},
   "outputs": [
    {
     "name": "stdout",
     "output_type": "stream",
     "text": [
      "(5961, 4)\n",
      "(5821, 4)\n"
     ]
    }
   ],
   "source": [
    "#lets remove the outliers using zscore\n",
    "from scipy.stats import zscore\n",
    "z=abs(zscore(train))\n",
    "print(train.shape)\n",
    "new=train.loc[(z<3).all(axis=1)]\n",
    "print(new.shape)\n",
    "# we can observe the new zscore down below."
   ]
  },
  {
   "cell_type": "code",
   "execution_count": 100,
   "id": "013149b7",
   "metadata": {},
   "outputs": [],
   "source": [
    "#Training the model"
   ]
  },
  {
   "cell_type": "code",
   "execution_count": 103,
   "id": "21129e5b",
   "metadata": {},
   "outputs": [],
   "source": [
    "#Lets apply various regression to predict the Deaths"
   ]
  },
  {
   "cell_type": "code",
   "execution_count": 101,
   "id": "a2441e33",
   "metadata": {},
   "outputs": [],
   "source": [
    "# lets sepearate input output columns\n",
    "df_x=new.drop(columns=['Fees']) # Input variable.\n",
    "y=pd.DataFrame(new['Fees']) #Target Variable."
   ]
  },
  {
   "cell_type": "code",
   "execution_count": 102,
   "id": "65909e54",
   "metadata": {},
   "outputs": [
    {
     "data": {
      "text/html": [
       "<div>\n",
       "<style scoped>\n",
       "    .dataframe tbody tr th:only-of-type {\n",
       "        vertical-align: middle;\n",
       "    }\n",
       "\n",
       "    .dataframe tbody tr th {\n",
       "        vertical-align: top;\n",
       "    }\n",
       "\n",
       "    .dataframe thead th {\n",
       "        text-align: right;\n",
       "    }\n",
       "</style>\n",
       "<table border=\"1\" class=\"dataframe\">\n",
       "  <thead>\n",
       "    <tr style=\"text-align: right;\">\n",
       "      <th></th>\n",
       "      <th>Experience</th>\n",
       "      <th>Rating</th>\n",
       "      <th>Profile</th>\n",
       "    </tr>\n",
       "  </thead>\n",
       "  <tbody>\n",
       "    <tr>\n",
       "      <th>0</th>\n",
       "      <td>0.733975</td>\n",
       "      <td>0.484987</td>\n",
       "      <td>1.541260</td>\n",
       "    </tr>\n",
       "    <tr>\n",
       "      <th>1</th>\n",
       "      <td>-0.329524</td>\n",
       "      <td>-0.083329</td>\n",
       "      <td>-1.454891</td>\n",
       "    </tr>\n",
       "    <tr>\n",
       "      <th>2</th>\n",
       "      <td>-0.673506</td>\n",
       "      <td>0.484987</td>\n",
       "      <td>0.342800</td>\n",
       "    </tr>\n",
       "    <tr>\n",
       "      <th>3</th>\n",
       "      <td>-0.329524</td>\n",
       "      <td>0.484987</td>\n",
       "      <td>-1.454891</td>\n",
       "    </tr>\n",
       "    <tr>\n",
       "      <th>4</th>\n",
       "      <td>0.417608</td>\n",
       "      <td>0.484987</td>\n",
       "      <td>-1.454891</td>\n",
       "    </tr>\n",
       "  </tbody>\n",
       "</table>\n",
       "</div>"
      ],
      "text/plain": [
       "   Experience    Rating   Profile\n",
       "0    0.733975  0.484987  1.541260\n",
       "1   -0.329524 -0.083329 -1.454891\n",
       "2   -0.673506  0.484987  0.342800\n",
       "3   -0.329524  0.484987 -1.454891\n",
       "4    0.417608  0.484987 -1.454891"
      ]
     },
     "execution_count": 102,
     "metadata": {},
     "output_type": "execute_result"
    }
   ],
   "source": [
    "# lets scale the input variable\n",
    "from sklearn.preprocessing import StandardScaler\n",
    "sc=StandardScaler()\n",
    "x=sc.fit_transform(df_x)\n",
    "x=pd.DataFrame(x,columns=df_x.columns)\n",
    "x.head()\n",
    "# WE CAN NOTICE OUR DATA IS BEEN SCALED.\n"
   ]
  },
  {
   "cell_type": "code",
   "execution_count": 104,
   "id": "df00d9f8",
   "metadata": {},
   "outputs": [
    {
     "data": {
      "text/plain": [
       "Experience    0.086901\n",
       "Rating       -2.697737\n",
       "Profile       0.126566\n",
       "dtype: float64"
      ]
     },
     "execution_count": 104,
     "metadata": {},
     "output_type": "execute_result"
    }
   ],
   "source": [
    "#lets again check the skewness\n",
    "x.skew()"
   ]
  },
  {
   "cell_type": "code",
   "execution_count": 105,
   "id": "80ea3bb4",
   "metadata": {},
   "outputs": [],
   "source": [
    "# let import diffrent model library\n",
    "from sklearn.linear_model import LinearRegression,Lasso,ElasticNet,Ridge\n",
    "from sklearn.neighbors import KNeighborsRegressor\n",
    "from sklearn.svm import SVR\n",
    "from sklearn.tree import DecisionTreeRegressor\n",
    "#import ensemble technique\n",
    "from sklearn.ensemble import GradientBoostingRegressor\n",
    "from sklearn.ensemble import AdaBoostRegressor\n",
    "from sklearn.ensemble import RandomForestRegressor\n",
    "\n",
    "\n",
    "\n",
    "#importing error matrics\n",
    "from sklearn.metrics import mean_absolute_error,mean_squared_error,r2_score"
   ]
  },
  {
   "cell_type": "code",
   "execution_count": 106,
   "id": "ca8cb824",
   "metadata": {},
   "outputs": [],
   "source": [
    "#lets apply regression to datasets\n",
    "from sklearn.metrics import mean_absolute_error,mean_squared_error,r2_score\n",
    "from sklearn.model_selection import train_test_split\n",
    "def maxr2_score(regr,x,y): #Def is used such that we can call it later\n",
    "    max_r_score=0\n",
    "    for r_state in range(42,100):\n",
    "        x_train,x_test,y_train,y_test=train_test_split(x,y,random_state=r_state,test_size=0.20)\n",
    "        regr.fit(x_train,y_train)\n",
    "        y_pred=regr.predict(x_test)\n",
    "        r2_scr=r2_score(y_test,y_pred)\n",
    "        if r2_scr>max_r_score:\n",
    "            max_r_score=r2_scr\n",
    "            final_r_state=r_state\n",
    "    print()\n",
    "    print('max r2 score correponding to',final_r_state,'is',max_r_score)\n",
    "    print()\n",
    "    print('Error:')\n",
    "    print('Mean absolute error:',mean_absolute_error(y_test,y_pred))\n",
    "    print('Mean Squared error:',mean_squared_error(y_test,y_pred))\n",
    "    print('Root Mean Squared error:',np.sqrt(mean_squared_error(y_test,y_pred)))\n",
    "    print('*******************************************************************')\n",
    "    print()\n",
    "    return final_r_state"
   ]
  },
  {
   "cell_type": "code",
   "execution_count": 107,
   "id": "5715bac0",
   "metadata": {},
   "outputs": [
    {
     "name": "stdout",
     "output_type": "stream",
     "text": [
      "----->> LinearRegression() <<-----\n",
      "\n",
      "max r2 score correponding to 99 is 0.06260063261624194\n",
      "\n",
      "Error:\n",
      "Mean absolute error: 4.420063444711879\n",
      "Mean Squared error: 28.22529508751013\n",
      "Root Mean Squared error: 5.312748355372211\n",
      "*******************************************************************\n",
      "\n",
      "----->> KNeighborsRegressor() <<-----\n",
      "\n",
      "max r2 score correponding to 99 is 0.04536374061198045\n",
      "\n",
      "Error:\n",
      "Mean absolute error: 4.34631442541824\n",
      "Mean Squared error: 28.74430158584997\n",
      "Root Mean Squared error: 5.361371241189139\n",
      "*******************************************************************\n",
      "\n",
      "----->> SVR() <<-----\n",
      "\n",
      "max r2 score correponding to 99 is 0.16629536343432005\n",
      "\n",
      "Error:\n",
      "Mean absolute error: 4.06822761210823\n",
      "Mean Squared error: 25.103024603662035\n",
      "Root Mean Squared error: 5.010291868111281\n",
      "*******************************************************************\n",
      "\n",
      "----->> GradientBoostingRegressor() <<-----\n",
      "\n",
      "max r2 score correponding to 77 is 0.1749487827946058\n",
      "\n",
      "Error:\n",
      "Mean absolute error: 4.095925105418583\n",
      "Mean Squared error: 25.036172555436966\n",
      "Root Mean Squared error: 5.0036159480356766\n",
      "*******************************************************************\n",
      "\n",
      "----->> RandomForestRegressor() <<-----\n",
      "\n",
      "max r2 score correponding to 77 is 0.06315691831763326\n",
      "\n",
      "Error:\n",
      "Mean absolute error: 4.326796684765332\n",
      "Mean Squared error: 28.79439564700335\n",
      "Root Mean Squared error: 5.366040965833503\n",
      "*******************************************************************\n",
      "\n",
      "----->> Ridge() <<-----\n",
      "\n",
      "max r2 score correponding to 99 is 0.06259501320455363\n",
      "\n",
      "Error:\n",
      "Mean absolute error: 4.42007981611705\n",
      "Mean Squared error: 28.225464289195816\n",
      "Root Mean Squared error: 5.31276427946844\n",
      "*******************************************************************\n",
      "\n",
      "----->> ElasticNet() <<-----\n",
      "\n",
      "max r2 score correponding to 79 is 0.02051609594925896\n",
      "\n",
      "Error:\n",
      "Mean absolute error: 4.5540224005247865\n",
      "Mean Squared error: 29.539388417435312\n",
      "Root Mean Squared error: 5.435015033781904\n",
      "*******************************************************************\n",
      "\n",
      "----->> AdaBoostRegressor() <<-----\n",
      "\n",
      "max r2 score correponding to 99 is 0.14386652353873974\n",
      "\n",
      "Error:\n",
      "Mean absolute error: 4.21710505683005\n",
      "Mean Squared error: 25.7783617614949\n",
      "Root Mean Squared error: 5.077239580864281\n",
      "*******************************************************************\n",
      "\n"
     ]
    }
   ],
   "source": [
    "model=[LinearRegression(),KNeighborsRegressor(),SVR(),GradientBoostingRegressor(),RandomForestRegressor(),Ridge(),ElasticNet(),AdaBoostRegressor()]\n",
    "for m in model:\n",
    "    print('----->>',m,'<<-----')\n",
    "    r_state=maxr2_score(m,x,y)"
   ]
  },
  {
   "cell_type": "code",
   "execution_count": 108,
   "id": "a1e54407",
   "metadata": {},
   "outputs": [
    {
     "name": "stdout",
     "output_type": "stream",
     "text": [
      "Cross val score of LinearRegression() is:\n",
      "Cross val score is [0.02193288 0.04479331 0.05321    0.04383626 0.03230473 0.05249999\n",
      " 0.03020776 0.04364052 0.05759042 0.04290911]\n",
      "Mean cross val score of LinearRegression() is 0.0422924992554637\n",
      "Standard deviation of LinearRegression() is 0.010623352804151727\n",
      "\n",
      "*******************************************************************\n",
      "Cross val score of KNeighborsRegressor() is:\n",
      "Cross val score is [-0.09586826 -0.00802026  0.002324   -0.02346788 -0.0146777   0.0356623\n",
      "  0.00278874 -0.06732292  0.0173299   0.00023098]\n",
      "Mean cross val score of KNeighborsRegressor() is -0.015102109207409698\n",
      "Standard deviation of KNeighborsRegressor() is 0.037226628352241053\n",
      "\n",
      "*******************************************************************\n",
      "Cross val score of SVR() is:\n",
      "Cross val score is [0.11639553 0.10817707 0.14402998 0.1025982  0.1289636  0.15444599\n",
      " 0.11108825 0.0720617  0.10132443 0.13887092]\n",
      "Mean cross val score of SVR() is 0.1177955673195766\n",
      "Standard deviation of SVR() is 0.023094808889446206\n",
      "\n",
      "*******************************************************************\n",
      "Cross val score of GradientBoostingRegressor() is:\n",
      "Cross val score is [0.13263418 0.14154706 0.1514692  0.10914722 0.15456638 0.16578407\n",
      " 0.13246835 0.11873534 0.11561035 0.14090765]\n",
      "Mean cross val score of GradientBoostingRegressor() is 0.13628698118540744\n",
      "Standard deviation of GradientBoostingRegressor() is 0.01727370321511573\n",
      "\n",
      "*******************************************************************\n",
      "Cross val score of Ridge() is:\n",
      "Cross val score is [0.02193728 0.04479473 0.05320603 0.04383627 0.03230636 0.05249839\n",
      " 0.03021043 0.0436417  0.05758628 0.04290915]\n",
      "Mean cross val score of Ridge() is 0.042292661641121686\n",
      "Standard deviation of Ridge() is 0.010620944432126316\n",
      "\n",
      "*******************************************************************\n",
      "Cross val score of ElasticNet() is:\n",
      "Cross val score is [0.01376479 0.01972218 0.01808033 0.01695182 0.01514695 0.01911331\n",
      " 0.01457635 0.01888796 0.01988127 0.01631365]\n",
      "Mean cross val score of ElasticNet() is 0.017243860263768895\n",
      "Standard deviation of ElasticNet() is 0.0021109886159985775\n",
      "\n",
      "*******************************************************************\n",
      "Cross val score of AdaBoostRegressor() is:\n",
      "Cross val score is [0.10828136 0.10592716 0.14084154 0.09550467 0.14460888 0.12717553\n",
      " 0.11707004 0.12012705 0.11596552 0.12373942]\n",
      "Mean cross val score of AdaBoostRegressor() is 0.11992411692606728\n",
      "Standard deviation of AdaBoostRegressor() is 0.0143723728783732\n",
      "\n",
      "*******************************************************************\n"
     ]
    }
   ],
   "source": [
    "#lets cross validate all the model uing FOR loop.\n",
    "from sklearn.model_selection import cross_val_score\n",
    "model=[LinearRegression(),KNeighborsRegressor(),SVR(),GradientBoostingRegressor(),Ridge(),ElasticNet(),AdaBoostRegressor()]\n",
    "for m in model:\n",
    "    cvs=cross_val_score(m,x,y,cv=10,scoring='r2')\n",
    "    print('Cross val score of',m,'is:')\n",
    "    print('Cross val score is',cvs)\n",
    "    print('Mean cross val score of',m,'is',cvs.mean())\n",
    "    print('Standard deviation of',m,'is',cvs.std())\n",
    "    print()\n",
    "    print('*******************************************************************')"
   ]
  },
  {
   "cell_type": "code",
   "execution_count": 109,
   "id": "04930cce",
   "metadata": {},
   "outputs": [],
   "source": [
    "#1. From checking above we can conclude that Gradient boosting is working well among all but the RMSE score 5, any how lets check it with grid search cv and lets see the predicted output."
   ]
  },
  {
   "cell_type": "code",
   "execution_count": 110,
   "id": "a124274b",
   "metadata": {},
   "outputs": [
    {
     "data": {
      "text/plain": [
       "{'learning_rate': 0.01, 'n_estimators': 500}"
      ]
     },
     "execution_count": 110,
     "metadata": {},
     "output_type": "execute_result"
    }
   ],
   "source": [
    "# lets check the best parameter using grid search cv.\n",
    "from sklearn.model_selection import GridSearchCV\n",
    "import warnings\n",
    "warnings.filterwarnings('ignore')\n",
    "gbr=GradientBoostingRegressor()\n",
    "parameters={'learning_rate':[0.001,0.01,0.1,1],'n_estimators':[10,100,500,100]} \n",
    "# use n_estimator with step of 50\n",
    "clf=GridSearchCV(gbr,parameters,cv=5)\n",
    "clf.fit(x,y)\n",
    "clf.best_params_"
   ]
  },
  {
   "cell_type": "code",
   "execution_count": 111,
   "id": "606cd281",
   "metadata": {},
   "outputs": [
    {
     "name": "stdout",
     "output_type": "stream",
     "text": [
      "R2 Score for Ridge :  17.85735271444682\n",
      "Cross Validation Score for Ridge:  14.15825999351243\n",
      "\n",
      "Mean absolute error: 4.088227572626076\n",
      "Mean Squared error: 24.62903877856138\n",
      "Root Mean Squared Error : 4.962765235084305\n"
     ]
    }
   ],
   "source": [
    "x_train,x_test,y_train,y_test=train_test_split(x,y,random_state=77,test_size=0.20)\n",
    "gbr=GradientBoostingRegressor(learning_rate=0.01,n_estimators=500)\n",
    "gbr.fit(x_train,y_train)\n",
    "pred=gbr.predict(x_test)\n",
    "print(\"R2 Score for Ridge : \",r2_score(y_test,pred)*100)\n",
    "print('Cross Validation Score for Ridge: ',cross_val_score(gbr,x,y,cv=5,scoring='r2').mean()*100)\n",
    "print()\n",
    "print('Mean absolute error:',mean_absolute_error(y_test,pred))\n",
    "print('Mean Squared error:',mean_squared_error(y_test,pred))\n",
    "print('Root Mean Squared Error :',np.sqrt(mean_squared_error(y_test,pred)))"
   ]
  },
  {
   "cell_type": "code",
   "execution_count": 112,
   "id": "7b30fac9",
   "metadata": {},
   "outputs": [],
   "source": [
    "#1. We can observe that the Gradient boosting is giving score of almost 18% 2. We can also observe that the Cross valid score is 14.15 which i can say gradient boosting is giving best result among all. lets save te model with gradient boosting regressor."
   ]
  },
  {
   "cell_type": "code",
   "execution_count": 113,
   "id": "76c19535",
   "metadata": {},
   "outputs": [],
   "source": [
    "\n",
    "#lets test the model\n",
    "doc_cons_fee=gbr.predict(x)"
   ]
  },
  {
   "cell_type": "code",
   "execution_count": 114,
   "id": "43e35a98",
   "metadata": {},
   "outputs": [
    {
     "name": "stdout",
     "output_type": "stream",
     "text": [
      "AxesSubplot(0.125,0.125;0.775x0.755)\n"
     ]
    },
    {
     "data": {
      "image/png": "[encoded data removed]",
      "text/plain": [
       "<Figure size 432x288 with 1 Axes>"
      ]
     },
     "metadata": {
      "needs_background": "light"
     },
     "output_type": "display_data"
    }
   ],
   "source": [
    "print(sns.distplot([doc_cons_fee]))"
   ]
  },
  {
   "cell_type": "code",
   "execution_count": 115,
   "id": "2ec8dc19",
   "metadata": {},
   "outputs": [],
   "source": [
    "#lets save the predicted result to excel file.\n",
    "ds=pd.DataFrame(doc_cons_fee)\n",
    "ds.to_csv('doctor consultation fee.csv')"
   ]
  },
  {
   "cell_type": "code",
   "execution_count": 117,
   "id": "edecf0f6",
   "metadata": {},
   "outputs": [
    {
     "data": {
      "text/plain": [
       "['doc consultation fee.csv']"
      ]
     },
     "execution_count": 117,
     "metadata": {},
     "output_type": "execute_result"
    }
   ],
   "source": [
    "# lets Save the model\n",
    "import joblib\n",
    "joblib.dump(gbr,'doc consultation fee.csv')"
   ]
  },
  {
   "cell_type": "code",
   "execution_count": null,
   "id": "4b48ef5f",
   "metadata": {},
   "outputs": [],
   "source": []
  }
 ],
 "metadata": {
  "kernelspec": {
   "display_name": "Python 3",
   "language": "python",
   "name": "python3"
  },
  "language_info": {
   "codemirror_mode": {
    "name": "ipython",
    "version": 3
   },
   "file_extension": ".py",
   "mimetype": "text/x-python",
   "name": "python",
   "nbconvert_exporter": "python",
   "pygments_lexer": "ipython3",
   "version": "3.8.8"
  }
 },
 "nbformat": 4,
 "nbformat_minor": 5
}
