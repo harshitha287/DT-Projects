{
 "cells": [
  {
   "cell_type": "markdown",
   "id": "090a05c2",
   "metadata": {},
   "source": [
    "# HR Analytics"
   ]
  },
  {
   "cell_type": "markdown",
   "id": "05a4adf3",
   "metadata": {},
   "source": [
    "## Importing the libraries"
   ]
  },
  {
   "cell_type": "code",
   "execution_count": 2,
   "id": "78b98148",
   "metadata": {},
   "outputs": [],
   "source": [
    "import numpy as np\n",
    "import pandas as pd\n",
    "import matplotlib.pyplot as plt\n",
    "\n",
    "import seaborn as sns\n",
    "from sklearn.preprocessing import LabelEncoder, StandardScaler\n",
    "\n",
    "from sklearn.tree import DecisionTreeClassifier\n",
    "from sklearn.svm import SVC\n",
    "\n",
    "from sklearn.metrics import accuracy_score, classification_report, confusion_matrix, roc_curve, auc\n",
    "from sklearn.model_selection import cross_val_score\n",
    "from sklearn.model_selection import GridSearchCV\n",
    "\n",
    "from sklearn.model_selection import train_test_split, cross_val_score\n",
    "from sklearn import linear_model\n",
    "import warnings\n",
    "warnings.filterwarnings('ignore')"
   ]
  },
  {
   "cell_type": "markdown",
   "id": "d0373219",
   "metadata": {},
   "source": [
    "## Importing Dataset "
   ]
  },
  {
   "cell_type": "code",
   "execution_count": 4,
   "id": "f3bbf380",
   "metadata": {},
   "outputs": [],
   "source": [
    "df=pd.read_csv(r\"C:\\Users\\Harshitha\\Desktop\\Data Trained\\Projects\\HR-Employee-Attrition.csv\")"
   ]
  },
  {
   "cell_type": "code",
   "execution_count": 5,
   "id": "81290a22",
   "metadata": {},
   "outputs": [
    {
     "data": {
      "text/html": [
       "<div>\n",
       "<style scoped>\n",
       "    .dataframe tbody tr th:only-of-type {\n",
       "        vertical-align: middle;\n",
       "    }\n",
       "\n",
       "    .dataframe tbody tr th {\n",
       "        vertical-align: top;\n",
       "    }\n",
       "\n",
       "    .dataframe thead th {\n",
       "        text-align: right;\n",
       "    }\n",
       "</style>\n",
       "<table border=\"1\" class=\"dataframe\">\n",
       "  <thead>\n",
       "    <tr style=\"text-align: right;\">\n",
       "      <th></th>\n",
       "      <th>Age</th>\n",
       "      <th>Attrition</th>\n",
       "      <th>BusinessTravel</th>\n",
       "      <th>DailyRate</th>\n",
       "      <th>Department</th>\n",
       "      <th>DistanceFromHome</th>\n",
       "      <th>Education</th>\n",
       "      <th>EducationField</th>\n",
       "      <th>EmployeeCount</th>\n",
       "      <th>EmployeeNumber</th>\n",
       "      <th>...</th>\n",
       "      <th>RelationshipSatisfaction</th>\n",
       "      <th>StandardHours</th>\n",
       "      <th>StockOptionLevel</th>\n",
       "      <th>TotalWorkingYears</th>\n",
       "      <th>TrainingTimesLastYear</th>\n",
       "      <th>WorkLifeBalance</th>\n",
       "      <th>YearsAtCompany</th>\n",
       "      <th>YearsInCurrentRole</th>\n",
       "      <th>YearsSinceLastPromotion</th>\n",
       "      <th>YearsWithCurrManager</th>\n",
       "    </tr>\n",
       "  </thead>\n",
       "  <tbody>\n",
       "    <tr>\n",
       "      <th>0</th>\n",
       "      <td>41</td>\n",
       "      <td>Yes</td>\n",
       "      <td>Travel_Rarely</td>\n",
       "      <td>1102</td>\n",
       "      <td>Sales</td>\n",
       "      <td>1</td>\n",
       "      <td>2</td>\n",
       "      <td>Life Sciences</td>\n",
       "      <td>1</td>\n",
       "      <td>1</td>\n",
       "      <td>...</td>\n",
       "      <td>1</td>\n",
       "      <td>80</td>\n",
       "      <td>0</td>\n",
       "      <td>8</td>\n",
       "      <td>0</td>\n",
       "      <td>1</td>\n",
       "      <td>6</td>\n",
       "      <td>4</td>\n",
       "      <td>0</td>\n",
       "      <td>5</td>\n",
       "    </tr>\n",
       "    <tr>\n",
       "      <th>1</th>\n",
       "      <td>49</td>\n",
       "      <td>No</td>\n",
       "      <td>Travel_Frequently</td>\n",
       "      <td>279</td>\n",
       "      <td>Research &amp; Development</td>\n",
       "      <td>8</td>\n",
       "      <td>1</td>\n",
       "      <td>Life Sciences</td>\n",
       "      <td>1</td>\n",
       "      <td>2</td>\n",
       "      <td>...</td>\n",
       "      <td>4</td>\n",
       "      <td>80</td>\n",
       "      <td>1</td>\n",
       "      <td>10</td>\n",
       "      <td>3</td>\n",
       "      <td>3</td>\n",
       "      <td>10</td>\n",
       "      <td>7</td>\n",
       "      <td>1</td>\n",
       "      <td>7</td>\n",
       "    </tr>\n",
       "    <tr>\n",
       "      <th>2</th>\n",
       "      <td>37</td>\n",
       "      <td>Yes</td>\n",
       "      <td>Travel_Rarely</td>\n",
       "      <td>1373</td>\n",
       "      <td>Research &amp; Development</td>\n",
       "      <td>2</td>\n",
       "      <td>2</td>\n",
       "      <td>Other</td>\n",
       "      <td>1</td>\n",
       "      <td>4</td>\n",
       "      <td>...</td>\n",
       "      <td>2</td>\n",
       "      <td>80</td>\n",
       "      <td>0</td>\n",
       "      <td>7</td>\n",
       "      <td>3</td>\n",
       "      <td>3</td>\n",
       "      <td>0</td>\n",
       "      <td>0</td>\n",
       "      <td>0</td>\n",
       "      <td>0</td>\n",
       "    </tr>\n",
       "    <tr>\n",
       "      <th>3</th>\n",
       "      <td>33</td>\n",
       "      <td>No</td>\n",
       "      <td>Travel_Frequently</td>\n",
       "      <td>1392</td>\n",
       "      <td>Research &amp; Development</td>\n",
       "      <td>3</td>\n",
       "      <td>4</td>\n",
       "      <td>Life Sciences</td>\n",
       "      <td>1</td>\n",
       "      <td>5</td>\n",
       "      <td>...</td>\n",
       "      <td>3</td>\n",
       "      <td>80</td>\n",
       "      <td>0</td>\n",
       "      <td>8</td>\n",
       "      <td>3</td>\n",
       "      <td>3</td>\n",
       "      <td>8</td>\n",
       "      <td>7</td>\n",
       "      <td>3</td>\n",
       "      <td>0</td>\n",
       "    </tr>\n",
       "    <tr>\n",
       "      <th>4</th>\n",
       "      <td>27</td>\n",
       "      <td>No</td>\n",
       "      <td>Travel_Rarely</td>\n",
       "      <td>591</td>\n",
       "      <td>Research &amp; Development</td>\n",
       "      <td>2</td>\n",
       "      <td>1</td>\n",
       "      <td>Medical</td>\n",
       "      <td>1</td>\n",
       "      <td>7</td>\n",
       "      <td>...</td>\n",
       "      <td>4</td>\n",
       "      <td>80</td>\n",
       "      <td>1</td>\n",
       "      <td>6</td>\n",
       "      <td>3</td>\n",
       "      <td>3</td>\n",
       "      <td>2</td>\n",
       "      <td>2</td>\n",
       "      <td>2</td>\n",
       "      <td>2</td>\n",
       "    </tr>\n",
       "    <tr>\n",
       "      <th>...</th>\n",
       "      <td>...</td>\n",
       "      <td>...</td>\n",
       "      <td>...</td>\n",
       "      <td>...</td>\n",
       "      <td>...</td>\n",
       "      <td>...</td>\n",
       "      <td>...</td>\n",
       "      <td>...</td>\n",
       "      <td>...</td>\n",
       "      <td>...</td>\n",
       "      <td>...</td>\n",
       "      <td>...</td>\n",
       "      <td>...</td>\n",
       "      <td>...</td>\n",
       "      <td>...</td>\n",
       "      <td>...</td>\n",
       "      <td>...</td>\n",
       "      <td>...</td>\n",
       "      <td>...</td>\n",
       "      <td>...</td>\n",
       "      <td>...</td>\n",
       "    </tr>\n",
       "    <tr>\n",
       "      <th>1465</th>\n",
       "      <td>36</td>\n",
       "      <td>No</td>\n",
       "      <td>Travel_Frequently</td>\n",
       "      <td>884</td>\n",
       "      <td>Research &amp; Development</td>\n",
       "      <td>23</td>\n",
       "      <td>2</td>\n",
       "      <td>Medical</td>\n",
       "      <td>1</td>\n",
       "      <td>2061</td>\n",
       "      <td>...</td>\n",
       "      <td>3</td>\n",
       "      <td>80</td>\n",
       "      <td>1</td>\n",
       "      <td>17</td>\n",
       "      <td>3</td>\n",
       "      <td>3</td>\n",
       "      <td>5</td>\n",
       "      <td>2</td>\n",
       "      <td>0</td>\n",
       "      <td>3</td>\n",
       "    </tr>\n",
       "    <tr>\n",
       "      <th>1466</th>\n",
       "      <td>39</td>\n",
       "      <td>No</td>\n",
       "      <td>Travel_Rarely</td>\n",
       "      <td>613</td>\n",
       "      <td>Research &amp; Development</td>\n",
       "      <td>6</td>\n",
       "      <td>1</td>\n",
       "      <td>Medical</td>\n",
       "      <td>1</td>\n",
       "      <td>2062</td>\n",
       "      <td>...</td>\n",
       "      <td>1</td>\n",
       "      <td>80</td>\n",
       "      <td>1</td>\n",
       "      <td>9</td>\n",
       "      <td>5</td>\n",
       "      <td>3</td>\n",
       "      <td>7</td>\n",
       "      <td>7</td>\n",
       "      <td>1</td>\n",
       "      <td>7</td>\n",
       "    </tr>\n",
       "    <tr>\n",
       "      <th>1467</th>\n",
       "      <td>27</td>\n",
       "      <td>No</td>\n",
       "      <td>Travel_Rarely</td>\n",
       "      <td>155</td>\n",
       "      <td>Research &amp; Development</td>\n",
       "      <td>4</td>\n",
       "      <td>3</td>\n",
       "      <td>Life Sciences</td>\n",
       "      <td>1</td>\n",
       "      <td>2064</td>\n",
       "      <td>...</td>\n",
       "      <td>2</td>\n",
       "      <td>80</td>\n",
       "      <td>1</td>\n",
       "      <td>6</td>\n",
       "      <td>0</td>\n",
       "      <td>3</td>\n",
       "      <td>6</td>\n",
       "      <td>2</td>\n",
       "      <td>0</td>\n",
       "      <td>3</td>\n",
       "    </tr>\n",
       "    <tr>\n",
       "      <th>1468</th>\n",
       "      <td>49</td>\n",
       "      <td>No</td>\n",
       "      <td>Travel_Frequently</td>\n",
       "      <td>1023</td>\n",
       "      <td>Sales</td>\n",
       "      <td>2</td>\n",
       "      <td>3</td>\n",
       "      <td>Medical</td>\n",
       "      <td>1</td>\n",
       "      <td>2065</td>\n",
       "      <td>...</td>\n",
       "      <td>4</td>\n",
       "      <td>80</td>\n",
       "      <td>0</td>\n",
       "      <td>17</td>\n",
       "      <td>3</td>\n",
       "      <td>2</td>\n",
       "      <td>9</td>\n",
       "      <td>6</td>\n",
       "      <td>0</td>\n",
       "      <td>8</td>\n",
       "    </tr>\n",
       "    <tr>\n",
       "      <th>1469</th>\n",
       "      <td>34</td>\n",
       "      <td>No</td>\n",
       "      <td>Travel_Rarely</td>\n",
       "      <td>628</td>\n",
       "      <td>Research &amp; Development</td>\n",
       "      <td>8</td>\n",
       "      <td>3</td>\n",
       "      <td>Medical</td>\n",
       "      <td>1</td>\n",
       "      <td>2068</td>\n",
       "      <td>...</td>\n",
       "      <td>1</td>\n",
       "      <td>80</td>\n",
       "      <td>0</td>\n",
       "      <td>6</td>\n",
       "      <td>3</td>\n",
       "      <td>4</td>\n",
       "      <td>4</td>\n",
       "      <td>3</td>\n",
       "      <td>1</td>\n",
       "      <td>2</td>\n",
       "    </tr>\n",
       "  </tbody>\n",
       "</table>\n",
       "<p>1470 rows × 35 columns</p>\n",
       "</div>"
      ],
      "text/plain": [
       "      Age Attrition     BusinessTravel  DailyRate              Department  \\\n",
       "0      41       Yes      Travel_Rarely       1102                   Sales   \n",
       "1      49        No  Travel_Frequently        279  Research & Development   \n",
       "2      37       Yes      Travel_Rarely       1373  Research & Development   \n",
       "3      33        No  Travel_Frequently       1392  Research & Development   \n",
       "4      27        No      Travel_Rarely        591  Research & Development   \n",
       "...   ...       ...                ...        ...                     ...   \n",
       "1465   36        No  Travel_Frequently        884  Research & Development   \n",
       "1466   39        No      Travel_Rarely        613  Research & Development   \n",
       "1467   27        No      Travel_Rarely        155  Research & Development   \n",
       "1468   49        No  Travel_Frequently       1023                   Sales   \n",
       "1469   34        No      Travel_Rarely        628  Research & Development   \n",
       "\n",
       "      DistanceFromHome  Education EducationField  EmployeeCount  \\\n",
       "0                    1          2  Life Sciences              1   \n",
       "1                    8          1  Life Sciences              1   \n",
       "2                    2          2          Other              1   \n",
       "3                    3          4  Life Sciences              1   \n",
       "4                    2          1        Medical              1   \n",
       "...                ...        ...            ...            ...   \n",
       "1465                23          2        Medical              1   \n",
       "1466                 6          1        Medical              1   \n",
       "1467                 4          3  Life Sciences              1   \n",
       "1468                 2          3        Medical              1   \n",
       "1469                 8          3        Medical              1   \n",
       "\n",
       "      EmployeeNumber  ...  RelationshipSatisfaction StandardHours  \\\n",
       "0                  1  ...                         1            80   \n",
       "1                  2  ...                         4            80   \n",
       "2                  4  ...                         2            80   \n",
       "3                  5  ...                         3            80   \n",
       "4                  7  ...                         4            80   \n",
       "...              ...  ...                       ...           ...   \n",
       "1465            2061  ...                         3            80   \n",
       "1466            2062  ...                         1            80   \n",
       "1467            2064  ...                         2            80   \n",
       "1468            2065  ...                         4            80   \n",
       "1469            2068  ...                         1            80   \n",
       "\n",
       "      StockOptionLevel  TotalWorkingYears  TrainingTimesLastYear  \\\n",
       "0                    0                  8                      0   \n",
       "1                    1                 10                      3   \n",
       "2                    0                  7                      3   \n",
       "3                    0                  8                      3   \n",
       "4                    1                  6                      3   \n",
       "...                ...                ...                    ...   \n",
       "1465                 1                 17                      3   \n",
       "1466                 1                  9                      5   \n",
       "1467                 1                  6                      0   \n",
       "1468                 0                 17                      3   \n",
       "1469                 0                  6                      3   \n",
       "\n",
       "     WorkLifeBalance  YearsAtCompany YearsInCurrentRole  \\\n",
       "0                  1               6                  4   \n",
       "1                  3              10                  7   \n",
       "2                  3               0                  0   \n",
       "3                  3               8                  7   \n",
       "4                  3               2                  2   \n",
       "...              ...             ...                ...   \n",
       "1465               3               5                  2   \n",
       "1466               3               7                  7   \n",
       "1467               3               6                  2   \n",
       "1468               2               9                  6   \n",
       "1469               4               4                  3   \n",
       "\n",
       "      YearsSinceLastPromotion  YearsWithCurrManager  \n",
       "0                           0                     5  \n",
       "1                           1                     7  \n",
       "2                           0                     0  \n",
       "3                           3                     0  \n",
       "4                           2                     2  \n",
       "...                       ...                   ...  \n",
       "1465                        0                     3  \n",
       "1466                        1                     7  \n",
       "1467                        0                     3  \n",
       "1468                        0                     8  \n",
       "1469                        1                     2  \n",
       "\n",
       "[1470 rows x 35 columns]"
      ]
     },
     "execution_count": 5,
     "metadata": {},
     "output_type": "execute_result"
    }
   ],
   "source": [
    "df"
   ]
  },
  {
   "cell_type": "code",
   "execution_count": 6,
   "id": "48e1f666",
   "metadata": {},
   "outputs": [
    {
     "data": {
      "text/plain": [
       "(1470, 35)"
      ]
     },
     "execution_count": 6,
     "metadata": {},
     "output_type": "execute_result"
    }
   ],
   "source": [
    "df.shape"
   ]
  },
  {
   "cell_type": "code",
   "execution_count": 7,
   "id": "cbc88154",
   "metadata": {},
   "outputs": [
    {
     "data": {
      "text/plain": [
       "Index(['Age', 'Attrition', 'BusinessTravel', 'DailyRate', 'Department',\n",
       "       'DistanceFromHome', 'Education', 'EducationField', 'EmployeeCount',\n",
       "       'EmployeeNumber', 'EnvironmentSatisfaction', 'Gender', 'HourlyRate',\n",
       "       'JobInvolvement', 'JobLevel', 'JobRole', 'JobSatisfaction',\n",
       "       'MaritalStatus', 'MonthlyIncome', 'MonthlyRate', 'NumCompaniesWorked',\n",
       "       'Over18', 'OverTime', 'PercentSalaryHike', 'PerformanceRating',\n",
       "       'RelationshipSatisfaction', 'StandardHours', 'StockOptionLevel',\n",
       "       'TotalWorkingYears', 'TrainingTimesLastYear', 'WorkLifeBalance',\n",
       "       'YearsAtCompany', 'YearsInCurrentRole', 'YearsSinceLastPromotion',\n",
       "       'YearsWithCurrManager'],\n",
       "      dtype='object')"
      ]
     },
     "execution_count": 7,
     "metadata": {},
     "output_type": "execute_result"
    }
   ],
   "source": [
    "df.columns"
   ]
  },
  {
   "cell_type": "code",
   "execution_count": 10,
   "id": "6d0cfa23",
   "metadata": {},
   "outputs": [
    {
     "data": {
      "text/plain": [
       "Age                          int64\n",
       "Attrition                   object\n",
       "BusinessTravel              object\n",
       "DailyRate                    int64\n",
       "Department                  object\n",
       "DistanceFromHome             int64\n",
       "Education                    int64\n",
       "EducationField              object\n",
       "EmployeeCount                int64\n",
       "EmployeeNumber               int64\n",
       "EnvironmentSatisfaction      int64\n",
       "Gender                      object\n",
       "HourlyRate                   int64\n",
       "JobInvolvement               int64\n",
       "JobLevel                     int64\n",
       "JobRole                     object\n",
       "JobSatisfaction              int64\n",
       "MaritalStatus               object\n",
       "MonthlyIncome                int64\n",
       "MonthlyRate                  int64\n",
       "NumCompaniesWorked           int64\n",
       "Over18                      object\n",
       "OverTime                    object\n",
       "PercentSalaryHike            int64\n",
       "PerformanceRating            int64\n",
       "RelationshipSatisfaction     int64\n",
       "StandardHours                int64\n",
       "StockOptionLevel             int64\n",
       "TotalWorkingYears            int64\n",
       "TrainingTimesLastYear        int64\n",
       "WorkLifeBalance              int64\n",
       "YearsAtCompany               int64\n",
       "YearsInCurrentRole           int64\n",
       "YearsSinceLastPromotion      int64\n",
       "YearsWithCurrManager         int64\n",
       "dtype: object"
      ]
     },
     "execution_count": 10,
     "metadata": {},
     "output_type": "execute_result"
    }
   ],
   "source": [
    "df.dtypes"
   ]
  },
  {
   "cell_type": "code",
   "execution_count": 9,
   "id": "95f4ba4e",
   "metadata": {},
   "outputs": [
    {
     "data": {
      "text/plain": [
       "Age                         0\n",
       "Attrition                   0\n",
       "BusinessTravel              0\n",
       "DailyRate                   0\n",
       "Department                  0\n",
       "DistanceFromHome            0\n",
       "Education                   0\n",
       "EducationField              0\n",
       "EmployeeCount               0\n",
       "EmployeeNumber              0\n",
       "EnvironmentSatisfaction     0\n",
       "Gender                      0\n",
       "HourlyRate                  0\n",
       "JobInvolvement              0\n",
       "JobLevel                    0\n",
       "JobRole                     0\n",
       "JobSatisfaction             0\n",
       "MaritalStatus               0\n",
       "MonthlyIncome               0\n",
       "MonthlyRate                 0\n",
       "NumCompaniesWorked          0\n",
       "Over18                      0\n",
       "OverTime                    0\n",
       "PercentSalaryHike           0\n",
       "PerformanceRating           0\n",
       "RelationshipSatisfaction    0\n",
       "StandardHours               0\n",
       "StockOptionLevel            0\n",
       "TotalWorkingYears           0\n",
       "TrainingTimesLastYear       0\n",
       "WorkLifeBalance             0\n",
       "YearsAtCompany              0\n",
       "YearsInCurrentRole          0\n",
       "YearsSinceLastPromotion     0\n",
       "YearsWithCurrManager        0\n",
       "dtype: int64"
      ]
     },
     "execution_count": 9,
     "metadata": {},
     "output_type": "execute_result"
    }
   ],
   "source": [
    "df.isnull().sum()"
   ]
  },
  {
   "cell_type": "code",
   "execution_count": 14,
   "id": "164e7dbd",
   "metadata": {},
   "outputs": [
    {
     "data": {
      "text/plain": [
       "No     1233\n",
       "Yes     237\n",
       "Name: Attrition, dtype: int64"
      ]
     },
     "execution_count": 14,
     "metadata": {},
     "output_type": "execute_result"
    }
   ],
   "source": [
    "df['Attrition'].value_counts()  #check the value count of target variable."
   ]
  },
  {
   "cell_type": "code",
   "execution_count": 16,
   "id": "a4c3cab8",
   "metadata": {},
   "outputs": [
    {
     "data": {
      "text/plain": [
       "<AxesSubplot:>"
      ]
     },
     "execution_count": 16,
     "metadata": {},
     "output_type": "execute_result"
    },
    {
     "data": {
      "image/png": "[encoded data removed]",
      "text/plain": [
       "<Figure size 432x288 with 2 Axes>"
      ]
     },
     "metadata": {
      "needs_background": "light"
     },
     "output_type": "display_data"
    }
   ],
   "source": [
    "# Checking visualization through heatmap for null values\n",
    "sns.heatmap(df.isnull())"
   ]
  },
  {
   "cell_type": "markdown",
   "id": "8eeb41f6",
   "metadata": {},
   "source": [
    "## EDA"
   ]
  },
  {
   "cell_type": "code",
   "execution_count": 21,
   "id": "ec8901c1",
   "metadata": {},
   "outputs": [
    {
     "data": {
      "image/png": "[encoded data removed]",
      "text/plain": [
       "<Figure size 432x288 with 1 Axes>"
      ]
     },
     "metadata": {
      "needs_background": "light"
     },
     "output_type": "display_data"
    }
   ],
   "source": [
    "# Countplot Display distribution of data across all level of category\n",
    "sns.countplot(x='Attrition',data=df);\n",
    "plt.show()"
   ]
  },
  {
   "cell_type": "markdown",
   "id": "3f4aed65",
   "metadata": {},
   "source": [
    "just by observing countplot, the attrition has almost 18% of Employee retention rate"
   ]
  },
  {
   "cell_type": "code",
   "execution_count": 31,
   "id": "0384fad7",
   "metadata": {},
   "outputs": [
    {
     "data": {
      "image/png": "[encoded data removed]",
      "text/plain": [
       "<Figure size 432x288 with 1 Axes>"
      ]
     },
     "metadata": {
      "needs_background": "light"
     },
     "output_type": "display_data"
    }
   ],
   "source": [
    "sns.countplot(df['Gender'])\n",
    "plt.show()"
   ]
  },
  {
   "cell_type": "code",
   "execution_count": 33,
   "id": "58590f91",
   "metadata": {},
   "outputs": [
    {
     "data": {
      "image/png": "[encoded data removed]",
      "text/plain": [
       "<Figure size 432x288 with 1 Axes>"
      ]
     },
     "metadata": {
      "needs_background": "light"
     },
     "output_type": "display_data"
    }
   ],
   "source": [
    "sns.countplot(df['Department'])\n",
    "plt.show()"
   ]
  },
  {
   "cell_type": "code",
   "execution_count": 35,
   "id": "1724e1f1",
   "metadata": {},
   "outputs": [
    {
     "data": {
      "text/plain": [
       "<AxesSubplot:xlabel='JobRole', ylabel='count'>"
      ]
     },
     "execution_count": 35,
     "metadata": {},
     "output_type": "execute_result"
    },
    {
     "data": {
      "image/png": "[encoded data removed]",
      "text/plain": [
       "<Figure size 1080x360 with 1 Axes>"
      ]
     },
     "metadata": {
      "needs_background": "light"
     },
     "output_type": "display_data"
    }
   ],
   "source": [
    "plt.figure(figsize=(15,5))\n",
    "sns.countplot(df['JobRole'])"
   ]
  },
  {
   "cell_type": "code",
   "execution_count": 37,
   "id": "0ab08ee4",
   "metadata": {},
   "outputs": [
    {
     "data": {
      "text/plain": [
       "<AxesSubplot:xlabel='OverTime', ylabel='count'>"
      ]
     },
     "execution_count": 37,
     "metadata": {},
     "output_type": "execute_result"
    },
    {
     "data": {
      "image/png": "[encoded data removed]",
      "text/plain": [
       "<Figure size 432x288 with 1 Axes>"
      ]
     },
     "metadata": {
      "needs_background": "light"
     },
     "output_type": "display_data"
    }
   ],
   "source": [
    "sns.countplot(df['OverTime'])"
   ]
  },
  {
   "cell_type": "code",
   "execution_count": 23,
   "id": "487904e6",
   "metadata": {},
   "outputs": [
    {
     "data": {
      "text/plain": [
       "<AxesSubplot:xlabel='Age', ylabel='count'>"
      ]
     },
     "execution_count": 23,
     "metadata": {},
     "output_type": "execute_result"
    },
    {
     "data": {
      "image/png": "[encoded data removed]",
      "text/plain": [
       "<Figure size 1440x720 with 1 Axes>"
      ]
     },
     "metadata": {
      "needs_background": "light"
     },
     "output_type": "display_data"
    }
   ],
   "source": [
    "# Countplot Display distribution of data across Age vs Attrition.\n",
    "plt.subplots(figsize=(20,10))\n",
    "sns.countplot(x='Age',hue='Attrition',data=df,palette='colorblind')"
   ]
  },
  {
   "cell_type": "code",
   "execution_count": 24,
   "id": "c8e9046d",
   "metadata": {},
   "outputs": [
    {
     "data": {
      "text/plain": [
       "<AxesSubplot:xlabel='MaritalStatus', ylabel='MonthlyIncome'>"
      ]
     },
     "execution_count": 24,
     "metadata": {},
     "output_type": "execute_result"
    },
    {
     "data": {
      "image/png": "[encoded data removed]",
      "text/plain": [
       "<Figure size 432x288 with 1 Axes>"
      ]
     },
     "metadata": {
      "needs_background": "light"
     },
     "output_type": "display_data"
    }
   ],
   "source": [
    "# Barplot Display distribution of data across all level of category\n",
    "sns.barplot(x='MaritalStatus',y='MonthlyIncome',hue='Attrition',data=df)"
   ]
  },
  {
   "cell_type": "markdown",
   "id": "e74593c9",
   "metadata": {},
   "source": [
    "Just by observing barplot,the monthly income is high for married person"
   ]
  },
  {
   "cell_type": "code",
   "execution_count": 26,
   "id": "0ccf02d7",
   "metadata": {},
   "outputs": [
    {
     "data": {
      "text/plain": [
       "<AxesSubplot:xlabel='PerformanceRating', ylabel='PercentSalaryHike'>"
      ]
     },
     "execution_count": 26,
     "metadata": {},
     "output_type": "execute_result"
    },
    {
     "data": {
      "image/png": "[encoded data removed]",
      "text/plain": [
       "<Figure size 432x288 with 1 Axes>"
      ]
     },
     "metadata": {
      "needs_background": "light"
     },
     "output_type": "display_data"
    }
   ],
   "source": [
    "# Barplot Display distribution of data across all level of category\n",
    "sns.barplot(x='PerformanceRating',y='PercentSalaryHike',data=df)"
   ]
  },
  {
   "cell_type": "markdown",
   "id": "470071a0",
   "metadata": {},
   "source": [
    "The percentage of salary hike is also high for employees whose performance rating is high"
   ]
  },
  {
   "cell_type": "code",
   "execution_count": 18,
   "id": "aa997ea1",
   "metadata": {},
   "outputs": [
    {
     "data": {
      "text/html": [
       "<div>\n",
       "<style scoped>\n",
       "    .dataframe tbody tr th:only-of-type {\n",
       "        vertical-align: middle;\n",
       "    }\n",
       "\n",
       "    .dataframe tbody tr th {\n",
       "        vertical-align: top;\n",
       "    }\n",
       "\n",
       "    .dataframe thead th {\n",
       "        text-align: right;\n",
       "    }\n",
       "</style>\n",
       "<table border=\"1\" class=\"dataframe\">\n",
       "  <thead>\n",
       "    <tr style=\"text-align: right;\">\n",
       "      <th></th>\n",
       "      <th>Age</th>\n",
       "      <th>DailyRate</th>\n",
       "      <th>DistanceFromHome</th>\n",
       "      <th>Education</th>\n",
       "      <th>EmployeeCount</th>\n",
       "      <th>EmployeeNumber</th>\n",
       "      <th>EnvironmentSatisfaction</th>\n",
       "      <th>HourlyRate</th>\n",
       "      <th>JobInvolvement</th>\n",
       "      <th>JobLevel</th>\n",
       "      <th>...</th>\n",
       "      <th>RelationshipSatisfaction</th>\n",
       "      <th>StandardHours</th>\n",
       "      <th>StockOptionLevel</th>\n",
       "      <th>TotalWorkingYears</th>\n",
       "      <th>TrainingTimesLastYear</th>\n",
       "      <th>WorkLifeBalance</th>\n",
       "      <th>YearsAtCompany</th>\n",
       "      <th>YearsInCurrentRole</th>\n",
       "      <th>YearsSinceLastPromotion</th>\n",
       "      <th>YearsWithCurrManager</th>\n",
       "    </tr>\n",
       "  </thead>\n",
       "  <tbody>\n",
       "    <tr>\n",
       "      <th>Age</th>\n",
       "      <td>1.000000</td>\n",
       "      <td>0.010661</td>\n",
       "      <td>-0.001686</td>\n",
       "      <td>0.208034</td>\n",
       "      <td>NaN</td>\n",
       "      <td>-0.010145</td>\n",
       "      <td>0.010146</td>\n",
       "      <td>0.024287</td>\n",
       "      <td>0.029820</td>\n",
       "      <td>0.509604</td>\n",
       "      <td>...</td>\n",
       "      <td>0.053535</td>\n",
       "      <td>NaN</td>\n",
       "      <td>0.037510</td>\n",
       "      <td>0.680381</td>\n",
       "      <td>-0.019621</td>\n",
       "      <td>-0.021490</td>\n",
       "      <td>0.311309</td>\n",
       "      <td>0.212901</td>\n",
       "      <td>0.216513</td>\n",
       "      <td>0.202089</td>\n",
       "    </tr>\n",
       "    <tr>\n",
       "      <th>DailyRate</th>\n",
       "      <td>0.010661</td>\n",
       "      <td>1.000000</td>\n",
       "      <td>-0.004985</td>\n",
       "      <td>-0.016806</td>\n",
       "      <td>NaN</td>\n",
       "      <td>-0.050990</td>\n",
       "      <td>0.018355</td>\n",
       "      <td>0.023381</td>\n",
       "      <td>0.046135</td>\n",
       "      <td>0.002966</td>\n",
       "      <td>...</td>\n",
       "      <td>0.007846</td>\n",
       "      <td>NaN</td>\n",
       "      <td>0.042143</td>\n",
       "      <td>0.014515</td>\n",
       "      <td>0.002453</td>\n",
       "      <td>-0.037848</td>\n",
       "      <td>-0.034055</td>\n",
       "      <td>0.009932</td>\n",
       "      <td>-0.033229</td>\n",
       "      <td>-0.026363</td>\n",
       "    </tr>\n",
       "    <tr>\n",
       "      <th>DistanceFromHome</th>\n",
       "      <td>-0.001686</td>\n",
       "      <td>-0.004985</td>\n",
       "      <td>1.000000</td>\n",
       "      <td>0.021042</td>\n",
       "      <td>NaN</td>\n",
       "      <td>0.032916</td>\n",
       "      <td>-0.016075</td>\n",
       "      <td>0.031131</td>\n",
       "      <td>0.008783</td>\n",
       "      <td>0.005303</td>\n",
       "      <td>...</td>\n",
       "      <td>0.006557</td>\n",
       "      <td>NaN</td>\n",
       "      <td>0.044872</td>\n",
       "      <td>0.004628</td>\n",
       "      <td>-0.036942</td>\n",
       "      <td>-0.026556</td>\n",
       "      <td>0.009508</td>\n",
       "      <td>0.018845</td>\n",
       "      <td>0.010029</td>\n",
       "      <td>0.014406</td>\n",
       "    </tr>\n",
       "    <tr>\n",
       "      <th>Education</th>\n",
       "      <td>0.208034</td>\n",
       "      <td>-0.016806</td>\n",
       "      <td>0.021042</td>\n",
       "      <td>1.000000</td>\n",
       "      <td>NaN</td>\n",
       "      <td>0.042070</td>\n",
       "      <td>-0.027128</td>\n",
       "      <td>0.016775</td>\n",
       "      <td>0.042438</td>\n",
       "      <td>0.101589</td>\n",
       "      <td>...</td>\n",
       "      <td>-0.009118</td>\n",
       "      <td>NaN</td>\n",
       "      <td>0.018422</td>\n",
       "      <td>0.148280</td>\n",
       "      <td>-0.025100</td>\n",
       "      <td>0.009819</td>\n",
       "      <td>0.069114</td>\n",
       "      <td>0.060236</td>\n",
       "      <td>0.054254</td>\n",
       "      <td>0.069065</td>\n",
       "    </tr>\n",
       "    <tr>\n",
       "      <th>EmployeeCount</th>\n",
       "      <td>NaN</td>\n",
       "      <td>NaN</td>\n",
       "      <td>NaN</td>\n",
       "      <td>NaN</td>\n",
       "      <td>NaN</td>\n",
       "      <td>NaN</td>\n",
       "      <td>NaN</td>\n",
       "      <td>NaN</td>\n",
       "      <td>NaN</td>\n",
       "      <td>NaN</td>\n",
       "      <td>...</td>\n",
       "      <td>NaN</td>\n",
       "      <td>NaN</td>\n",
       "      <td>NaN</td>\n",
       "      <td>NaN</td>\n",
       "      <td>NaN</td>\n",
       "      <td>NaN</td>\n",
       "      <td>NaN</td>\n",
       "      <td>NaN</td>\n",
       "      <td>NaN</td>\n",
       "      <td>NaN</td>\n",
       "    </tr>\n",
       "    <tr>\n",
       "      <th>EmployeeNumber</th>\n",
       "      <td>-0.010145</td>\n",
       "      <td>-0.050990</td>\n",
       "      <td>0.032916</td>\n",
       "      <td>0.042070</td>\n",
       "      <td>NaN</td>\n",
       "      <td>1.000000</td>\n",
       "      <td>0.017621</td>\n",
       "      <td>0.035179</td>\n",
       "      <td>-0.006888</td>\n",
       "      <td>-0.018519</td>\n",
       "      <td>...</td>\n",
       "      <td>-0.069861</td>\n",
       "      <td>NaN</td>\n",
       "      <td>0.062227</td>\n",
       "      <td>-0.014365</td>\n",
       "      <td>0.023603</td>\n",
       "      <td>0.010309</td>\n",
       "      <td>-0.011240</td>\n",
       "      <td>-0.008416</td>\n",
       "      <td>-0.009019</td>\n",
       "      <td>-0.009197</td>\n",
       "    </tr>\n",
       "    <tr>\n",
       "      <th>EnvironmentSatisfaction</th>\n",
       "      <td>0.010146</td>\n",
       "      <td>0.018355</td>\n",
       "      <td>-0.016075</td>\n",
       "      <td>-0.027128</td>\n",
       "      <td>NaN</td>\n",
       "      <td>0.017621</td>\n",
       "      <td>1.000000</td>\n",
       "      <td>-0.049857</td>\n",
       "      <td>-0.008278</td>\n",
       "      <td>0.001212</td>\n",
       "      <td>...</td>\n",
       "      <td>0.007665</td>\n",
       "      <td>NaN</td>\n",
       "      <td>0.003432</td>\n",
       "      <td>-0.002693</td>\n",
       "      <td>-0.019359</td>\n",
       "      <td>0.027627</td>\n",
       "      <td>0.001458</td>\n",
       "      <td>0.018007</td>\n",
       "      <td>0.016194</td>\n",
       "      <td>-0.004999</td>\n",
       "    </tr>\n",
       "    <tr>\n",
       "      <th>HourlyRate</th>\n",
       "      <td>0.024287</td>\n",
       "      <td>0.023381</td>\n",
       "      <td>0.031131</td>\n",
       "      <td>0.016775</td>\n",
       "      <td>NaN</td>\n",
       "      <td>0.035179</td>\n",
       "      <td>-0.049857</td>\n",
       "      <td>1.000000</td>\n",
       "      <td>0.042861</td>\n",
       "      <td>-0.027853</td>\n",
       "      <td>...</td>\n",
       "      <td>0.001330</td>\n",
       "      <td>NaN</td>\n",
       "      <td>0.050263</td>\n",
       "      <td>-0.002334</td>\n",
       "      <td>-0.008548</td>\n",
       "      <td>-0.004607</td>\n",
       "      <td>-0.019582</td>\n",
       "      <td>-0.024106</td>\n",
       "      <td>-0.026716</td>\n",
       "      <td>-0.020123</td>\n",
       "    </tr>\n",
       "    <tr>\n",
       "      <th>JobInvolvement</th>\n",
       "      <td>0.029820</td>\n",
       "      <td>0.046135</td>\n",
       "      <td>0.008783</td>\n",
       "      <td>0.042438</td>\n",
       "      <td>NaN</td>\n",
       "      <td>-0.006888</td>\n",
       "      <td>-0.008278</td>\n",
       "      <td>0.042861</td>\n",
       "      <td>1.000000</td>\n",
       "      <td>-0.012630</td>\n",
       "      <td>...</td>\n",
       "      <td>0.034297</td>\n",
       "      <td>NaN</td>\n",
       "      <td>0.021523</td>\n",
       "      <td>-0.005533</td>\n",
       "      <td>-0.015338</td>\n",
       "      <td>-0.014617</td>\n",
       "      <td>-0.021355</td>\n",
       "      <td>0.008717</td>\n",
       "      <td>-0.024184</td>\n",
       "      <td>0.025976</td>\n",
       "    </tr>\n",
       "    <tr>\n",
       "      <th>JobLevel</th>\n",
       "      <td>0.509604</td>\n",
       "      <td>0.002966</td>\n",
       "      <td>0.005303</td>\n",
       "      <td>0.101589</td>\n",
       "      <td>NaN</td>\n",
       "      <td>-0.018519</td>\n",
       "      <td>0.001212</td>\n",
       "      <td>-0.027853</td>\n",
       "      <td>-0.012630</td>\n",
       "      <td>1.000000</td>\n",
       "      <td>...</td>\n",
       "      <td>0.021642</td>\n",
       "      <td>NaN</td>\n",
       "      <td>0.013984</td>\n",
       "      <td>0.782208</td>\n",
       "      <td>-0.018191</td>\n",
       "      <td>0.037818</td>\n",
       "      <td>0.534739</td>\n",
       "      <td>0.389447</td>\n",
       "      <td>0.353885</td>\n",
       "      <td>0.375281</td>\n",
       "    </tr>\n",
       "    <tr>\n",
       "      <th>JobSatisfaction</th>\n",
       "      <td>-0.004892</td>\n",
       "      <td>0.030571</td>\n",
       "      <td>-0.003669</td>\n",
       "      <td>-0.011296</td>\n",
       "      <td>NaN</td>\n",
       "      <td>-0.046247</td>\n",
       "      <td>-0.006784</td>\n",
       "      <td>-0.071335</td>\n",
       "      <td>-0.021476</td>\n",
       "      <td>-0.001944</td>\n",
       "      <td>...</td>\n",
       "      <td>-0.012454</td>\n",
       "      <td>NaN</td>\n",
       "      <td>0.010690</td>\n",
       "      <td>-0.020185</td>\n",
       "      <td>-0.005779</td>\n",
       "      <td>-0.019459</td>\n",
       "      <td>-0.003803</td>\n",
       "      <td>-0.002305</td>\n",
       "      <td>-0.018214</td>\n",
       "      <td>-0.027656</td>\n",
       "    </tr>\n",
       "    <tr>\n",
       "      <th>MonthlyIncome</th>\n",
       "      <td>0.497855</td>\n",
       "      <td>0.007707</td>\n",
       "      <td>-0.017014</td>\n",
       "      <td>0.094961</td>\n",
       "      <td>NaN</td>\n",
       "      <td>-0.014829</td>\n",
       "      <td>-0.006259</td>\n",
       "      <td>-0.015794</td>\n",
       "      <td>-0.015271</td>\n",
       "      <td>0.950300</td>\n",
       "      <td>...</td>\n",
       "      <td>0.025873</td>\n",
       "      <td>NaN</td>\n",
       "      <td>0.005408</td>\n",
       "      <td>0.772893</td>\n",
       "      <td>-0.021736</td>\n",
       "      <td>0.030683</td>\n",
       "      <td>0.514285</td>\n",
       "      <td>0.363818</td>\n",
       "      <td>0.344978</td>\n",
       "      <td>0.344079</td>\n",
       "    </tr>\n",
       "    <tr>\n",
       "      <th>MonthlyRate</th>\n",
       "      <td>0.028051</td>\n",
       "      <td>-0.032182</td>\n",
       "      <td>0.027473</td>\n",
       "      <td>-0.026084</td>\n",
       "      <td>NaN</td>\n",
       "      <td>0.012648</td>\n",
       "      <td>0.037600</td>\n",
       "      <td>-0.015297</td>\n",
       "      <td>-0.016322</td>\n",
       "      <td>0.039563</td>\n",
       "      <td>...</td>\n",
       "      <td>-0.004085</td>\n",
       "      <td>NaN</td>\n",
       "      <td>-0.034323</td>\n",
       "      <td>0.026442</td>\n",
       "      <td>0.001467</td>\n",
       "      <td>0.007963</td>\n",
       "      <td>-0.023655</td>\n",
       "      <td>-0.012815</td>\n",
       "      <td>0.001567</td>\n",
       "      <td>-0.036746</td>\n",
       "    </tr>\n",
       "    <tr>\n",
       "      <th>NumCompaniesWorked</th>\n",
       "      <td>0.299635</td>\n",
       "      <td>0.038153</td>\n",
       "      <td>-0.029251</td>\n",
       "      <td>0.126317</td>\n",
       "      <td>NaN</td>\n",
       "      <td>-0.001251</td>\n",
       "      <td>0.012594</td>\n",
       "      <td>0.022157</td>\n",
       "      <td>0.015012</td>\n",
       "      <td>0.142501</td>\n",
       "      <td>...</td>\n",
       "      <td>0.052733</td>\n",
       "      <td>NaN</td>\n",
       "      <td>0.030075</td>\n",
       "      <td>0.237639</td>\n",
       "      <td>-0.066054</td>\n",
       "      <td>-0.008366</td>\n",
       "      <td>-0.118421</td>\n",
       "      <td>-0.090754</td>\n",
       "      <td>-0.036814</td>\n",
       "      <td>-0.110319</td>\n",
       "    </tr>\n",
       "    <tr>\n",
       "      <th>PercentSalaryHike</th>\n",
       "      <td>0.003634</td>\n",
       "      <td>0.022704</td>\n",
       "      <td>0.040235</td>\n",
       "      <td>-0.011111</td>\n",
       "      <td>NaN</td>\n",
       "      <td>-0.012944</td>\n",
       "      <td>-0.031701</td>\n",
       "      <td>-0.009062</td>\n",
       "      <td>-0.017205</td>\n",
       "      <td>-0.034730</td>\n",
       "      <td>...</td>\n",
       "      <td>-0.040490</td>\n",
       "      <td>NaN</td>\n",
       "      <td>0.007528</td>\n",
       "      <td>-0.020608</td>\n",
       "      <td>-0.005221</td>\n",
       "      <td>-0.003280</td>\n",
       "      <td>-0.035991</td>\n",
       "      <td>-0.001520</td>\n",
       "      <td>-0.022154</td>\n",
       "      <td>-0.011985</td>\n",
       "    </tr>\n",
       "    <tr>\n",
       "      <th>PerformanceRating</th>\n",
       "      <td>0.001904</td>\n",
       "      <td>0.000473</td>\n",
       "      <td>0.027110</td>\n",
       "      <td>-0.024539</td>\n",
       "      <td>NaN</td>\n",
       "      <td>-0.020359</td>\n",
       "      <td>-0.029548</td>\n",
       "      <td>-0.002172</td>\n",
       "      <td>-0.029071</td>\n",
       "      <td>-0.021222</td>\n",
       "      <td>...</td>\n",
       "      <td>-0.031351</td>\n",
       "      <td>NaN</td>\n",
       "      <td>0.003506</td>\n",
       "      <td>0.006744</td>\n",
       "      <td>-0.015579</td>\n",
       "      <td>0.002572</td>\n",
       "      <td>0.003435</td>\n",
       "      <td>0.034986</td>\n",
       "      <td>0.017896</td>\n",
       "      <td>0.022827</td>\n",
       "    </tr>\n",
       "    <tr>\n",
       "      <th>RelationshipSatisfaction</th>\n",
       "      <td>0.053535</td>\n",
       "      <td>0.007846</td>\n",
       "      <td>0.006557</td>\n",
       "      <td>-0.009118</td>\n",
       "      <td>NaN</td>\n",
       "      <td>-0.069861</td>\n",
       "      <td>0.007665</td>\n",
       "      <td>0.001330</td>\n",
       "      <td>0.034297</td>\n",
       "      <td>0.021642</td>\n",
       "      <td>...</td>\n",
       "      <td>1.000000</td>\n",
       "      <td>NaN</td>\n",
       "      <td>-0.045952</td>\n",
       "      <td>0.024054</td>\n",
       "      <td>0.002497</td>\n",
       "      <td>0.019604</td>\n",
       "      <td>0.019367</td>\n",
       "      <td>-0.015123</td>\n",
       "      <td>0.033493</td>\n",
       "      <td>-0.000867</td>\n",
       "    </tr>\n",
       "    <tr>\n",
       "      <th>StandardHours</th>\n",
       "      <td>NaN</td>\n",
       "      <td>NaN</td>\n",
       "      <td>NaN</td>\n",
       "      <td>NaN</td>\n",
       "      <td>NaN</td>\n",
       "      <td>NaN</td>\n",
       "      <td>NaN</td>\n",
       "      <td>NaN</td>\n",
       "      <td>NaN</td>\n",
       "      <td>NaN</td>\n",
       "      <td>...</td>\n",
       "      <td>NaN</td>\n",
       "      <td>NaN</td>\n",
       "      <td>NaN</td>\n",
       "      <td>NaN</td>\n",
       "      <td>NaN</td>\n",
       "      <td>NaN</td>\n",
       "      <td>NaN</td>\n",
       "      <td>NaN</td>\n",
       "      <td>NaN</td>\n",
       "      <td>NaN</td>\n",
       "    </tr>\n",
       "    <tr>\n",
       "      <th>StockOptionLevel</th>\n",
       "      <td>0.037510</td>\n",
       "      <td>0.042143</td>\n",
       "      <td>0.044872</td>\n",
       "      <td>0.018422</td>\n",
       "      <td>NaN</td>\n",
       "      <td>0.062227</td>\n",
       "      <td>0.003432</td>\n",
       "      <td>0.050263</td>\n",
       "      <td>0.021523</td>\n",
       "      <td>0.013984</td>\n",
       "      <td>...</td>\n",
       "      <td>-0.045952</td>\n",
       "      <td>NaN</td>\n",
       "      <td>1.000000</td>\n",
       "      <td>0.010136</td>\n",
       "      <td>0.011274</td>\n",
       "      <td>0.004129</td>\n",
       "      <td>0.015058</td>\n",
       "      <td>0.050818</td>\n",
       "      <td>0.014352</td>\n",
       "      <td>0.024698</td>\n",
       "    </tr>\n",
       "    <tr>\n",
       "      <th>TotalWorkingYears</th>\n",
       "      <td>0.680381</td>\n",
       "      <td>0.014515</td>\n",
       "      <td>0.004628</td>\n",
       "      <td>0.148280</td>\n",
       "      <td>NaN</td>\n",
       "      <td>-0.014365</td>\n",
       "      <td>-0.002693</td>\n",
       "      <td>-0.002334</td>\n",
       "      <td>-0.005533</td>\n",
       "      <td>0.782208</td>\n",
       "      <td>...</td>\n",
       "      <td>0.024054</td>\n",
       "      <td>NaN</td>\n",
       "      <td>0.010136</td>\n",
       "      <td>1.000000</td>\n",
       "      <td>-0.035662</td>\n",
       "      <td>0.001008</td>\n",
       "      <td>0.628133</td>\n",
       "      <td>0.460365</td>\n",
       "      <td>0.404858</td>\n",
       "      <td>0.459188</td>\n",
       "    </tr>\n",
       "    <tr>\n",
       "      <th>TrainingTimesLastYear</th>\n",
       "      <td>-0.019621</td>\n",
       "      <td>0.002453</td>\n",
       "      <td>-0.036942</td>\n",
       "      <td>-0.025100</td>\n",
       "      <td>NaN</td>\n",
       "      <td>0.023603</td>\n",
       "      <td>-0.019359</td>\n",
       "      <td>-0.008548</td>\n",
       "      <td>-0.015338</td>\n",
       "      <td>-0.018191</td>\n",
       "      <td>...</td>\n",
       "      <td>0.002497</td>\n",
       "      <td>NaN</td>\n",
       "      <td>0.011274</td>\n",
       "      <td>-0.035662</td>\n",
       "      <td>1.000000</td>\n",
       "      <td>0.028072</td>\n",
       "      <td>0.003569</td>\n",
       "      <td>-0.005738</td>\n",
       "      <td>-0.002067</td>\n",
       "      <td>-0.004096</td>\n",
       "    </tr>\n",
       "    <tr>\n",
       "      <th>WorkLifeBalance</th>\n",
       "      <td>-0.021490</td>\n",
       "      <td>-0.037848</td>\n",
       "      <td>-0.026556</td>\n",
       "      <td>0.009819</td>\n",
       "      <td>NaN</td>\n",
       "      <td>0.010309</td>\n",
       "      <td>0.027627</td>\n",
       "      <td>-0.004607</td>\n",
       "      <td>-0.014617</td>\n",
       "      <td>0.037818</td>\n",
       "      <td>...</td>\n",
       "      <td>0.019604</td>\n",
       "      <td>NaN</td>\n",
       "      <td>0.004129</td>\n",
       "      <td>0.001008</td>\n",
       "      <td>0.028072</td>\n",
       "      <td>1.000000</td>\n",
       "      <td>0.012089</td>\n",
       "      <td>0.049856</td>\n",
       "      <td>0.008941</td>\n",
       "      <td>0.002759</td>\n",
       "    </tr>\n",
       "    <tr>\n",
       "      <th>YearsAtCompany</th>\n",
       "      <td>0.311309</td>\n",
       "      <td>-0.034055</td>\n",
       "      <td>0.009508</td>\n",
       "      <td>0.069114</td>\n",
       "      <td>NaN</td>\n",
       "      <td>-0.011240</td>\n",
       "      <td>0.001458</td>\n",
       "      <td>-0.019582</td>\n",
       "      <td>-0.021355</td>\n",
       "      <td>0.534739</td>\n",
       "      <td>...</td>\n",
       "      <td>0.019367</td>\n",
       "      <td>NaN</td>\n",
       "      <td>0.015058</td>\n",
       "      <td>0.628133</td>\n",
       "      <td>0.003569</td>\n",
       "      <td>0.012089</td>\n",
       "      <td>1.000000</td>\n",
       "      <td>0.758754</td>\n",
       "      <td>0.618409</td>\n",
       "      <td>0.769212</td>\n",
       "    </tr>\n",
       "    <tr>\n",
       "      <th>YearsInCurrentRole</th>\n",
       "      <td>0.212901</td>\n",
       "      <td>0.009932</td>\n",
       "      <td>0.018845</td>\n",
       "      <td>0.060236</td>\n",
       "      <td>NaN</td>\n",
       "      <td>-0.008416</td>\n",
       "      <td>0.018007</td>\n",
       "      <td>-0.024106</td>\n",
       "      <td>0.008717</td>\n",
       "      <td>0.389447</td>\n",
       "      <td>...</td>\n",
       "      <td>-0.015123</td>\n",
       "      <td>NaN</td>\n",
       "      <td>0.050818</td>\n",
       "      <td>0.460365</td>\n",
       "      <td>-0.005738</td>\n",
       "      <td>0.049856</td>\n",
       "      <td>0.758754</td>\n",
       "      <td>1.000000</td>\n",
       "      <td>0.548056</td>\n",
       "      <td>0.714365</td>\n",
       "    </tr>\n",
       "    <tr>\n",
       "      <th>YearsSinceLastPromotion</th>\n",
       "      <td>0.216513</td>\n",
       "      <td>-0.033229</td>\n",
       "      <td>0.010029</td>\n",
       "      <td>0.054254</td>\n",
       "      <td>NaN</td>\n",
       "      <td>-0.009019</td>\n",
       "      <td>0.016194</td>\n",
       "      <td>-0.026716</td>\n",
       "      <td>-0.024184</td>\n",
       "      <td>0.353885</td>\n",
       "      <td>...</td>\n",
       "      <td>0.033493</td>\n",
       "      <td>NaN</td>\n",
       "      <td>0.014352</td>\n",
       "      <td>0.404858</td>\n",
       "      <td>-0.002067</td>\n",
       "      <td>0.008941</td>\n",
       "      <td>0.618409</td>\n",
       "      <td>0.548056</td>\n",
       "      <td>1.000000</td>\n",
       "      <td>0.510224</td>\n",
       "    </tr>\n",
       "    <tr>\n",
       "      <th>YearsWithCurrManager</th>\n",
       "      <td>0.202089</td>\n",
       "      <td>-0.026363</td>\n",
       "      <td>0.014406</td>\n",
       "      <td>0.069065</td>\n",
       "      <td>NaN</td>\n",
       "      <td>-0.009197</td>\n",
       "      <td>-0.004999</td>\n",
       "      <td>-0.020123</td>\n",
       "      <td>0.025976</td>\n",
       "      <td>0.375281</td>\n",
       "      <td>...</td>\n",
       "      <td>-0.000867</td>\n",
       "      <td>NaN</td>\n",
       "      <td>0.024698</td>\n",
       "      <td>0.459188</td>\n",
       "      <td>-0.004096</td>\n",
       "      <td>0.002759</td>\n",
       "      <td>0.769212</td>\n",
       "      <td>0.714365</td>\n",
       "      <td>0.510224</td>\n",
       "      <td>1.000000</td>\n",
       "    </tr>\n",
       "  </tbody>\n",
       "</table>\n",
       "<p>26 rows × 26 columns</p>\n",
       "</div>"
      ],
      "text/plain": [
       "                               Age  DailyRate  DistanceFromHome  Education  \\\n",
       "Age                       1.000000   0.010661         -0.001686   0.208034   \n",
       "DailyRate                 0.010661   1.000000         -0.004985  -0.016806   \n",
       "DistanceFromHome         -0.001686  -0.004985          1.000000   0.021042   \n",
       "Education                 0.208034  -0.016806          0.021042   1.000000   \n",
       "EmployeeCount                  NaN        NaN               NaN        NaN   \n",
       "EmployeeNumber           -0.010145  -0.050990          0.032916   0.042070   \n",
       "EnvironmentSatisfaction   0.010146   0.018355         -0.016075  -0.027128   \n",
       "HourlyRate                0.024287   0.023381          0.031131   0.016775   \n",
       "JobInvolvement            0.029820   0.046135          0.008783   0.042438   \n",
       "JobLevel                  0.509604   0.002966          0.005303   0.101589   \n",
       "JobSatisfaction          -0.004892   0.030571         -0.003669  -0.011296   \n",
       "MonthlyIncome             0.497855   0.007707         -0.017014   0.094961   \n",
       "MonthlyRate               0.028051  -0.032182          0.027473  -0.026084   \n",
       "NumCompaniesWorked        0.299635   0.038153         -0.029251   0.126317   \n",
       "PercentSalaryHike         0.003634   0.022704          0.040235  -0.011111   \n",
       "PerformanceRating         0.001904   0.000473          0.027110  -0.024539   \n",
       "RelationshipSatisfaction  0.053535   0.007846          0.006557  -0.009118   \n",
       "StandardHours                  NaN        NaN               NaN        NaN   \n",
       "StockOptionLevel          0.037510   0.042143          0.044872   0.018422   \n",
       "TotalWorkingYears         0.680381   0.014515          0.004628   0.148280   \n",
       "TrainingTimesLastYear    -0.019621   0.002453         -0.036942  -0.025100   \n",
       "WorkLifeBalance          -0.021490  -0.037848         -0.026556   0.009819   \n",
       "YearsAtCompany            0.311309  -0.034055          0.009508   0.069114   \n",
       "YearsInCurrentRole        0.212901   0.009932          0.018845   0.060236   \n",
       "YearsSinceLastPromotion   0.216513  -0.033229          0.010029   0.054254   \n",
       "YearsWithCurrManager      0.202089  -0.026363          0.014406   0.069065   \n",
       "\n",
       "                          EmployeeCount  EmployeeNumber  \\\n",
       "Age                                 NaN       -0.010145   \n",
       "DailyRate                           NaN       -0.050990   \n",
       "DistanceFromHome                    NaN        0.032916   \n",
       "Education                           NaN        0.042070   \n",
       "EmployeeCount                       NaN             NaN   \n",
       "EmployeeNumber                      NaN        1.000000   \n",
       "EnvironmentSatisfaction             NaN        0.017621   \n",
       "HourlyRate                          NaN        0.035179   \n",
       "JobInvolvement                      NaN       -0.006888   \n",
       "JobLevel                            NaN       -0.018519   \n",
       "JobSatisfaction                     NaN       -0.046247   \n",
       "MonthlyIncome                       NaN       -0.014829   \n",
       "MonthlyRate                         NaN        0.012648   \n",
       "NumCompaniesWorked                  NaN       -0.001251   \n",
       "PercentSalaryHike                   NaN       -0.012944   \n",
       "PerformanceRating                   NaN       -0.020359   \n",
       "RelationshipSatisfaction            NaN       -0.069861   \n",
       "StandardHours                       NaN             NaN   \n",
       "StockOptionLevel                    NaN        0.062227   \n",
       "TotalWorkingYears                   NaN       -0.014365   \n",
       "TrainingTimesLastYear               NaN        0.023603   \n",
       "WorkLifeBalance                     NaN        0.010309   \n",
       "YearsAtCompany                      NaN       -0.011240   \n",
       "YearsInCurrentRole                  NaN       -0.008416   \n",
       "YearsSinceLastPromotion             NaN       -0.009019   \n",
       "YearsWithCurrManager                NaN       -0.009197   \n",
       "\n",
       "                          EnvironmentSatisfaction  HourlyRate  JobInvolvement  \\\n",
       "Age                                      0.010146    0.024287        0.029820   \n",
       "DailyRate                                0.018355    0.023381        0.046135   \n",
       "DistanceFromHome                        -0.016075    0.031131        0.008783   \n",
       "Education                               -0.027128    0.016775        0.042438   \n",
       "EmployeeCount                                 NaN         NaN             NaN   \n",
       "EmployeeNumber                           0.017621    0.035179       -0.006888   \n",
       "EnvironmentSatisfaction                  1.000000   -0.049857       -0.008278   \n",
       "HourlyRate                              -0.049857    1.000000        0.042861   \n",
       "JobInvolvement                          -0.008278    0.042861        1.000000   \n",
       "JobLevel                                 0.001212   -0.027853       -0.012630   \n",
       "JobSatisfaction                         -0.006784   -0.071335       -0.021476   \n",
       "MonthlyIncome                           -0.006259   -0.015794       -0.015271   \n",
       "MonthlyRate                              0.037600   -0.015297       -0.016322   \n",
       "NumCompaniesWorked                       0.012594    0.022157        0.015012   \n",
       "PercentSalaryHike                       -0.031701   -0.009062       -0.017205   \n",
       "PerformanceRating                       -0.029548   -0.002172       -0.029071   \n",
       "RelationshipSatisfaction                 0.007665    0.001330        0.034297   \n",
       "StandardHours                                 NaN         NaN             NaN   \n",
       "StockOptionLevel                         0.003432    0.050263        0.021523   \n",
       "TotalWorkingYears                       -0.002693   -0.002334       -0.005533   \n",
       "TrainingTimesLastYear                   -0.019359   -0.008548       -0.015338   \n",
       "WorkLifeBalance                          0.027627   -0.004607       -0.014617   \n",
       "YearsAtCompany                           0.001458   -0.019582       -0.021355   \n",
       "YearsInCurrentRole                       0.018007   -0.024106        0.008717   \n",
       "YearsSinceLastPromotion                  0.016194   -0.026716       -0.024184   \n",
       "YearsWithCurrManager                    -0.004999   -0.020123        0.025976   \n",
       "\n",
       "                          JobLevel  ...  RelationshipSatisfaction  \\\n",
       "Age                       0.509604  ...                  0.053535   \n",
       "DailyRate                 0.002966  ...                  0.007846   \n",
       "DistanceFromHome          0.005303  ...                  0.006557   \n",
       "Education                 0.101589  ...                 -0.009118   \n",
       "EmployeeCount                  NaN  ...                       NaN   \n",
       "EmployeeNumber           -0.018519  ...                 -0.069861   \n",
       "EnvironmentSatisfaction   0.001212  ...                  0.007665   \n",
       "HourlyRate               -0.027853  ...                  0.001330   \n",
       "JobInvolvement           -0.012630  ...                  0.034297   \n",
       "JobLevel                  1.000000  ...                  0.021642   \n",
       "JobSatisfaction          -0.001944  ...                 -0.012454   \n",
       "MonthlyIncome             0.950300  ...                  0.025873   \n",
       "MonthlyRate               0.039563  ...                 -0.004085   \n",
       "NumCompaniesWorked        0.142501  ...                  0.052733   \n",
       "PercentSalaryHike        -0.034730  ...                 -0.040490   \n",
       "PerformanceRating        -0.021222  ...                 -0.031351   \n",
       "RelationshipSatisfaction  0.021642  ...                  1.000000   \n",
       "StandardHours                  NaN  ...                       NaN   \n",
       "StockOptionLevel          0.013984  ...                 -0.045952   \n",
       "TotalWorkingYears         0.782208  ...                  0.024054   \n",
       "TrainingTimesLastYear    -0.018191  ...                  0.002497   \n",
       "WorkLifeBalance           0.037818  ...                  0.019604   \n",
       "YearsAtCompany            0.534739  ...                  0.019367   \n",
       "YearsInCurrentRole        0.389447  ...                 -0.015123   \n",
       "YearsSinceLastPromotion   0.353885  ...                  0.033493   \n",
       "YearsWithCurrManager      0.375281  ...                 -0.000867   \n",
       "\n",
       "                          StandardHours  StockOptionLevel  TotalWorkingYears  \\\n",
       "Age                                 NaN          0.037510           0.680381   \n",
       "DailyRate                           NaN          0.042143           0.014515   \n",
       "DistanceFromHome                    NaN          0.044872           0.004628   \n",
       "Education                           NaN          0.018422           0.148280   \n",
       "EmployeeCount                       NaN               NaN                NaN   \n",
       "EmployeeNumber                      NaN          0.062227          -0.014365   \n",
       "EnvironmentSatisfaction             NaN          0.003432          -0.002693   \n",
       "HourlyRate                          NaN          0.050263          -0.002334   \n",
       "JobInvolvement                      NaN          0.021523          -0.005533   \n",
       "JobLevel                            NaN          0.013984           0.782208   \n",
       "JobSatisfaction                     NaN          0.010690          -0.020185   \n",
       "MonthlyIncome                       NaN          0.005408           0.772893   \n",
       "MonthlyRate                         NaN         -0.034323           0.026442   \n",
       "NumCompaniesWorked                  NaN          0.030075           0.237639   \n",
       "PercentSalaryHike                   NaN          0.007528          -0.020608   \n",
       "PerformanceRating                   NaN          0.003506           0.006744   \n",
       "RelationshipSatisfaction            NaN         -0.045952           0.024054   \n",
       "StandardHours                       NaN               NaN                NaN   \n",
       "StockOptionLevel                    NaN          1.000000           0.010136   \n",
       "TotalWorkingYears                   NaN          0.010136           1.000000   \n",
       "TrainingTimesLastYear               NaN          0.011274          -0.035662   \n",
       "WorkLifeBalance                     NaN          0.004129           0.001008   \n",
       "YearsAtCompany                      NaN          0.015058           0.628133   \n",
       "YearsInCurrentRole                  NaN          0.050818           0.460365   \n",
       "YearsSinceLastPromotion             NaN          0.014352           0.404858   \n",
       "YearsWithCurrManager                NaN          0.024698           0.459188   \n",
       "\n",
       "                          TrainingTimesLastYear  WorkLifeBalance  \\\n",
       "Age                                   -0.019621        -0.021490   \n",
       "DailyRate                              0.002453        -0.037848   \n",
       "DistanceFromHome                      -0.036942        -0.026556   \n",
       "Education                             -0.025100         0.009819   \n",
       "EmployeeCount                               NaN              NaN   \n",
       "EmployeeNumber                         0.023603         0.010309   \n",
       "EnvironmentSatisfaction               -0.019359         0.027627   \n",
       "HourlyRate                            -0.008548        -0.004607   \n",
       "JobInvolvement                        -0.015338        -0.014617   \n",
       "JobLevel                              -0.018191         0.037818   \n",
       "JobSatisfaction                       -0.005779        -0.019459   \n",
       "MonthlyIncome                         -0.021736         0.030683   \n",
       "MonthlyRate                            0.001467         0.007963   \n",
       "NumCompaniesWorked                    -0.066054        -0.008366   \n",
       "PercentSalaryHike                     -0.005221        -0.003280   \n",
       "PerformanceRating                     -0.015579         0.002572   \n",
       "RelationshipSatisfaction               0.002497         0.019604   \n",
       "StandardHours                               NaN              NaN   \n",
       "StockOptionLevel                       0.011274         0.004129   \n",
       "TotalWorkingYears                     -0.035662         0.001008   \n",
       "TrainingTimesLastYear                  1.000000         0.028072   \n",
       "WorkLifeBalance                        0.028072         1.000000   \n",
       "YearsAtCompany                         0.003569         0.012089   \n",
       "YearsInCurrentRole                    -0.005738         0.049856   \n",
       "YearsSinceLastPromotion               -0.002067         0.008941   \n",
       "YearsWithCurrManager                  -0.004096         0.002759   \n",
       "\n",
       "                          YearsAtCompany  YearsInCurrentRole  \\\n",
       "Age                             0.311309            0.212901   \n",
       "DailyRate                      -0.034055            0.009932   \n",
       "DistanceFromHome                0.009508            0.018845   \n",
       "Education                       0.069114            0.060236   \n",
       "EmployeeCount                        NaN                 NaN   \n",
       "EmployeeNumber                 -0.011240           -0.008416   \n",
       "EnvironmentSatisfaction         0.001458            0.018007   \n",
       "HourlyRate                     -0.019582           -0.024106   \n",
       "JobInvolvement                 -0.021355            0.008717   \n",
       "JobLevel                        0.534739            0.389447   \n",
       "JobSatisfaction                -0.003803           -0.002305   \n",
       "MonthlyIncome                   0.514285            0.363818   \n",
       "MonthlyRate                    -0.023655           -0.012815   \n",
       "NumCompaniesWorked             -0.118421           -0.090754   \n",
       "PercentSalaryHike              -0.035991           -0.001520   \n",
       "PerformanceRating               0.003435            0.034986   \n",
       "RelationshipSatisfaction        0.019367           -0.015123   \n",
       "StandardHours                        NaN                 NaN   \n",
       "StockOptionLevel                0.015058            0.050818   \n",
       "TotalWorkingYears               0.628133            0.460365   \n",
       "TrainingTimesLastYear           0.003569           -0.005738   \n",
       "WorkLifeBalance                 0.012089            0.049856   \n",
       "YearsAtCompany                  1.000000            0.758754   \n",
       "YearsInCurrentRole              0.758754            1.000000   \n",
       "YearsSinceLastPromotion         0.618409            0.548056   \n",
       "YearsWithCurrManager            0.769212            0.714365   \n",
       "\n",
       "                          YearsSinceLastPromotion  YearsWithCurrManager  \n",
       "Age                                      0.216513              0.202089  \n",
       "DailyRate                               -0.033229             -0.026363  \n",
       "DistanceFromHome                         0.010029              0.014406  \n",
       "Education                                0.054254              0.069065  \n",
       "EmployeeCount                                 NaN                   NaN  \n",
       "EmployeeNumber                          -0.009019             -0.009197  \n",
       "EnvironmentSatisfaction                  0.016194             -0.004999  \n",
       "HourlyRate                              -0.026716             -0.020123  \n",
       "JobInvolvement                          -0.024184              0.025976  \n",
       "JobLevel                                 0.353885              0.375281  \n",
       "JobSatisfaction                         -0.018214             -0.027656  \n",
       "MonthlyIncome                            0.344978              0.344079  \n",
       "MonthlyRate                              0.001567             -0.036746  \n",
       "NumCompaniesWorked                      -0.036814             -0.110319  \n",
       "PercentSalaryHike                       -0.022154             -0.011985  \n",
       "PerformanceRating                        0.017896              0.022827  \n",
       "RelationshipSatisfaction                 0.033493             -0.000867  \n",
       "StandardHours                                 NaN                   NaN  \n",
       "StockOptionLevel                         0.014352              0.024698  \n",
       "TotalWorkingYears                        0.404858              0.459188  \n",
       "TrainingTimesLastYear                   -0.002067             -0.004096  \n",
       "WorkLifeBalance                          0.008941              0.002759  \n",
       "YearsAtCompany                           0.618409              0.769212  \n",
       "YearsInCurrentRole                       0.548056              0.714365  \n",
       "YearsSinceLastPromotion                  1.000000              0.510224  \n",
       "YearsWithCurrManager                     0.510224              1.000000  \n",
       "\n",
       "[26 rows x 26 columns]"
      ]
     },
     "execution_count": 18,
     "metadata": {},
     "output_type": "execute_result"
    }
   ],
   "source": [
    "df.corr()"
   ]
  },
  {
   "cell_type": "code",
   "execution_count": 20,
   "id": "5f9ac165",
   "metadata": {},
   "outputs": [
    {
     "data": {
      "image/png": "[encoded data removed]",
      "text/plain": [
       "<Figure size 1152x720 with 2 Axes>"
      ]
     },
     "metadata": {
      "needs_background": "light"
     },
     "output_type": "display_data"
    }
   ],
   "source": [
    "plt.figure(figsize=(16,10))\n",
    "sns.heatmap(df.corr(), annot=True)\n",
    "plt.show()\n"
   ]
  },
  {
   "cell_type": "code",
   "execution_count": 29,
   "id": "5a9e1c26",
   "metadata": {},
   "outputs": [],
   "source": [
    "df.drop(columns=['EmployeeCount', 'StandardHours'], inplace=True)"
   ]
  },
  {
   "cell_type": "code",
   "execution_count": 39,
   "id": "eba068b9",
   "metadata": {},
   "outputs": [
    {
     "data": {
      "text/plain": [
       "Age                          int64\n",
       "Attrition                   object\n",
       "BusinessTravel              object\n",
       "DailyRate                    int64\n",
       "Department                  object\n",
       "DistanceFromHome             int64\n",
       "Education                    int64\n",
       "EducationField              object\n",
       "EmployeeNumber               int64\n",
       "EnvironmentSatisfaction      int64\n",
       "Gender                      object\n",
       "HourlyRate                   int64\n",
       "JobInvolvement               int64\n",
       "JobLevel                     int64\n",
       "JobRole                     object\n",
       "JobSatisfaction              int64\n",
       "MaritalStatus               object\n",
       "MonthlyIncome                int64\n",
       "MonthlyRate                  int64\n",
       "NumCompaniesWorked           int64\n",
       "Over18                      object\n",
       "OverTime                    object\n",
       "PercentSalaryHike            int64\n",
       "PerformanceRating            int64\n",
       "RelationshipSatisfaction     int64\n",
       "StockOptionLevel             int64\n",
       "TotalWorkingYears            int64\n",
       "TrainingTimesLastYear        int64\n",
       "WorkLifeBalance              int64\n",
       "YearsAtCompany               int64\n",
       "YearsInCurrentRole           int64\n",
       "YearsSinceLastPromotion      int64\n",
       "YearsWithCurrManager         int64\n",
       "dtype: object"
      ]
     },
     "execution_count": 39,
     "metadata": {},
     "output_type": "execute_result"
    }
   ],
   "source": [
    "df.dtypes"
   ]
  },
  {
   "cell_type": "markdown",
   "id": "632cb2f1",
   "metadata": {},
   "source": [
    "## Label Encoding"
   ]
  },
  {
   "cell_type": "code",
   "execution_count": 41,
   "id": "acc7e051",
   "metadata": {},
   "outputs": [],
   "source": [
    "arr = ['Attrition', 'BusinessTravel','Department', 'EducationField', 'Gender', 'JobRole', 'MaritalStatus', 'Over18', 'OverTime']\n",
    "le = LabelEncoder()\n",
    "\n",
    "for i in arr:\n",
    "    df[i] = le.fit_transform(df[i].astype(str))"
   ]
  },
  {
   "cell_type": "code",
   "execution_count": 42,
   "id": "9f6cb52e",
   "metadata": {},
   "outputs": [
    {
     "data": {
      "text/html": [
       "<div>\n",
       "<style scoped>\n",
       "    .dataframe tbody tr th:only-of-type {\n",
       "        vertical-align: middle;\n",
       "    }\n",
       "\n",
       "    .dataframe tbody tr th {\n",
       "        vertical-align: top;\n",
       "    }\n",
       "\n",
       "    .dataframe thead th {\n",
       "        text-align: right;\n",
       "    }\n",
       "</style>\n",
       "<table border=\"1\" class=\"dataframe\">\n",
       "  <thead>\n",
       "    <tr style=\"text-align: right;\">\n",
       "      <th></th>\n",
       "      <th>Age</th>\n",
       "      <th>Attrition</th>\n",
       "      <th>BusinessTravel</th>\n",
       "      <th>DailyRate</th>\n",
       "      <th>Department</th>\n",
       "      <th>DistanceFromHome</th>\n",
       "      <th>Education</th>\n",
       "      <th>EducationField</th>\n",
       "      <th>EmployeeNumber</th>\n",
       "      <th>EnvironmentSatisfaction</th>\n",
       "      <th>...</th>\n",
       "      <th>PerformanceRating</th>\n",
       "      <th>RelationshipSatisfaction</th>\n",
       "      <th>StockOptionLevel</th>\n",
       "      <th>TotalWorkingYears</th>\n",
       "      <th>TrainingTimesLastYear</th>\n",
       "      <th>WorkLifeBalance</th>\n",
       "      <th>YearsAtCompany</th>\n",
       "      <th>YearsInCurrentRole</th>\n",
       "      <th>YearsSinceLastPromotion</th>\n",
       "      <th>YearsWithCurrManager</th>\n",
       "    </tr>\n",
       "  </thead>\n",
       "  <tbody>\n",
       "    <tr>\n",
       "      <th>0</th>\n",
       "      <td>41</td>\n",
       "      <td>1</td>\n",
       "      <td>2</td>\n",
       "      <td>1102</td>\n",
       "      <td>2</td>\n",
       "      <td>1</td>\n",
       "      <td>2</td>\n",
       "      <td>1</td>\n",
       "      <td>1</td>\n",
       "      <td>2</td>\n",
       "      <td>...</td>\n",
       "      <td>3</td>\n",
       "      <td>1</td>\n",
       "      <td>0</td>\n",
       "      <td>8</td>\n",
       "      <td>0</td>\n",
       "      <td>1</td>\n",
       "      <td>6</td>\n",
       "      <td>4</td>\n",
       "      <td>0</td>\n",
       "      <td>5</td>\n",
       "    </tr>\n",
       "    <tr>\n",
       "      <th>1</th>\n",
       "      <td>49</td>\n",
       "      <td>0</td>\n",
       "      <td>1</td>\n",
       "      <td>279</td>\n",
       "      <td>1</td>\n",
       "      <td>8</td>\n",
       "      <td>1</td>\n",
       "      <td>1</td>\n",
       "      <td>2</td>\n",
       "      <td>3</td>\n",
       "      <td>...</td>\n",
       "      <td>4</td>\n",
       "      <td>4</td>\n",
       "      <td>1</td>\n",
       "      <td>10</td>\n",
       "      <td>3</td>\n",
       "      <td>3</td>\n",
       "      <td>10</td>\n",
       "      <td>7</td>\n",
       "      <td>1</td>\n",
       "      <td>7</td>\n",
       "    </tr>\n",
       "    <tr>\n",
       "      <th>2</th>\n",
       "      <td>37</td>\n",
       "      <td>1</td>\n",
       "      <td>2</td>\n",
       "      <td>1373</td>\n",
       "      <td>1</td>\n",
       "      <td>2</td>\n",
       "      <td>2</td>\n",
       "      <td>4</td>\n",
       "      <td>4</td>\n",
       "      <td>4</td>\n",
       "      <td>...</td>\n",
       "      <td>3</td>\n",
       "      <td>2</td>\n",
       "      <td>0</td>\n",
       "      <td>7</td>\n",
       "      <td>3</td>\n",
       "      <td>3</td>\n",
       "      <td>0</td>\n",
       "      <td>0</td>\n",
       "      <td>0</td>\n",
       "      <td>0</td>\n",
       "    </tr>\n",
       "    <tr>\n",
       "      <th>3</th>\n",
       "      <td>33</td>\n",
       "      <td>0</td>\n",
       "      <td>1</td>\n",
       "      <td>1392</td>\n",
       "      <td>1</td>\n",
       "      <td>3</td>\n",
       "      <td>4</td>\n",
       "      <td>1</td>\n",
       "      <td>5</td>\n",
       "      <td>4</td>\n",
       "      <td>...</td>\n",
       "      <td>3</td>\n",
       "      <td>3</td>\n",
       "      <td>0</td>\n",
       "      <td>8</td>\n",
       "      <td>3</td>\n",
       "      <td>3</td>\n",
       "      <td>8</td>\n",
       "      <td>7</td>\n",
       "      <td>3</td>\n",
       "      <td>0</td>\n",
       "    </tr>\n",
       "    <tr>\n",
       "      <th>4</th>\n",
       "      <td>27</td>\n",
       "      <td>0</td>\n",
       "      <td>2</td>\n",
       "      <td>591</td>\n",
       "      <td>1</td>\n",
       "      <td>2</td>\n",
       "      <td>1</td>\n",
       "      <td>3</td>\n",
       "      <td>7</td>\n",
       "      <td>1</td>\n",
       "      <td>...</td>\n",
       "      <td>3</td>\n",
       "      <td>4</td>\n",
       "      <td>1</td>\n",
       "      <td>6</td>\n",
       "      <td>3</td>\n",
       "      <td>3</td>\n",
       "      <td>2</td>\n",
       "      <td>2</td>\n",
       "      <td>2</td>\n",
       "      <td>2</td>\n",
       "    </tr>\n",
       "    <tr>\n",
       "      <th>...</th>\n",
       "      <td>...</td>\n",
       "      <td>...</td>\n",
       "      <td>...</td>\n",
       "      <td>...</td>\n",
       "      <td>...</td>\n",
       "      <td>...</td>\n",
       "      <td>...</td>\n",
       "      <td>...</td>\n",
       "      <td>...</td>\n",
       "      <td>...</td>\n",
       "      <td>...</td>\n",
       "      <td>...</td>\n",
       "      <td>...</td>\n",
       "      <td>...</td>\n",
       "      <td>...</td>\n",
       "      <td>...</td>\n",
       "      <td>...</td>\n",
       "      <td>...</td>\n",
       "      <td>...</td>\n",
       "      <td>...</td>\n",
       "      <td>...</td>\n",
       "    </tr>\n",
       "    <tr>\n",
       "      <th>1465</th>\n",
       "      <td>36</td>\n",
       "      <td>0</td>\n",
       "      <td>1</td>\n",
       "      <td>884</td>\n",
       "      <td>1</td>\n",
       "      <td>23</td>\n",
       "      <td>2</td>\n",
       "      <td>3</td>\n",
       "      <td>2061</td>\n",
       "      <td>3</td>\n",
       "      <td>...</td>\n",
       "      <td>3</td>\n",
       "      <td>3</td>\n",
       "      <td>1</td>\n",
       "      <td>17</td>\n",
       "      <td>3</td>\n",
       "      <td>3</td>\n",
       "      <td>5</td>\n",
       "      <td>2</td>\n",
       "      <td>0</td>\n",
       "      <td>3</td>\n",
       "    </tr>\n",
       "    <tr>\n",
       "      <th>1466</th>\n",
       "      <td>39</td>\n",
       "      <td>0</td>\n",
       "      <td>2</td>\n",
       "      <td>613</td>\n",
       "      <td>1</td>\n",
       "      <td>6</td>\n",
       "      <td>1</td>\n",
       "      <td>3</td>\n",
       "      <td>2062</td>\n",
       "      <td>4</td>\n",
       "      <td>...</td>\n",
       "      <td>3</td>\n",
       "      <td>1</td>\n",
       "      <td>1</td>\n",
       "      <td>9</td>\n",
       "      <td>5</td>\n",
       "      <td>3</td>\n",
       "      <td>7</td>\n",
       "      <td>7</td>\n",
       "      <td>1</td>\n",
       "      <td>7</td>\n",
       "    </tr>\n",
       "    <tr>\n",
       "      <th>1467</th>\n",
       "      <td>27</td>\n",
       "      <td>0</td>\n",
       "      <td>2</td>\n",
       "      <td>155</td>\n",
       "      <td>1</td>\n",
       "      <td>4</td>\n",
       "      <td>3</td>\n",
       "      <td>1</td>\n",
       "      <td>2064</td>\n",
       "      <td>2</td>\n",
       "      <td>...</td>\n",
       "      <td>4</td>\n",
       "      <td>2</td>\n",
       "      <td>1</td>\n",
       "      <td>6</td>\n",
       "      <td>0</td>\n",
       "      <td>3</td>\n",
       "      <td>6</td>\n",
       "      <td>2</td>\n",
       "      <td>0</td>\n",
       "      <td>3</td>\n",
       "    </tr>\n",
       "    <tr>\n",
       "      <th>1468</th>\n",
       "      <td>49</td>\n",
       "      <td>0</td>\n",
       "      <td>1</td>\n",
       "      <td>1023</td>\n",
       "      <td>2</td>\n",
       "      <td>2</td>\n",
       "      <td>3</td>\n",
       "      <td>3</td>\n",
       "      <td>2065</td>\n",
       "      <td>4</td>\n",
       "      <td>...</td>\n",
       "      <td>3</td>\n",
       "      <td>4</td>\n",
       "      <td>0</td>\n",
       "      <td>17</td>\n",
       "      <td>3</td>\n",
       "      <td>2</td>\n",
       "      <td>9</td>\n",
       "      <td>6</td>\n",
       "      <td>0</td>\n",
       "      <td>8</td>\n",
       "    </tr>\n",
       "    <tr>\n",
       "      <th>1469</th>\n",
       "      <td>34</td>\n",
       "      <td>0</td>\n",
       "      <td>2</td>\n",
       "      <td>628</td>\n",
       "      <td>1</td>\n",
       "      <td>8</td>\n",
       "      <td>3</td>\n",
       "      <td>3</td>\n",
       "      <td>2068</td>\n",
       "      <td>2</td>\n",
       "      <td>...</td>\n",
       "      <td>3</td>\n",
       "      <td>1</td>\n",
       "      <td>0</td>\n",
       "      <td>6</td>\n",
       "      <td>3</td>\n",
       "      <td>4</td>\n",
       "      <td>4</td>\n",
       "      <td>3</td>\n",
       "      <td>1</td>\n",
       "      <td>2</td>\n",
       "    </tr>\n",
       "  </tbody>\n",
       "</table>\n",
       "<p>1470 rows × 33 columns</p>\n",
       "</div>"
      ],
      "text/plain": [
       "      Age  Attrition  BusinessTravel  DailyRate  Department  DistanceFromHome  \\\n",
       "0      41          1               2       1102           2                 1   \n",
       "1      49          0               1        279           1                 8   \n",
       "2      37          1               2       1373           1                 2   \n",
       "3      33          0               1       1392           1                 3   \n",
       "4      27          0               2        591           1                 2   \n",
       "...   ...        ...             ...        ...         ...               ...   \n",
       "1465   36          0               1        884           1                23   \n",
       "1466   39          0               2        613           1                 6   \n",
       "1467   27          0               2        155           1                 4   \n",
       "1468   49          0               1       1023           2                 2   \n",
       "1469   34          0               2        628           1                 8   \n",
       "\n",
       "      Education  EducationField  EmployeeNumber  EnvironmentSatisfaction  ...  \\\n",
       "0             2               1               1                        2  ...   \n",
       "1             1               1               2                        3  ...   \n",
       "2             2               4               4                        4  ...   \n",
       "3             4               1               5                        4  ...   \n",
       "4             1               3               7                        1  ...   \n",
       "...         ...             ...             ...                      ...  ...   \n",
       "1465          2               3            2061                        3  ...   \n",
       "1466          1               3            2062                        4  ...   \n",
       "1467          3               1            2064                        2  ...   \n",
       "1468          3               3            2065                        4  ...   \n",
       "1469          3               3            2068                        2  ...   \n",
       "\n",
       "      PerformanceRating  RelationshipSatisfaction  StockOptionLevel  \\\n",
       "0                     3                         1                 0   \n",
       "1                     4                         4                 1   \n",
       "2                     3                         2                 0   \n",
       "3                     3                         3                 0   \n",
       "4                     3                         4                 1   \n",
       "...                 ...                       ...               ...   \n",
       "1465                  3                         3                 1   \n",
       "1466                  3                         1                 1   \n",
       "1467                  4                         2                 1   \n",
       "1468                  3                         4                 0   \n",
       "1469                  3                         1                 0   \n",
       "\n",
       "      TotalWorkingYears  TrainingTimesLastYear  WorkLifeBalance  \\\n",
       "0                     8                      0                1   \n",
       "1                    10                      3                3   \n",
       "2                     7                      3                3   \n",
       "3                     8                      3                3   \n",
       "4                     6                      3                3   \n",
       "...                 ...                    ...              ...   \n",
       "1465                 17                      3                3   \n",
       "1466                  9                      5                3   \n",
       "1467                  6                      0                3   \n",
       "1468                 17                      3                2   \n",
       "1469                  6                      3                4   \n",
       "\n",
       "      YearsAtCompany  YearsInCurrentRole  YearsSinceLastPromotion  \\\n",
       "0                  6                   4                        0   \n",
       "1                 10                   7                        1   \n",
       "2                  0                   0                        0   \n",
       "3                  8                   7                        3   \n",
       "4                  2                   2                        2   \n",
       "...              ...                 ...                      ...   \n",
       "1465               5                   2                        0   \n",
       "1466               7                   7                        1   \n",
       "1467               6                   2                        0   \n",
       "1468               9                   6                        0   \n",
       "1469               4                   3                        1   \n",
       "\n",
       "      YearsWithCurrManager  \n",
       "0                        5  \n",
       "1                        7  \n",
       "2                        0  \n",
       "3                        0  \n",
       "4                        2  \n",
       "...                    ...  \n",
       "1465                     3  \n",
       "1466                     7  \n",
       "1467                     3  \n",
       "1468                     8  \n",
       "1469                     2  \n",
       "\n",
       "[1470 rows x 33 columns]"
      ]
     },
     "execution_count": 42,
     "metadata": {},
     "output_type": "execute_result"
    }
   ],
   "source": [
    "df"
   ]
  },
  {
   "cell_type": "code",
   "execution_count": 44,
   "id": "82e3b571",
   "metadata": {},
   "outputs": [
    {
     "data": {
      "text/plain": [
       "Age                         int64\n",
       "Attrition                   int32\n",
       "BusinessTravel              int32\n",
       "DailyRate                   int64\n",
       "Department                  int32\n",
       "DistanceFromHome            int64\n",
       "Education                   int64\n",
       "EducationField              int32\n",
       "EmployeeNumber              int64\n",
       "EnvironmentSatisfaction     int64\n",
       "Gender                      int32\n",
       "HourlyRate                  int64\n",
       "JobInvolvement              int64\n",
       "JobLevel                    int64\n",
       "JobRole                     int32\n",
       "JobSatisfaction             int64\n",
       "MaritalStatus               int32\n",
       "MonthlyIncome               int64\n",
       "MonthlyRate                 int64\n",
       "NumCompaniesWorked          int64\n",
       "Over18                      int32\n",
       "OverTime                    int32\n",
       "PercentSalaryHike           int64\n",
       "PerformanceRating           int64\n",
       "RelationshipSatisfaction    int64\n",
       "StockOptionLevel            int64\n",
       "TotalWorkingYears           int64\n",
       "TrainingTimesLastYear       int64\n",
       "WorkLifeBalance             int64\n",
       "YearsAtCompany              int64\n",
       "YearsInCurrentRole          int64\n",
       "YearsSinceLastPromotion     int64\n",
       "YearsWithCurrManager        int64\n",
       "dtype: object"
      ]
     },
     "execution_count": 44,
     "metadata": {},
     "output_type": "execute_result"
    }
   ],
   "source": [
    "df.dtypes"
   ]
  },
  {
   "cell_type": "markdown",
   "id": "ac41216b",
   "metadata": {},
   "source": [
    "## Outliers"
   ]
  },
  {
   "cell_type": "code",
   "execution_count": 111,
   "id": "faec15d6",
   "metadata": {},
   "outputs": [
    {
     "data": {
      "image/png": "[encoded data removed]",
      "text/plain": [
       "<Figure size 432x288 with 1 Axes>"
      ]
     },
     "metadata": {
      "needs_background": "light"
     },
     "output_type": "display_data"
    }
   ],
   "source": [
    "sns.boxplot(df['Attrition'])\n",
    "plt.show()"
   ]
  },
  {
   "cell_type": "code",
   "execution_count": 113,
   "id": "72305f2a",
   "metadata": {},
   "outputs": [
    {
     "data": {
      "text/plain": [
       "<AxesSubplot:xlabel='DailyRate'>"
      ]
     },
     "execution_count": 113,
     "metadata": {},
     "output_type": "execute_result"
    },
    {
     "data": {
      "image/png": "[encoded data removed]",
      "text/plain": [
       "<Figure size 432x288 with 1 Axes>"
      ]
     },
     "metadata": {
      "needs_background": "light"
     },
     "output_type": "display_data"
    }
   ],
   "source": [
    "sns.boxplot(df['DailyRate'])"
   ]
  },
  {
   "cell_type": "code",
   "execution_count": 115,
   "id": "10ee68bf",
   "metadata": {},
   "outputs": [
    {
     "data": {
      "text/plain": [
       "<AxesSubplot:xlabel='DistanceFromHome'>"
      ]
     },
     "execution_count": 115,
     "metadata": {},
     "output_type": "execute_result"
    },
    {
     "data": {
      "image/png": "[encoded data removed]",
      "text/plain": [
       "<Figure size 432x288 with 1 Axes>"
      ]
     },
     "metadata": {
      "needs_background": "light"
     },
     "output_type": "display_data"
    }
   ],
   "source": [
    "sns.boxplot(df['DistanceFromHome'])"
   ]
  },
  {
   "cell_type": "code",
   "execution_count": 116,
   "id": "49163280",
   "metadata": {},
   "outputs": [
    {
     "data": {
      "text/plain": [
       "<AxesSubplot:xlabel='JobLevel'>"
      ]
     },
     "execution_count": 116,
     "metadata": {},
     "output_type": "execute_result"
    },
    {
     "data": {
      "image/png": "[encoded data removed]",
      "text/plain": [
       "<Figure size 432x288 with 1 Axes>"
      ]
     },
     "metadata": {
      "needs_background": "light"
     },
     "output_type": "display_data"
    }
   ],
   "source": [
    "sns.boxplot(df['JobLevel'])"
   ]
  },
  {
   "cell_type": "code",
   "execution_count": 117,
   "id": "21abdcfc",
   "metadata": {},
   "outputs": [
    {
     "data": {
      "text/plain": [
       "<AxesSubplot:xlabel='PerformanceRating'>"
      ]
     },
     "execution_count": 117,
     "metadata": {},
     "output_type": "execute_result"
    },
    {
     "data": {
      "image/png": "[encoded data removed]",
      "text/plain": [
       "<Figure size 432x288 with 1 Axes>"
      ]
     },
     "metadata": {
      "needs_background": "light"
     },
     "output_type": "display_data"
    }
   ],
   "source": [
    "sns.boxplot(df['PerformanceRating'])"
   ]
  },
  {
   "cell_type": "code",
   "execution_count": 119,
   "id": "db6397de",
   "metadata": {},
   "outputs": [
    {
     "data": {
      "text/plain": [
       "<AxesSubplot:xlabel='PercentSalaryHike'>"
      ]
     },
     "execution_count": 119,
     "metadata": {},
     "output_type": "execute_result"
    },
    {
     "data": {
      "image/png": "[encoded data removed]",
      "text/plain": [
       "<Figure size 432x288 with 1 Axes>"
      ]
     },
     "metadata": {
      "needs_background": "light"
     },
     "output_type": "display_data"
    }
   ],
   "source": [
    "sns.boxplot(df['PercentSalaryHike'])"
   ]
  },
  {
   "cell_type": "code",
   "execution_count": 120,
   "id": "036b6d36",
   "metadata": {},
   "outputs": [
    {
     "data": {
      "text/plain": [
       "<AxesSubplot:xlabel='RelationshipSatisfaction'>"
      ]
     },
     "execution_count": 120,
     "metadata": {},
     "output_type": "execute_result"
    },
    {
     "data": {
      "image/png": "[encoded data removed]",
      "text/plain": [
       "<Figure size 432x288 with 1 Axes>"
      ]
     },
     "metadata": {
      "needs_background": "light"
     },
     "output_type": "display_data"
    }
   ],
   "source": [
    "sns.boxplot(df['RelationshipSatisfaction'])"
   ]
  },
  {
   "cell_type": "code",
   "execution_count": 121,
   "id": "8935d8d5",
   "metadata": {},
   "outputs": [
    {
     "data": {
      "text/plain": [
       "<AxesSubplot:xlabel='YearsInCurrentRole'>"
      ]
     },
     "execution_count": 121,
     "metadata": {},
     "output_type": "execute_result"
    },
    {
     "data": {
      "image/png": "[encoded data removed]",
      "text/plain": [
       "<Figure size 432x288 with 1 Axes>"
      ]
     },
     "metadata": {
      "needs_background": "light"
     },
     "output_type": "display_data"
    }
   ],
   "source": [
    "sns.boxplot(df['YearsInCurrentRole'])"
   ]
  },
  {
   "cell_type": "code",
   "execution_count": 122,
   "id": "0bce1d30",
   "metadata": {},
   "outputs": [
    {
     "data": {
      "text/plain": [
       "<AxesSubplot:xlabel='YearsAtCompany'>"
      ]
     },
     "execution_count": 122,
     "metadata": {},
     "output_type": "execute_result"
    },
    {
     "data": {
      "image/png": "[encoded data removed]",
      "text/plain": [
       "<Figure size 432x288 with 1 Axes>"
      ]
     },
     "metadata": {
      "needs_background": "light"
     },
     "output_type": "display_data"
    }
   ],
   "source": [
    "sns.boxplot(df['YearsAtCompany'])"
   ]
  },
  {
   "cell_type": "code",
   "execution_count": 123,
   "id": "8c9dfeda",
   "metadata": {},
   "outputs": [
    {
     "data": {
      "text/plain": [
       "<AxesSubplot:xlabel='YearsSinceLastPromotion'>"
      ]
     },
     "execution_count": 123,
     "metadata": {},
     "output_type": "execute_result"
    },
    {
     "data": {
      "image/png": "[encoded data removed]",
      "text/plain": [
       "<Figure size 432x288 with 1 Axes>"
      ]
     },
     "metadata": {
      "needs_background": "light"
     },
     "output_type": "display_data"
    }
   ],
   "source": [
    "sns.boxplot(df['YearsSinceLastPromotion'])"
   ]
  },
  {
   "cell_type": "code",
   "execution_count": 124,
   "id": "b9a2baab",
   "metadata": {},
   "outputs": [
    {
     "data": {
      "text/plain": [
       "<AxesSubplot:xlabel='YearsWithCurrManager'>"
      ]
     },
     "execution_count": 124,
     "metadata": {},
     "output_type": "execute_result"
    },
    {
     "data": {
      "image/png": "[encoded data removed]",
      "text/plain": [
       "<Figure size 432x288 with 1 Axes>"
      ]
     },
     "metadata": {
      "needs_background": "light"
     },
     "output_type": "display_data"
    }
   ],
   "source": [
    "sns.boxplot(df['YearsWithCurrManager'])"
   ]
  },
  {
   "cell_type": "markdown",
   "id": "adac53e0",
   "metadata": {},
   "source": [
    "## Skewness"
   ]
  },
  {
   "cell_type": "code",
   "execution_count": 46,
   "id": "24c222b8",
   "metadata": {},
   "outputs": [
    {
     "data": {
      "text/plain": [
       "Age                         0.413286\n",
       "Attrition                   1.844366\n",
       "BusinessTravel             -1.439006\n",
       "DailyRate                  -0.003519\n",
       "Department                  0.172231\n",
       "DistanceFromHome            0.958118\n",
       "Education                  -0.289681\n",
       "EducationField              0.550371\n",
       "EmployeeNumber              0.016574\n",
       "EnvironmentSatisfaction    -0.321654\n",
       "Gender                     -0.408665\n",
       "HourlyRate                 -0.032311\n",
       "JobInvolvement             -0.498419\n",
       "JobLevel                    1.025401\n",
       "JobRole                    -0.357270\n",
       "JobSatisfaction            -0.329672\n",
       "MaritalStatus              -0.152175\n",
       "MonthlyIncome               1.369817\n",
       "MonthlyRate                 0.018578\n",
       "NumCompaniesWorked          1.026471\n",
       "Over18                      0.000000\n",
       "OverTime                    0.964489\n",
       "PercentSalaryHike           0.821128\n",
       "PerformanceRating           1.921883\n",
       "RelationshipSatisfaction   -0.302828\n",
       "StockOptionLevel            0.968980\n",
       "TotalWorkingYears           1.117172\n",
       "TrainingTimesLastYear       0.553124\n",
       "WorkLifeBalance            -0.552480\n",
       "YearsAtCompany              1.764529\n",
       "YearsInCurrentRole          0.917363\n",
       "YearsSinceLastPromotion     1.984290\n",
       "YearsWithCurrManager        0.833451\n",
       "dtype: float64"
      ]
     },
     "execution_count": 46,
     "metadata": {},
     "output_type": "execute_result"
    }
   ],
   "source": [
    "df.skew()"
   ]
  },
  {
   "cell_type": "code",
   "execution_count": 55,
   "id": "d6894841",
   "metadata": {},
   "outputs": [],
   "source": [
    "# Assigning the input and output data\n",
    "df_x = df.drop(columns = ['Attrition'])\n",
    "y = df['Attrition']"
   ]
  },
  {
   "cell_type": "code",
   "execution_count": 57,
   "id": "86590bda",
   "metadata": {},
   "outputs": [],
   "source": [
    "# StandardScaler is used to scale the data\n",
    "sc = StandardScaler()\n",
    "x = sc.fit_transform(df_x)\n",
    "x = pd.DataFrame(x, columns=df_x.columns)"
   ]
  },
  {
   "cell_type": "code",
   "execution_count": 58,
   "id": "cded1c87",
   "metadata": {},
   "outputs": [
    {
     "data": {
      "text/plain": [
       "Age                         0.413286\n",
       "Attrition                   1.844366\n",
       "BusinessTravel             -1.439006\n",
       "DailyRate                  -0.003519\n",
       "Department                  0.172231\n",
       "DistanceFromHome            0.958118\n",
       "Education                  -0.289681\n",
       "EducationField              0.550371\n",
       "EmployeeNumber              0.016574\n",
       "EnvironmentSatisfaction    -0.321654\n",
       "Gender                     -0.408665\n",
       "HourlyRate                 -0.032311\n",
       "JobInvolvement             -0.498419\n",
       "JobLevel                    1.025401\n",
       "JobRole                    -0.357270\n",
       "JobSatisfaction            -0.329672\n",
       "MaritalStatus              -0.152175\n",
       "MonthlyIncome               1.369817\n",
       "MonthlyRate                 0.018578\n",
       "NumCompaniesWorked          1.026471\n",
       "Over18                      0.000000\n",
       "OverTime                    0.964489\n",
       "PercentSalaryHike           0.821128\n",
       "PerformanceRating           1.921883\n",
       "RelationshipSatisfaction   -0.302828\n",
       "StockOptionLevel            0.968980\n",
       "TotalWorkingYears           1.117172\n",
       "TrainingTimesLastYear       0.553124\n",
       "WorkLifeBalance            -0.552480\n",
       "YearsAtCompany              1.764529\n",
       "YearsInCurrentRole          0.917363\n",
       "YearsSinceLastPromotion     1.984290\n",
       "YearsWithCurrManager        0.833451\n",
       "dtype: float64"
      ]
     },
     "execution_count": 58,
     "metadata": {},
     "output_type": "execute_result"
    }
   ],
   "source": [
    "df.skew()"
   ]
  },
  {
   "cell_type": "code",
   "execution_count": 59,
   "id": "f972b7e8",
   "metadata": {},
   "outputs": [
    {
     "data": {
      "text/html": [
       "<div>\n",
       "<style scoped>\n",
       "    .dataframe tbody tr th:only-of-type {\n",
       "        vertical-align: middle;\n",
       "    }\n",
       "\n",
       "    .dataframe tbody tr th {\n",
       "        vertical-align: top;\n",
       "    }\n",
       "\n",
       "    .dataframe thead th {\n",
       "        text-align: right;\n",
       "    }\n",
       "</style>\n",
       "<table border=\"1\" class=\"dataframe\">\n",
       "  <thead>\n",
       "    <tr style=\"text-align: right;\">\n",
       "      <th></th>\n",
       "      <th>Age</th>\n",
       "      <th>BusinessTravel</th>\n",
       "      <th>DailyRate</th>\n",
       "      <th>Department</th>\n",
       "      <th>DistanceFromHome</th>\n",
       "      <th>Education</th>\n",
       "      <th>EducationField</th>\n",
       "      <th>EmployeeNumber</th>\n",
       "      <th>EnvironmentSatisfaction</th>\n",
       "      <th>Gender</th>\n",
       "      <th>...</th>\n",
       "      <th>PerformanceRating</th>\n",
       "      <th>RelationshipSatisfaction</th>\n",
       "      <th>StockOptionLevel</th>\n",
       "      <th>TotalWorkingYears</th>\n",
       "      <th>TrainingTimesLastYear</th>\n",
       "      <th>WorkLifeBalance</th>\n",
       "      <th>YearsAtCompany</th>\n",
       "      <th>YearsInCurrentRole</th>\n",
       "      <th>YearsSinceLastPromotion</th>\n",
       "      <th>YearsWithCurrManager</th>\n",
       "    </tr>\n",
       "  </thead>\n",
       "  <tbody>\n",
       "    <tr>\n",
       "      <th>0</th>\n",
       "      <td>0.446350</td>\n",
       "      <td>0.590048</td>\n",
       "      <td>0.742527</td>\n",
       "      <td>1.401512</td>\n",
       "      <td>-1.010909</td>\n",
       "      <td>-0.891688</td>\n",
       "      <td>-0.937414</td>\n",
       "      <td>-1.701283</td>\n",
       "      <td>-0.660531</td>\n",
       "      <td>-1.224745</td>\n",
       "      <td>...</td>\n",
       "      <td>-0.426230</td>\n",
       "      <td>-1.584178</td>\n",
       "      <td>-0.932014</td>\n",
       "      <td>-0.421642</td>\n",
       "      <td>-2.171982</td>\n",
       "      <td>-2.493820</td>\n",
       "      <td>-0.164613</td>\n",
       "      <td>-0.063296</td>\n",
       "      <td>-0.679146</td>\n",
       "      <td>0.245834</td>\n",
       "    </tr>\n",
       "    <tr>\n",
       "      <th>1</th>\n",
       "      <td>1.322365</td>\n",
       "      <td>-0.913194</td>\n",
       "      <td>-1.297775</td>\n",
       "      <td>-0.493817</td>\n",
       "      <td>-0.147150</td>\n",
       "      <td>-1.868426</td>\n",
       "      <td>-0.937414</td>\n",
       "      <td>-1.699621</td>\n",
       "      <td>0.254625</td>\n",
       "      <td>0.816497</td>\n",
       "      <td>...</td>\n",
       "      <td>2.346151</td>\n",
       "      <td>1.191438</td>\n",
       "      <td>0.241988</td>\n",
       "      <td>-0.164511</td>\n",
       "      <td>0.155707</td>\n",
       "      <td>0.338096</td>\n",
       "      <td>0.488508</td>\n",
       "      <td>0.764998</td>\n",
       "      <td>-0.368715</td>\n",
       "      <td>0.806541</td>\n",
       "    </tr>\n",
       "    <tr>\n",
       "      <th>2</th>\n",
       "      <td>0.008343</td>\n",
       "      <td>0.590048</td>\n",
       "      <td>1.414363</td>\n",
       "      <td>-0.493817</td>\n",
       "      <td>-0.887515</td>\n",
       "      <td>-0.891688</td>\n",
       "      <td>1.316673</td>\n",
       "      <td>-1.696298</td>\n",
       "      <td>1.169781</td>\n",
       "      <td>0.816497</td>\n",
       "      <td>...</td>\n",
       "      <td>-0.426230</td>\n",
       "      <td>-0.658973</td>\n",
       "      <td>-0.932014</td>\n",
       "      <td>-0.550208</td>\n",
       "      <td>0.155707</td>\n",
       "      <td>0.338096</td>\n",
       "      <td>-1.144294</td>\n",
       "      <td>-1.167687</td>\n",
       "      <td>-0.679146</td>\n",
       "      <td>-1.155935</td>\n",
       "    </tr>\n",
       "    <tr>\n",
       "      <th>3</th>\n",
       "      <td>-0.429664</td>\n",
       "      <td>-0.913194</td>\n",
       "      <td>1.461466</td>\n",
       "      <td>-0.493817</td>\n",
       "      <td>-0.764121</td>\n",
       "      <td>1.061787</td>\n",
       "      <td>-0.937414</td>\n",
       "      <td>-1.694636</td>\n",
       "      <td>1.169781</td>\n",
       "      <td>-1.224745</td>\n",
       "      <td>...</td>\n",
       "      <td>-0.426230</td>\n",
       "      <td>0.266233</td>\n",
       "      <td>-0.932014</td>\n",
       "      <td>-0.421642</td>\n",
       "      <td>0.155707</td>\n",
       "      <td>0.338096</td>\n",
       "      <td>0.161947</td>\n",
       "      <td>0.764998</td>\n",
       "      <td>0.252146</td>\n",
       "      <td>-1.155935</td>\n",
       "    </tr>\n",
       "    <tr>\n",
       "      <th>4</th>\n",
       "      <td>-1.086676</td>\n",
       "      <td>0.590048</td>\n",
       "      <td>-0.524295</td>\n",
       "      <td>-0.493817</td>\n",
       "      <td>-0.887515</td>\n",
       "      <td>-1.868426</td>\n",
       "      <td>0.565311</td>\n",
       "      <td>-1.691313</td>\n",
       "      <td>-1.575686</td>\n",
       "      <td>0.816497</td>\n",
       "      <td>...</td>\n",
       "      <td>-0.426230</td>\n",
       "      <td>1.191438</td>\n",
       "      <td>0.241988</td>\n",
       "      <td>-0.678774</td>\n",
       "      <td>0.155707</td>\n",
       "      <td>0.338096</td>\n",
       "      <td>-0.817734</td>\n",
       "      <td>-0.615492</td>\n",
       "      <td>-0.058285</td>\n",
       "      <td>-0.595227</td>\n",
       "    </tr>\n",
       "    <tr>\n",
       "      <th>...</th>\n",
       "      <td>...</td>\n",
       "      <td>...</td>\n",
       "      <td>...</td>\n",
       "      <td>...</td>\n",
       "      <td>...</td>\n",
       "      <td>...</td>\n",
       "      <td>...</td>\n",
       "      <td>...</td>\n",
       "      <td>...</td>\n",
       "      <td>...</td>\n",
       "      <td>...</td>\n",
       "      <td>...</td>\n",
       "      <td>...</td>\n",
       "      <td>...</td>\n",
       "      <td>...</td>\n",
       "      <td>...</td>\n",
       "      <td>...</td>\n",
       "      <td>...</td>\n",
       "      <td>...</td>\n",
       "      <td>...</td>\n",
       "      <td>...</td>\n",
       "    </tr>\n",
       "    <tr>\n",
       "      <th>1465</th>\n",
       "      <td>-0.101159</td>\n",
       "      <td>-0.913194</td>\n",
       "      <td>0.202082</td>\n",
       "      <td>-0.493817</td>\n",
       "      <td>1.703764</td>\n",
       "      <td>-0.891688</td>\n",
       "      <td>0.565311</td>\n",
       "      <td>1.721670</td>\n",
       "      <td>0.254625</td>\n",
       "      <td>0.816497</td>\n",
       "      <td>...</td>\n",
       "      <td>-0.426230</td>\n",
       "      <td>0.266233</td>\n",
       "      <td>0.241988</td>\n",
       "      <td>0.735447</td>\n",
       "      <td>0.155707</td>\n",
       "      <td>0.338096</td>\n",
       "      <td>-0.327893</td>\n",
       "      <td>-0.615492</td>\n",
       "      <td>-0.679146</td>\n",
       "      <td>-0.314873</td>\n",
       "    </tr>\n",
       "    <tr>\n",
       "      <th>1466</th>\n",
       "      <td>0.227347</td>\n",
       "      <td>0.590048</td>\n",
       "      <td>-0.469754</td>\n",
       "      <td>-0.493817</td>\n",
       "      <td>-0.393938</td>\n",
       "      <td>-1.868426</td>\n",
       "      <td>0.565311</td>\n",
       "      <td>1.723332</td>\n",
       "      <td>1.169781</td>\n",
       "      <td>0.816497</td>\n",
       "      <td>...</td>\n",
       "      <td>-0.426230</td>\n",
       "      <td>-1.584178</td>\n",
       "      <td>0.241988</td>\n",
       "      <td>-0.293077</td>\n",
       "      <td>1.707500</td>\n",
       "      <td>0.338096</td>\n",
       "      <td>-0.001333</td>\n",
       "      <td>0.764998</td>\n",
       "      <td>-0.368715</td>\n",
       "      <td>0.806541</td>\n",
       "    </tr>\n",
       "    <tr>\n",
       "      <th>1467</th>\n",
       "      <td>-1.086676</td>\n",
       "      <td>0.590048</td>\n",
       "      <td>-1.605183</td>\n",
       "      <td>-0.493817</td>\n",
       "      <td>-0.640727</td>\n",
       "      <td>0.085049</td>\n",
       "      <td>-0.937414</td>\n",
       "      <td>1.726655</td>\n",
       "      <td>-0.660531</td>\n",
       "      <td>0.816497</td>\n",
       "      <td>...</td>\n",
       "      <td>2.346151</td>\n",
       "      <td>-0.658973</td>\n",
       "      <td>0.241988</td>\n",
       "      <td>-0.678774</td>\n",
       "      <td>-2.171982</td>\n",
       "      <td>0.338096</td>\n",
       "      <td>-0.164613</td>\n",
       "      <td>-0.615492</td>\n",
       "      <td>-0.679146</td>\n",
       "      <td>-0.314873</td>\n",
       "    </tr>\n",
       "    <tr>\n",
       "      <th>1468</th>\n",
       "      <td>1.322365</td>\n",
       "      <td>-0.913194</td>\n",
       "      <td>0.546677</td>\n",
       "      <td>1.401512</td>\n",
       "      <td>-0.887515</td>\n",
       "      <td>0.085049</td>\n",
       "      <td>0.565311</td>\n",
       "      <td>1.728317</td>\n",
       "      <td>1.169781</td>\n",
       "      <td>0.816497</td>\n",
       "      <td>...</td>\n",
       "      <td>-0.426230</td>\n",
       "      <td>1.191438</td>\n",
       "      <td>-0.932014</td>\n",
       "      <td>0.735447</td>\n",
       "      <td>0.155707</td>\n",
       "      <td>-1.077862</td>\n",
       "      <td>0.325228</td>\n",
       "      <td>0.488900</td>\n",
       "      <td>-0.679146</td>\n",
       "      <td>1.086895</td>\n",
       "    </tr>\n",
       "    <tr>\n",
       "      <th>1469</th>\n",
       "      <td>-0.320163</td>\n",
       "      <td>0.590048</td>\n",
       "      <td>-0.432568</td>\n",
       "      <td>-0.493817</td>\n",
       "      <td>-0.147150</td>\n",
       "      <td>0.085049</td>\n",
       "      <td>0.565311</td>\n",
       "      <td>1.733302</td>\n",
       "      <td>-0.660531</td>\n",
       "      <td>0.816497</td>\n",
       "      <td>...</td>\n",
       "      <td>-0.426230</td>\n",
       "      <td>-1.584178</td>\n",
       "      <td>-0.932014</td>\n",
       "      <td>-0.678774</td>\n",
       "      <td>0.155707</td>\n",
       "      <td>1.754054</td>\n",
       "      <td>-0.491174</td>\n",
       "      <td>-0.339394</td>\n",
       "      <td>-0.368715</td>\n",
       "      <td>-0.595227</td>\n",
       "    </tr>\n",
       "  </tbody>\n",
       "</table>\n",
       "<p>1470 rows × 32 columns</p>\n",
       "</div>"
      ],
      "text/plain": [
       "           Age  BusinessTravel  DailyRate  Department  DistanceFromHome  \\\n",
       "0     0.446350        0.590048   0.742527    1.401512         -1.010909   \n",
       "1     1.322365       -0.913194  -1.297775   -0.493817         -0.147150   \n",
       "2     0.008343        0.590048   1.414363   -0.493817         -0.887515   \n",
       "3    -0.429664       -0.913194   1.461466   -0.493817         -0.764121   \n",
       "4    -1.086676        0.590048  -0.524295   -0.493817         -0.887515   \n",
       "...        ...             ...        ...         ...               ...   \n",
       "1465 -0.101159       -0.913194   0.202082   -0.493817          1.703764   \n",
       "1466  0.227347        0.590048  -0.469754   -0.493817         -0.393938   \n",
       "1467 -1.086676        0.590048  -1.605183   -0.493817         -0.640727   \n",
       "1468  1.322365       -0.913194   0.546677    1.401512         -0.887515   \n",
       "1469 -0.320163        0.590048  -0.432568   -0.493817         -0.147150   \n",
       "\n",
       "      Education  EducationField  EmployeeNumber  EnvironmentSatisfaction  \\\n",
       "0     -0.891688       -0.937414       -1.701283                -0.660531   \n",
       "1     -1.868426       -0.937414       -1.699621                 0.254625   \n",
       "2     -0.891688        1.316673       -1.696298                 1.169781   \n",
       "3      1.061787       -0.937414       -1.694636                 1.169781   \n",
       "4     -1.868426        0.565311       -1.691313                -1.575686   \n",
       "...         ...             ...             ...                      ...   \n",
       "1465  -0.891688        0.565311        1.721670                 0.254625   \n",
       "1466  -1.868426        0.565311        1.723332                 1.169781   \n",
       "1467   0.085049       -0.937414        1.726655                -0.660531   \n",
       "1468   0.085049        0.565311        1.728317                 1.169781   \n",
       "1469   0.085049        0.565311        1.733302                -0.660531   \n",
       "\n",
       "        Gender  ...  PerformanceRating  RelationshipSatisfaction  \\\n",
       "0    -1.224745  ...          -0.426230                 -1.584178   \n",
       "1     0.816497  ...           2.346151                  1.191438   \n",
       "2     0.816497  ...          -0.426230                 -0.658973   \n",
       "3    -1.224745  ...          -0.426230                  0.266233   \n",
       "4     0.816497  ...          -0.426230                  1.191438   \n",
       "...        ...  ...                ...                       ...   \n",
       "1465  0.816497  ...          -0.426230                  0.266233   \n",
       "1466  0.816497  ...          -0.426230                 -1.584178   \n",
       "1467  0.816497  ...           2.346151                 -0.658973   \n",
       "1468  0.816497  ...          -0.426230                  1.191438   \n",
       "1469  0.816497  ...          -0.426230                 -1.584178   \n",
       "\n",
       "      StockOptionLevel  TotalWorkingYears  TrainingTimesLastYear  \\\n",
       "0            -0.932014          -0.421642              -2.171982   \n",
       "1             0.241988          -0.164511               0.155707   \n",
       "2            -0.932014          -0.550208               0.155707   \n",
       "3            -0.932014          -0.421642               0.155707   \n",
       "4             0.241988          -0.678774               0.155707   \n",
       "...                ...                ...                    ...   \n",
       "1465          0.241988           0.735447               0.155707   \n",
       "1466          0.241988          -0.293077               1.707500   \n",
       "1467          0.241988          -0.678774              -2.171982   \n",
       "1468         -0.932014           0.735447               0.155707   \n",
       "1469         -0.932014          -0.678774               0.155707   \n",
       "\n",
       "      WorkLifeBalance  YearsAtCompany  YearsInCurrentRole  \\\n",
       "0           -2.493820       -0.164613           -0.063296   \n",
       "1            0.338096        0.488508            0.764998   \n",
       "2            0.338096       -1.144294           -1.167687   \n",
       "3            0.338096        0.161947            0.764998   \n",
       "4            0.338096       -0.817734           -0.615492   \n",
       "...               ...             ...                 ...   \n",
       "1465         0.338096       -0.327893           -0.615492   \n",
       "1466         0.338096       -0.001333            0.764998   \n",
       "1467         0.338096       -0.164613           -0.615492   \n",
       "1468        -1.077862        0.325228            0.488900   \n",
       "1469         1.754054       -0.491174           -0.339394   \n",
       "\n",
       "      YearsSinceLastPromotion  YearsWithCurrManager  \n",
       "0                   -0.679146              0.245834  \n",
       "1                   -0.368715              0.806541  \n",
       "2                   -0.679146             -1.155935  \n",
       "3                    0.252146             -1.155935  \n",
       "4                   -0.058285             -0.595227  \n",
       "...                       ...                   ...  \n",
       "1465                -0.679146             -0.314873  \n",
       "1466                -0.368715              0.806541  \n",
       "1467                -0.679146             -0.314873  \n",
       "1468                -0.679146              1.086895  \n",
       "1469                -0.368715             -0.595227  \n",
       "\n",
       "[1470 rows x 32 columns]"
      ]
     },
     "execution_count": 59,
     "metadata": {},
     "output_type": "execute_result"
    }
   ],
   "source": [
    "x"
   ]
  },
  {
   "cell_type": "code",
   "execution_count": 60,
   "id": "b727a709",
   "metadata": {},
   "outputs": [
    {
     "data": {
      "text/plain": [
       "0       1\n",
       "1       0\n",
       "2       1\n",
       "3       0\n",
       "4       0\n",
       "       ..\n",
       "1465    0\n",
       "1466    0\n",
       "1467    0\n",
       "1468    0\n",
       "1469    0\n",
       "Name: Attrition, Length: 1470, dtype: int32"
      ]
     },
     "execution_count": 60,
     "metadata": {},
     "output_type": "execute_result"
    }
   ],
   "source": [
    "y"
   ]
  },
  {
   "cell_type": "code",
   "execution_count": 62,
   "id": "f693fc58",
   "metadata": {},
   "outputs": [],
   "source": [
    "def max_acu_score (regr, x, y):\n",
    "    max_acu_score = 0\n",
    "    for r_state in range (42, 100):\n",
    "\n",
    "        x_train, x_test, y_train, y_test = train_test_split(x, y, random_state=r_state, test_size=.20)\n",
    "\n",
    "        regr.fit(x_train, y_train)\n",
    "        y_pred = regr.predict(x_test)\n",
    "        acu_scr = accuracy_score(y_test, y_pred)\n",
    "\n",
    "\n",
    "        #print (\"\\n accuracy score corresponding to state: \", r_state, \" is: \", acu_scr)\n",
    "        if (acu_scr > max_acu_score):\n",
    "            max_acu_score = acu_scr\n",
    "            final_r_state = r_state\n",
    "    print (\"\\nMax accuracy score corresponding to \", final_r_state, \" is: \", max_acu_score)\n",
    "    return final_r_state"
   ]
  },
  {
   "cell_type": "markdown",
   "id": "3608acea",
   "metadata": {},
   "source": [
    "## Classification model"
   ]
  },
  {
   "cell_type": "code",
   "execution_count": 63,
   "id": "abb28f8f",
   "metadata": {},
   "outputs": [],
   "source": [
    "from sklearn.neighbors import KNeighborsClassifier\n",
    "from sklearn.svm import SVC\n",
    "from sklearn.tree import DecisionTreeClassifier\n",
    "from sklearn.ensemble import RandomForestClassifier\n",
    "from sklearn.linear_model import LogisticRegression\n",
    "from sklearn.naive_bayes import GaussianNB"
   ]
  },
  {
   "cell_type": "code",
   "execution_count": 64,
   "id": "71e0e651",
   "metadata": {},
   "outputs": [],
   "source": [
    "x_train, x_test, y_train, y_test = train_test_split(x,y,test_size = .7, random_state =18)"
   ]
  },
  {
   "cell_type": "markdown",
   "id": "70a9afb7",
   "metadata": {},
   "source": [
    "### Logistic Regression"
   ]
  },
  {
   "cell_type": "code",
   "execution_count": 65,
   "id": "dca0f0e6",
   "metadata": {},
   "outputs": [
    {
     "name": "stdout",
     "output_type": "stream",
     "text": [
      "0.8658892128279884\n",
      "[[831  36]\n",
      " [102  60]]\n",
      "              precision    recall  f1-score   support\n",
      "\n",
      "           0       0.89      0.96      0.92       867\n",
      "           1       0.62      0.37      0.47       162\n",
      "\n",
      "    accuracy                           0.87      1029\n",
      "   macro avg       0.76      0.66      0.69      1029\n",
      "weighted avg       0.85      0.87      0.85      1029\n",
      "\n"
     ]
    }
   ],
   "source": [
    "from sklearn.linear_model import LogisticRegression\n",
    "from sklearn.metrics import confusion_matrix,classification_report\n",
    "\n",
    "LR = LogisticRegression()\n",
    "LR.fit(x_train, y_train)\n",
    "predlr = LR.predict(x_test)\n",
    "print(accuracy_score(y_test, predlr))\n",
    "print(confusion_matrix(y_test,predlr))\n",
    "print(classification_report(y_test,predlr))"
   ]
  },
  {
   "cell_type": "markdown",
   "id": "698ae61b",
   "metadata": {},
   "source": [
    "### Decision Tree Classifier"
   ]
  },
  {
   "cell_type": "code",
   "execution_count": 66,
   "id": "9598baa2",
   "metadata": {},
   "outputs": [
    {
     "name": "stdout",
     "output_type": "stream",
     "text": [
      "0.7677356656948494\n",
      "[[739 128]\n",
      " [111  51]]\n",
      "              precision    recall  f1-score   support\n",
      "\n",
      "           0       0.87      0.85      0.86       867\n",
      "           1       0.28      0.31      0.30       162\n",
      "\n",
      "    accuracy                           0.77      1029\n",
      "   macro avg       0.58      0.58      0.58      1029\n",
      "weighted avg       0.78      0.77      0.77      1029\n",
      "\n"
     ]
    }
   ],
   "source": [
    "from sklearn.tree import DecisionTreeClassifier\n",
    "\n",
    "dt = DecisionTreeClassifier()\n",
    "dt.fit(x_train, y_train)\n",
    "preddt = dt.predict(x_test)\n",
    "print(accuracy_score(y_test, preddt))\n",
    "print(confusion_matrix(y_test, preddt))\n",
    "print(classification_report(y_test,preddt))"
   ]
  },
  {
   "cell_type": "markdown",
   "id": "d0179df5",
   "metadata": {},
   "source": [
    "### Random Forest Classifier"
   ]
  },
  {
   "cell_type": "code",
   "execution_count": 67,
   "id": "f457ce6e",
   "metadata": {},
   "outputs": [
    {
     "name": "stdout",
     "output_type": "stream",
     "text": [
      "0.8571428571428571\n",
      "[[862   5]\n",
      " [142  20]]\n",
      "              precision    recall  f1-score   support\n",
      "\n",
      "           0       0.86      0.99      0.92       867\n",
      "           1       0.80      0.12      0.21       162\n",
      "\n",
      "    accuracy                           0.86      1029\n",
      "   macro avg       0.83      0.56      0.57      1029\n",
      "weighted avg       0.85      0.86      0.81      1029\n",
      "\n"
     ]
    }
   ],
   "source": [
    "from sklearn.ensemble import RandomForestClassifier\n",
    "\n",
    "rf = RandomForestClassifier()\n",
    "rf.fit(x_train, y_train)\n",
    "predrf = rf.predict(x_test)\n",
    "print(accuracy_score(y_test,predrf))\n",
    "print(confusion_matrix(y_test,predrf))\n",
    "print(classification_report(y_test,predrf))"
   ]
  },
  {
   "cell_type": "markdown",
   "id": "aa8f0c98",
   "metadata": {},
   "source": [
    "### SVC"
   ]
  },
  {
   "cell_type": "code",
   "execution_count": 68,
   "id": "e7f8841e",
   "metadata": {},
   "outputs": [
    {
     "name": "stdout",
     "output_type": "stream",
     "text": [
      "0.8454810495626822\n",
      "[[866   1]\n",
      " [158   4]]\n",
      "              precision    recall  f1-score   support\n",
      "\n",
      "           0       0.85      1.00      0.92       867\n",
      "           1       0.80      0.02      0.05       162\n",
      "\n",
      "    accuracy                           0.85      1029\n",
      "   macro avg       0.82      0.51      0.48      1029\n",
      "weighted avg       0.84      0.85      0.78      1029\n",
      "\n"
     ]
    }
   ],
   "source": [
    "from sklearn.svm import SVC\n",
    "\n",
    "svc = SVC()\n",
    "svc.fit(x_train,y_train)\n",
    "\n",
    "ad_pred = svc.predict(x_test)\n",
    "print(accuracy_score(y_test,ad_pred))\n",
    "print(confusion_matrix(y_test,ad_pred))\n",
    "print(classification_report(y_test,ad_pred))"
   ]
  },
  {
   "cell_type": "markdown",
   "id": "d9382a80",
   "metadata": {},
   "source": [
    "## Cross Validation"
   ]
  },
  {
   "cell_type": "code",
   "execution_count": 90,
   "id": "e98fb064",
   "metadata": {},
   "outputs": [],
   "source": [
    "from sklearn.model_selection import cross_val_score\n"
   ]
  },
  {
   "cell_type": "code",
   "execution_count": 91,
   "id": "3eabdf8f",
   "metadata": {},
   "outputs": [
    {
     "name": "stdout",
     "output_type": "stream",
     "text": [
      "cross validation score of LogisticRegression model: 0.8693877551020407\n"
     ]
    }
   ],
   "source": [
    "scr=cross_val_score(LR, x, y, cv=5)\n",
    "print(\"cross validation score of LogisticRegression model:\",scr.mean())"
   ]
  },
  {
   "cell_type": "code",
   "execution_count": 92,
   "id": "5c8ce285",
   "metadata": {},
   "outputs": [
    {
     "name": "stdout",
     "output_type": "stream",
     "text": [
      "cross validation score of DecisionTree model: 0.7795918367346938\n"
     ]
    }
   ],
   "source": [
    "scr=cross_val_score(dt, x, y, cv=5)\n",
    "print(\"cross validation score of DecisionTree model:\",scr.mean())"
   ]
  },
  {
   "cell_type": "code",
   "execution_count": 93,
   "id": "b17a4762",
   "metadata": {},
   "outputs": [
    {
     "name": "stdout",
     "output_type": "stream",
     "text": [
      "cross validation score of RandomForest model: 0.8591836734693878\n"
     ]
    }
   ],
   "source": [
    "scr=cross_val_score(rf, x, y, cv=5)\n",
    "print(\"cross validation score of RandomForest model:\",scr.mean())"
   ]
  },
  {
   "cell_type": "code",
   "execution_count": 94,
   "id": "6ed292e4",
   "metadata": {},
   "outputs": [
    {
     "name": "stdout",
     "output_type": "stream",
     "text": [
      "cross validation score of SVC model: 0.8605442176870748\n"
     ]
    }
   ],
   "source": [
    "scr=cross_val_score(svc, x, y, cv=5)\n",
    "print(\"cross validation score of SVC model:\",scr.mean())"
   ]
  },
  {
   "cell_type": "markdown",
   "id": "469b1dfe",
   "metadata": {},
   "source": [
    "Min difference in accuracy and cross validation score is for Random Forest model . so this is our best model"
   ]
  },
  {
   "cell_type": "markdown",
   "id": "ec03bff3",
   "metadata": {},
   "source": [
    "## Hyper parameter tuning"
   ]
  },
  {
   "cell_type": "code",
   "execution_count": 104,
   "id": "0a14b389",
   "metadata": {},
   "outputs": [
    {
     "data": {
      "text/plain": [
       "GridSearchCV(cv=5, estimator=RandomForestClassifier(),\n",
       "             param_grid={'max_features': ['auto', 'sqrt', 'log2']})"
      ]
     },
     "execution_count": 104,
     "metadata": {},
     "output_type": "execute_result"
    }
   ],
   "source": [
    "from sklearn.model_selection import GridSearchCV\n",
    "parameters = {'max_features': ['auto','sqrt','log2']}\n",
    "GCV=GridSearchCV(RandomForestClassifier(),parameters,cv=5)\n",
    "GCV.fit(x_train,y_train)"
   ]
  },
  {
   "cell_type": "code",
   "execution_count": 105,
   "id": "579536bf",
   "metadata": {},
   "outputs": [
    {
     "data": {
      "text/plain": [
       "{'max_features': 'auto'}"
      ]
     },
     "execution_count": 105,
     "metadata": {},
     "output_type": "execute_result"
    }
   ],
   "source": [
    "GCV.best_params_"
   ]
  },
  {
   "cell_type": "code",
   "execution_count": 106,
   "id": "ae438150",
   "metadata": {},
   "outputs": [
    {
     "name": "stdout",
     "output_type": "stream",
     "text": [
      "88.77551020408163\n"
     ]
    }
   ],
   "source": [
    "mod=RandomForestClassifier(max_features='auto',random_state=18)\n",
    "\n",
    "mod.fit(x_train,y_train)\n",
    "pred=mod.predict(x_test)\n",
    "print(accuracy_score(y_test,pred)*100)"
   ]
  },
  {
   "cell_type": "code",
   "execution_count": 107,
   "id": "9588e5cf",
   "metadata": {},
   "outputs": [
    {
     "data": {
      "text/plain": [
       "1.0"
      ]
     },
     "execution_count": 107,
     "metadata": {},
     "output_type": "execute_result"
    }
   ],
   "source": [
    "from sklearn.datasets import load_breast_cancer\n",
    "from sklearn.metrics import roc_auc_score\n",
    "X,y=load_breast_cancer(return_X_y=True)\n",
    "clf2=RandomForestClassifier(max_features='auto',random_state=18).fit(X,y)\n",
    "roc_auc_score(y,clf2.predict_proba(X)[:,1])"
   ]
  },
  {
   "cell_type": "markdown",
   "id": "a5f8ece1",
   "metadata": {},
   "source": [
    "## Saving the model "
   ]
  },
  {
   "cell_type": "code",
   "execution_count": 109,
   "id": "3e26229c",
   "metadata": {},
   "outputs": [
    {
     "data": {
      "text/plain": [
       "['HR Analytics Project.pkl']"
      ]
     },
     "execution_count": 109,
     "metadata": {},
     "output_type": "execute_result"
    }
   ],
   "source": [
    "import joblib\n",
    "joblib.dump(mod,\"HR Analytics Project.pkl\")"
   ]
  },
  {
   "cell_type": "code",
   "execution_count": null,
   "id": "52616d0a",
   "metadata": {},
   "outputs": [],
   "source": []
  }
 ],
 "metadata": {
  "kernelspec": {
   "display_name": "Python 3",
   "language": "python",
   "name": "python3"
  },
  "language_info": {
   "codemirror_mode": {
    "name": "ipython",
    "version": 3
   },
   "file_extension": ".py",
   "mimetype": "text/x-python",
   "name": "python",
   "nbconvert_exporter": "python",
   "pygments_lexer": "ipython3",
   "version": "3.8.8"
  }
 },
 "nbformat": 4,
 "nbformat_minor": 5
}
